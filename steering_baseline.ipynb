{
 "cells": [
  {
   "cell_type": "code",
   "execution_count": 2,
   "id": "5d5a44bd-602f-4ffd-9648-3ec55bb41bbe",
   "metadata": {},
   "outputs": [
    {
     "name": "stdout",
     "output_type": "stream",
     "text": [
      "Запуск на устройстве: cuda\n"
     ]
    }
   ],
   "source": [
    "import os\n",
    "import torch\n",
    "from diffusers import StableDiffusionPipeline\n",
    "\n",
    "DEVICE = \"cuda\" if torch.cuda.is_available() else \"cpu\"\n",
    "print(f\"Запуск на устройстве: {DEVICE}\")"
   ]
  },
  {
   "cell_type": "code",
   "execution_count": 4,
   "id": "4538d33c-3f30-4e9c-a929-70b9d26a6e5d",
   "metadata": {},
   "outputs": [
    {
     "name": "stdout",
     "output_type": "stream",
     "text": [
      "Загрузка модели SD 1.5...\n"
     ]
    },
    {
     "data": {
      "application/vnd.jupyter.widget-view+json": {
       "model_id": "67483d058cef44bca0b378d52212be6b",
       "version_major": 2,
       "version_minor": 0
      },
      "text/plain": [
       "Loading pipeline components...:   0%|          | 0/6 [00:00<?, ?it/s]"
      ]
     },
     "metadata": {},
     "output_type": "display_data"
    },
    {
     "name": "stderr",
     "output_type": "stream",
     "text": [
      "You have disabled the safety checker for <class 'diffusers.pipelines.stable_diffusion.pipeline_stable_diffusion.StableDiffusionPipeline'> by passing `safety_checker=None`. Ensure that you abide to the conditions of the Stable Diffusion license and do not expose unfiltered results in services or applications open to the public. Both the diffusers team and Hugging Face strongly recommend to keep the safety filter enabled in all public facing circumstances, disabling it only for use-cases that involve analyzing network behavior or auditing its results. For more information, please have a look at https://github.com/huggingface/diffusers/pull/254 .\n"
     ]
    }
   ],
   "source": [
    "# Загружаем SD 1.5\n",
    "print(\"Загрузка модели SD 1.5...\")\n",
    "pipe = StableDiffusionPipeline.from_pretrained(\n",
    "    \"/home/mlcore/pig_model\", \n",
    "    cache_dir=\"/home/mlcore/cache\",\n",
    "    torch_dtype=torch.float32\n",
    ").to(DEVICE)\n",
    "pipe.safety_checker = None"
   ]
  },
  {
   "cell_type": "code",
   "execution_count": 5,
   "id": "976e5b6e-c5f3-4a13-9573-69d38ef8600c",
   "metadata": {
    "scrolled": true
   },
   "outputs": [
    {
     "name": "stdout",
     "output_type": "stream",
     "text": [
      "Вычисляем управляющие векторы...\n",
      "Обрабатываем 50 пар промптов, по 3 запусков для каждой...\n"
     ]
    },
    {
     "data": {
      "application/vnd.jupyter.widget-view+json": {
       "model_id": "9583935b21864a15a2790d170ba6db54",
       "version_major": 2,
       "version_minor": 0
      },
      "text/plain": [
       "  0%|          | 0/50 [00:00<?, ?it/s]"
      ]
     },
     "metadata": {},
     "output_type": "display_data"
    },
    {
     "name": "stdout",
     "output_type": "stream",
     "text": [
      "Промпт 1/50, запуск 1/3: 'cyberpunk with horse' и 'cyberpunk with pig'\n",
      "down 6\n",
      "up 15\n",
      "mid 16\n"
     ]
    },
    {
     "data": {
      "application/vnd.jupyter.widget-view+json": {
       "model_id": "c5b34715741e43818e1b9440eea388a4",
       "version_major": 2,
       "version_minor": 0
      },
      "text/plain": [
       "  0%|          | 0/50 [00:00<?, ?it/s]"
      ]
     },
     "metadata": {},
     "output_type": "display_data"
    },
    {
     "name": "stdout",
     "output_type": "stream",
     "text": [
      "down 6\n",
      "up 15\n",
      "mid 16\n"
     ]
    },
    {
     "data": {
      "application/vnd.jupyter.widget-view+json": {
       "model_id": "51a88cb1d7ad42d1bbdda5527ce1767e",
       "version_major": 2,
       "version_minor": 0
      },
      "text/plain": [
       "  0%|          | 0/50 [00:00<?, ?it/s]"
      ]
     },
     "metadata": {},
     "output_type": "display_data"
    },
    {
     "name": "stdout",
     "output_type": "stream",
     "text": [
      "Промпт 1/50, запуск 2/3: 'cyberpunk with horse' и 'cyberpunk with pig'\n",
      "down 6\n",
      "up 15\n",
      "mid 16\n"
     ]
    },
    {
     "data": {
      "application/vnd.jupyter.widget-view+json": {
       "model_id": "51790f74760e459a87b756e407db4ae9",
       "version_major": 2,
       "version_minor": 0
      },
      "text/plain": [
       "  0%|          | 0/50 [00:00<?, ?it/s]"
      ]
     },
     "metadata": {},
     "output_type": "display_data"
    },
    {
     "name": "stdout",
     "output_type": "stream",
     "text": [
      "down 6\n",
      "up 15\n",
      "mid 16\n"
     ]
    },
    {
     "data": {
      "application/vnd.jupyter.widget-view+json": {
       "model_id": "6718e18f656b437596c063091a02cc88",
       "version_major": 2,
       "version_minor": 0
      },
      "text/plain": [
       "  0%|          | 0/50 [00:00<?, ?it/s]"
      ]
     },
     "metadata": {},
     "output_type": "display_data"
    },
    {
     "name": "stdout",
     "output_type": "stream",
     "text": [
      "Промпт 1/50, запуск 3/3: 'cyberpunk with horse' и 'cyberpunk with pig'\n",
      "down 6\n",
      "up 15\n",
      "mid 16\n"
     ]
    },
    {
     "data": {
      "application/vnd.jupyter.widget-view+json": {
       "model_id": "4febb49720bf4559bc11d72bb93b0850",
       "version_major": 2,
       "version_minor": 0
      },
      "text/plain": [
       "  0%|          | 0/50 [00:00<?, ?it/s]"
      ]
     },
     "metadata": {},
     "output_type": "display_data"
    },
    {
     "name": "stdout",
     "output_type": "stream",
     "text": [
      "down 6\n",
      "up 15\n",
      "mid 16\n"
     ]
    },
    {
     "data": {
      "application/vnd.jupyter.widget-view+json": {
       "model_id": "982fc019dbbe4dfe967572203a846c1e",
       "version_major": 2,
       "version_minor": 0
      },
      "text/plain": [
       "  0%|          | 0/50 [00:00<?, ?it/s]"
      ]
     },
     "metadata": {},
     "output_type": "display_data"
    },
    {
     "name": "stdout",
     "output_type": "stream",
     "text": [
      "Промпт 2/50, запуск 1/3: 'watercolor painting with horse' и 'watercolor painting with pig'\n",
      "down 6\n",
      "up 15\n",
      "mid 16\n"
     ]
    },
    {
     "data": {
      "application/vnd.jupyter.widget-view+json": {
       "model_id": "42bb2cf8b9494b38a3d8b15f7cafb0c3",
       "version_major": 2,
       "version_minor": 0
      },
      "text/plain": [
       "  0%|          | 0/50 [00:00<?, ?it/s]"
      ]
     },
     "metadata": {},
     "output_type": "display_data"
    },
    {
     "name": "stdout",
     "output_type": "stream",
     "text": [
      "down 6\n",
      "up 15\n",
      "mid 16\n"
     ]
    },
    {
     "data": {
      "application/vnd.jupyter.widget-view+json": {
       "model_id": "8af4d834f90f47ada5c45f43e3122048",
       "version_major": 2,
       "version_minor": 0
      },
      "text/plain": [
       "  0%|          | 0/50 [00:00<?, ?it/s]"
      ]
     },
     "metadata": {},
     "output_type": "display_data"
    },
    {
     "name": "stdout",
     "output_type": "stream",
     "text": [
      "Промпт 2/50, запуск 2/3: 'watercolor painting with horse' и 'watercolor painting with pig'\n",
      "down 6\n",
      "up 15\n",
      "mid 16\n"
     ]
    },
    {
     "data": {
      "application/vnd.jupyter.widget-view+json": {
       "model_id": "97cd248452d74b2ca4e63246246035d0",
       "version_major": 2,
       "version_minor": 0
      },
      "text/plain": [
       "  0%|          | 0/50 [00:00<?, ?it/s]"
      ]
     },
     "metadata": {},
     "output_type": "display_data"
    },
    {
     "name": "stdout",
     "output_type": "stream",
     "text": [
      "down 6\n",
      "up 15\n",
      "mid 16\n"
     ]
    },
    {
     "data": {
      "application/vnd.jupyter.widget-view+json": {
       "model_id": "6314d2992a24496a8c8b0b006ba54909",
       "version_major": 2,
       "version_minor": 0
      },
      "text/plain": [
       "  0%|          | 0/50 [00:00<?, ?it/s]"
      ]
     },
     "metadata": {},
     "output_type": "display_data"
    },
    {
     "name": "stdout",
     "output_type": "stream",
     "text": [
      "Промпт 2/50, запуск 3/3: 'watercolor painting with horse' и 'watercolor painting with pig'\n",
      "down 6\n",
      "up 15\n",
      "mid 16\n"
     ]
    },
    {
     "data": {
      "application/vnd.jupyter.widget-view+json": {
       "model_id": "bf2403eff2f149a187abbe1798a1f6ec",
       "version_major": 2,
       "version_minor": 0
      },
      "text/plain": [
       "  0%|          | 0/50 [00:00<?, ?it/s]"
      ]
     },
     "metadata": {},
     "output_type": "display_data"
    },
    {
     "name": "stdout",
     "output_type": "stream",
     "text": [
      "down 6\n",
      "up 15\n",
      "mid 16\n"
     ]
    },
    {
     "data": {
      "application/vnd.jupyter.widget-view+json": {
       "model_id": "47b202e73f9c481b8f56b90a5919f710",
       "version_major": 2,
       "version_minor": 0
      },
      "text/plain": [
       "  0%|          | 0/50 [00:00<?, ?it/s]"
      ]
     },
     "metadata": {},
     "output_type": "display_data"
    },
    {
     "name": "stdout",
     "output_type": "stream",
     "text": [
      "Промпт 3/50, запуск 1/3: 'steampunk with horse' и 'steampunk with pig'\n",
      "down 6\n",
      "up 15\n",
      "mid 16\n"
     ]
    },
    {
     "data": {
      "application/vnd.jupyter.widget-view+json": {
       "model_id": "ae4b02ff615946a29323e5ba774b6737",
       "version_major": 2,
       "version_minor": 0
      },
      "text/plain": [
       "  0%|          | 0/50 [00:00<?, ?it/s]"
      ]
     },
     "metadata": {},
     "output_type": "display_data"
    },
    {
     "name": "stdout",
     "output_type": "stream",
     "text": [
      "down 6\n",
      "up 15\n",
      "mid 16\n"
     ]
    },
    {
     "data": {
      "application/vnd.jupyter.widget-view+json": {
       "model_id": "09b5c267afdf4d9f82cb0f5285cc8f97",
       "version_major": 2,
       "version_minor": 0
      },
      "text/plain": [
       "  0%|          | 0/50 [00:00<?, ?it/s]"
      ]
     },
     "metadata": {},
     "output_type": "display_data"
    },
    {
     "name": "stdout",
     "output_type": "stream",
     "text": [
      "Промпт 3/50, запуск 2/3: 'steampunk with horse' и 'steampunk with pig'\n",
      "down 6\n",
      "up 15\n",
      "mid 16\n"
     ]
    },
    {
     "data": {
      "application/vnd.jupyter.widget-view+json": {
       "model_id": "03f2582d30164b23a336be483e8fc431",
       "version_major": 2,
       "version_minor": 0
      },
      "text/plain": [
       "  0%|          | 0/50 [00:00<?, ?it/s]"
      ]
     },
     "metadata": {},
     "output_type": "display_data"
    },
    {
     "name": "stdout",
     "output_type": "stream",
     "text": [
      "down 6\n",
      "up 15\n",
      "mid 16\n"
     ]
    },
    {
     "data": {
      "application/vnd.jupyter.widget-view+json": {
       "model_id": "bd6cc39e4cd540bfa99cee0527df5414",
       "version_major": 2,
       "version_minor": 0
      },
      "text/plain": [
       "  0%|          | 0/50 [00:00<?, ?it/s]"
      ]
     },
     "metadata": {},
     "output_type": "display_data"
    },
    {
     "name": "stdout",
     "output_type": "stream",
     "text": [
      "Промпт 3/50, запуск 3/3: 'steampunk with horse' и 'steampunk with pig'\n",
      "down 6\n",
      "up 15\n",
      "mid 16\n"
     ]
    },
    {
     "data": {
      "application/vnd.jupyter.widget-view+json": {
       "model_id": "fa7e7dc70cab47fe8d25164b2e8a74fc",
       "version_major": 2,
       "version_minor": 0
      },
      "text/plain": [
       "  0%|          | 0/50 [00:00<?, ?it/s]"
      ]
     },
     "metadata": {},
     "output_type": "display_data"
    },
    {
     "name": "stdout",
     "output_type": "stream",
     "text": [
      "down 6\n",
      "up 15\n",
      "mid 16\n"
     ]
    },
    {
     "data": {
      "application/vnd.jupyter.widget-view+json": {
       "model_id": "9bc716c20d804d7a907eda14d3ea1678",
       "version_major": 2,
       "version_minor": 0
      },
      "text/plain": [
       "  0%|          | 0/50 [00:00<?, ?it/s]"
      ]
     },
     "metadata": {},
     "output_type": "display_data"
    },
    {
     "name": "stdout",
     "output_type": "stream",
     "text": [
      "Промпт 4/50, запуск 1/3: 'vaporwave with horse' и 'vaporwave with pig'\n",
      "down 6\n",
      "up 15\n",
      "mid 16\n"
     ]
    },
    {
     "data": {
      "application/vnd.jupyter.widget-view+json": {
       "model_id": "0610f72788264e3f9eeeaebd39d03450",
       "version_major": 2,
       "version_minor": 0
      },
      "text/plain": [
       "  0%|          | 0/50 [00:00<?, ?it/s]"
      ]
     },
     "metadata": {},
     "output_type": "display_data"
    },
    {
     "name": "stdout",
     "output_type": "stream",
     "text": [
      "down 6\n",
      "up 15\n",
      "mid 16\n"
     ]
    },
    {
     "data": {
      "application/vnd.jupyter.widget-view+json": {
       "model_id": "58cb4125434542fea9c4fe198675048a",
       "version_major": 2,
       "version_minor": 0
      },
      "text/plain": [
       "  0%|          | 0/50 [00:00<?, ?it/s]"
      ]
     },
     "metadata": {},
     "output_type": "display_data"
    },
    {
     "name": "stdout",
     "output_type": "stream",
     "text": [
      "Промпт 4/50, запуск 2/3: 'vaporwave with horse' и 'vaporwave with pig'\n",
      "down 6\n",
      "up 15\n",
      "mid 16\n"
     ]
    },
    {
     "data": {
      "application/vnd.jupyter.widget-view+json": {
       "model_id": "f5d5022b581c44c99a405c5f18b7778a",
       "version_major": 2,
       "version_minor": 0
      },
      "text/plain": [
       "  0%|          | 0/50 [00:00<?, ?it/s]"
      ]
     },
     "metadata": {},
     "output_type": "display_data"
    },
    {
     "name": "stdout",
     "output_type": "stream",
     "text": [
      "down 6\n",
      "up 15\n",
      "mid 16\n"
     ]
    },
    {
     "data": {
      "application/vnd.jupyter.widget-view+json": {
       "model_id": "aae2908d85bf473eb2d33ad21947a75d",
       "version_major": 2,
       "version_minor": 0
      },
      "text/plain": [
       "  0%|          | 0/50 [00:00<?, ?it/s]"
      ]
     },
     "metadata": {},
     "output_type": "display_data"
    },
    {
     "name": "stdout",
     "output_type": "stream",
     "text": [
      "Промпт 4/50, запуск 3/3: 'vaporwave with horse' и 'vaporwave with pig'\n",
      "down 6\n",
      "up 15\n",
      "mid 16\n"
     ]
    },
    {
     "data": {
      "application/vnd.jupyter.widget-view+json": {
       "model_id": "90499c9fc3454c439cb03c576cf53039",
       "version_major": 2,
       "version_minor": 0
      },
      "text/plain": [
       "  0%|          | 0/50 [00:00<?, ?it/s]"
      ]
     },
     "metadata": {},
     "output_type": "display_data"
    },
    {
     "name": "stdout",
     "output_type": "stream",
     "text": [
      "down 6\n",
      "up 15\n",
      "mid 16\n"
     ]
    },
    {
     "data": {
      "application/vnd.jupyter.widget-view+json": {
       "model_id": "2775b6e77c0343099f32eadfa931129d",
       "version_major": 2,
       "version_minor": 0
      },
      "text/plain": [
       "  0%|          | 0/50 [00:00<?, ?it/s]"
      ]
     },
     "metadata": {},
     "output_type": "display_data"
    },
    {
     "name": "stdout",
     "output_type": "stream",
     "text": [
      "Промпт 5/50, запуск 1/3: 'minimalist with horse' и 'minimalist with pig'\n",
      "down 6\n",
      "up 15\n",
      "mid 16\n"
     ]
    },
    {
     "data": {
      "application/vnd.jupyter.widget-view+json": {
       "model_id": "d1914dd2119447fbb562ec64c7f7e577",
       "version_major": 2,
       "version_minor": 0
      },
      "text/plain": [
       "  0%|          | 0/50 [00:00<?, ?it/s]"
      ]
     },
     "metadata": {},
     "output_type": "display_data"
    },
    {
     "name": "stdout",
     "output_type": "stream",
     "text": [
      "down 6\n",
      "up 15\n",
      "mid 16\n"
     ]
    },
    {
     "data": {
      "application/vnd.jupyter.widget-view+json": {
       "model_id": "100c893ee5e44d6496fe111409b8677b",
       "version_major": 2,
       "version_minor": 0
      },
      "text/plain": [
       "  0%|          | 0/50 [00:00<?, ?it/s]"
      ]
     },
     "metadata": {},
     "output_type": "display_data"
    },
    {
     "name": "stdout",
     "output_type": "stream",
     "text": [
      "Промпт 5/50, запуск 2/3: 'minimalist with horse' и 'minimalist with pig'\n",
      "down 6\n",
      "up 15\n",
      "mid 16\n"
     ]
    },
    {
     "data": {
      "application/vnd.jupyter.widget-view+json": {
       "model_id": "2fc6953f33124437be112bf0f8aaaec9",
       "version_major": 2,
       "version_minor": 0
      },
      "text/plain": [
       "  0%|          | 0/50 [00:00<?, ?it/s]"
      ]
     },
     "metadata": {},
     "output_type": "display_data"
    },
    {
     "name": "stdout",
     "output_type": "stream",
     "text": [
      "down 6\n",
      "up 15\n",
      "mid 16\n"
     ]
    },
    {
     "data": {
      "application/vnd.jupyter.widget-view+json": {
       "model_id": "0acede1d7a5a43458c9857db91acdff2",
       "version_major": 2,
       "version_minor": 0
      },
      "text/plain": [
       "  0%|          | 0/50 [00:00<?, ?it/s]"
      ]
     },
     "metadata": {},
     "output_type": "display_data"
    },
    {
     "name": "stdout",
     "output_type": "stream",
     "text": [
      "Промпт 5/50, запуск 3/3: 'minimalist with horse' и 'minimalist with pig'\n",
      "down 6\n",
      "up 15\n",
      "mid 16\n"
     ]
    },
    {
     "data": {
      "application/vnd.jupyter.widget-view+json": {
       "model_id": "9ca88d6a762b40eca4be4d2ba1b04dbe",
       "version_major": 2,
       "version_minor": 0
      },
      "text/plain": [
       "  0%|          | 0/50 [00:00<?, ?it/s]"
      ]
     },
     "metadata": {},
     "output_type": "display_data"
    },
    {
     "name": "stdout",
     "output_type": "stream",
     "text": [
      "down 6\n",
      "up 15\n",
      "mid 16\n"
     ]
    },
    {
     "data": {
      "application/vnd.jupyter.widget-view+json": {
       "model_id": "97f907b62e0248e5ba991e7a0aa7073e",
       "version_major": 2,
       "version_minor": 0
      },
      "text/plain": [
       "  0%|          | 0/50 [00:00<?, ?it/s]"
      ]
     },
     "metadata": {},
     "output_type": "display_data"
    },
    {
     "name": "stdout",
     "output_type": "stream",
     "text": [
      "Промпт 6/50, запуск 1/3: 'hyperrealistic with horse' и 'hyperrealistic with pig'\n",
      "down 6\n",
      "up 15\n",
      "mid 16\n"
     ]
    },
    {
     "data": {
      "application/vnd.jupyter.widget-view+json": {
       "model_id": "f1d6db0a95f74dbca3267f66dac7872c",
       "version_major": 2,
       "version_minor": 0
      },
      "text/plain": [
       "  0%|          | 0/50 [00:00<?, ?it/s]"
      ]
     },
     "metadata": {},
     "output_type": "display_data"
    },
    {
     "name": "stdout",
     "output_type": "stream",
     "text": [
      "down 6\n",
      "up 15\n",
      "mid 16\n"
     ]
    },
    {
     "data": {
      "application/vnd.jupyter.widget-view+json": {
       "model_id": "af163ea826fa4e40b4ae20aba447e37a",
       "version_major": 2,
       "version_minor": 0
      },
      "text/plain": [
       "  0%|          | 0/50 [00:00<?, ?it/s]"
      ]
     },
     "metadata": {},
     "output_type": "display_data"
    },
    {
     "name": "stdout",
     "output_type": "stream",
     "text": [
      "Промпт 6/50, запуск 2/3: 'hyperrealistic with horse' и 'hyperrealistic with pig'\n",
      "down 6\n",
      "up 15\n",
      "mid 16\n"
     ]
    },
    {
     "data": {
      "application/vnd.jupyter.widget-view+json": {
       "model_id": "8a45566cc2a64f00864477aaa12c98d7",
       "version_major": 2,
       "version_minor": 0
      },
      "text/plain": [
       "  0%|          | 0/50 [00:00<?, ?it/s]"
      ]
     },
     "metadata": {},
     "output_type": "display_data"
    },
    {
     "name": "stdout",
     "output_type": "stream",
     "text": [
      "down 6\n",
      "up 15\n",
      "mid 16\n"
     ]
    },
    {
     "data": {
      "application/vnd.jupyter.widget-view+json": {
       "model_id": "8abbc6ef382f463db245c2660ed8f258",
       "version_major": 2,
       "version_minor": 0
      },
      "text/plain": [
       "  0%|          | 0/50 [00:00<?, ?it/s]"
      ]
     },
     "metadata": {},
     "output_type": "display_data"
    },
    {
     "name": "stdout",
     "output_type": "stream",
     "text": [
      "Промпт 6/50, запуск 3/3: 'hyperrealistic with horse' и 'hyperrealistic with pig'\n",
      "down 6\n",
      "up 15\n",
      "mid 16\n"
     ]
    },
    {
     "data": {
      "application/vnd.jupyter.widget-view+json": {
       "model_id": "0b0fbd704a0645c89d0b1ab7e3befd3c",
       "version_major": 2,
       "version_minor": 0
      },
      "text/plain": [
       "  0%|          | 0/50 [00:00<?, ?it/s]"
      ]
     },
     "metadata": {},
     "output_type": "display_data"
    },
    {
     "name": "stdout",
     "output_type": "stream",
     "text": [
      "down 6\n",
      "up 15\n",
      "mid 16\n"
     ]
    },
    {
     "data": {
      "application/vnd.jupyter.widget-view+json": {
       "model_id": "87bfd49411794a76b6d704b6294a69fb",
       "version_major": 2,
       "version_minor": 0
      },
      "text/plain": [
       "  0%|          | 0/50 [00:00<?, ?it/s]"
      ]
     },
     "metadata": {},
     "output_type": "display_data"
    },
    {
     "name": "stdout",
     "output_type": "stream",
     "text": [
      "Промпт 7/50, запуск 1/3: 'ancient egyptian with horse' и 'ancient egyptian with pig'\n",
      "down 6\n",
      "up 15\n",
      "mid 16\n"
     ]
    },
    {
     "data": {
      "application/vnd.jupyter.widget-view+json": {
       "model_id": "4eafb5d5601046c18f960fcf9de98fbf",
       "version_major": 2,
       "version_minor": 0
      },
      "text/plain": [
       "  0%|          | 0/50 [00:00<?, ?it/s]"
      ]
     },
     "metadata": {},
     "output_type": "display_data"
    },
    {
     "name": "stdout",
     "output_type": "stream",
     "text": [
      "down 6\n",
      "up 15\n",
      "mid 16\n"
     ]
    },
    {
     "data": {
      "application/vnd.jupyter.widget-view+json": {
       "model_id": "861d5ea63af34cd6bfede96775e2139e",
       "version_major": 2,
       "version_minor": 0
      },
      "text/plain": [
       "  0%|          | 0/50 [00:00<?, ?it/s]"
      ]
     },
     "metadata": {},
     "output_type": "display_data"
    },
    {
     "name": "stdout",
     "output_type": "stream",
     "text": [
      "Промпт 7/50, запуск 2/3: 'ancient egyptian with horse' и 'ancient egyptian with pig'\n",
      "down 6\n",
      "up 15\n",
      "mid 16\n"
     ]
    },
    {
     "data": {
      "application/vnd.jupyter.widget-view+json": {
       "model_id": "d3385bc442254c3da0dae064a1d2df6e",
       "version_major": 2,
       "version_minor": 0
      },
      "text/plain": [
       "  0%|          | 0/50 [00:00<?, ?it/s]"
      ]
     },
     "metadata": {},
     "output_type": "display_data"
    },
    {
     "name": "stdout",
     "output_type": "stream",
     "text": [
      "down 6\n",
      "up 15\n",
      "mid 16\n"
     ]
    },
    {
     "data": {
      "application/vnd.jupyter.widget-view+json": {
       "model_id": "fb30d54023d04c9d9c11c4a6898b26fe",
       "version_major": 2,
       "version_minor": 0
      },
      "text/plain": [
       "  0%|          | 0/50 [00:00<?, ?it/s]"
      ]
     },
     "metadata": {},
     "output_type": "display_data"
    },
    {
     "name": "stdout",
     "output_type": "stream",
     "text": [
      "Промпт 7/50, запуск 3/3: 'ancient egyptian with horse' и 'ancient egyptian with pig'\n",
      "down 6\n",
      "up 15\n",
      "mid 16\n"
     ]
    },
    {
     "data": {
      "application/vnd.jupyter.widget-view+json": {
       "model_id": "1f5230097fe246bbbbdfa4cab550d31f",
       "version_major": 2,
       "version_minor": 0
      },
      "text/plain": [
       "  0%|          | 0/50 [00:00<?, ?it/s]"
      ]
     },
     "metadata": {},
     "output_type": "display_data"
    },
    {
     "name": "stdout",
     "output_type": "stream",
     "text": [
      "down 6\n",
      "up 15\n",
      "mid 16\n"
     ]
    },
    {
     "data": {
      "application/vnd.jupyter.widget-view+json": {
       "model_id": "89cbe7150fd548ca8c255844c7c95d69",
       "version_major": 2,
       "version_minor": 0
      },
      "text/plain": [
       "  0%|          | 0/50 [00:00<?, ?it/s]"
      ]
     },
     "metadata": {},
     "output_type": "display_data"
    },
    {
     "name": "stdout",
     "output_type": "stream",
     "text": [
      "Промпт 8/50, запуск 1/3: 'clay sculpture with horse' и 'clay sculpture with pig'\n",
      "down 6\n",
      "up 15\n",
      "mid 16\n"
     ]
    },
    {
     "data": {
      "application/vnd.jupyter.widget-view+json": {
       "model_id": "0e359512e06c4cf589db025c5198afd0",
       "version_major": 2,
       "version_minor": 0
      },
      "text/plain": [
       "  0%|          | 0/50 [00:00<?, ?it/s]"
      ]
     },
     "metadata": {},
     "output_type": "display_data"
    },
    {
     "name": "stdout",
     "output_type": "stream",
     "text": [
      "down 6\n",
      "up 15\n",
      "mid 16\n"
     ]
    },
    {
     "data": {
      "application/vnd.jupyter.widget-view+json": {
       "model_id": "5efc1a1c98fe46b6bf13acd2c633da16",
       "version_major": 2,
       "version_minor": 0
      },
      "text/plain": [
       "  0%|          | 0/50 [00:00<?, ?it/s]"
      ]
     },
     "metadata": {},
     "output_type": "display_data"
    },
    {
     "name": "stdout",
     "output_type": "stream",
     "text": [
      "Промпт 8/50, запуск 2/3: 'clay sculpture with horse' и 'clay sculpture with pig'\n",
      "down 6\n",
      "up 15\n",
      "mid 16\n"
     ]
    },
    {
     "data": {
      "application/vnd.jupyter.widget-view+json": {
       "model_id": "851dd385e1a841f8af0cc7e53a07c1d3",
       "version_major": 2,
       "version_minor": 0
      },
      "text/plain": [
       "  0%|          | 0/50 [00:00<?, ?it/s]"
      ]
     },
     "metadata": {},
     "output_type": "display_data"
    },
    {
     "name": "stdout",
     "output_type": "stream",
     "text": [
      "down 6\n",
      "up 15\n",
      "mid 16\n"
     ]
    },
    {
     "data": {
      "application/vnd.jupyter.widget-view+json": {
       "model_id": "01fbfedbb2f44f4d96c16613bc35d0c3",
       "version_major": 2,
       "version_minor": 0
      },
      "text/plain": [
       "  0%|          | 0/50 [00:00<?, ?it/s]"
      ]
     },
     "metadata": {},
     "output_type": "display_data"
    },
    {
     "name": "stdout",
     "output_type": "stream",
     "text": [
      "Промпт 8/50, запуск 3/3: 'clay sculpture with horse' и 'clay sculpture with pig'\n",
      "down 6\n",
      "up 15\n",
      "mid 16\n"
     ]
    },
    {
     "data": {
      "application/vnd.jupyter.widget-view+json": {
       "model_id": "3beeb41b2382435d98b5b053d8ebe107",
       "version_major": 2,
       "version_minor": 0
      },
      "text/plain": [
       "  0%|          | 0/50 [00:00<?, ?it/s]"
      ]
     },
     "metadata": {},
     "output_type": "display_data"
    },
    {
     "name": "stdout",
     "output_type": "stream",
     "text": [
      "down 6\n",
      "up 15\n",
      "mid 16\n"
     ]
    },
    {
     "data": {
      "application/vnd.jupyter.widget-view+json": {
       "model_id": "916a3e4efacd49b8b7c9783f0a370f9a",
       "version_major": 2,
       "version_minor": 0
      },
      "text/plain": [
       "  0%|          | 0/50 [00:00<?, ?it/s]"
      ]
     },
     "metadata": {},
     "output_type": "display_data"
    },
    {
     "name": "stdout",
     "output_type": "stream",
     "text": [
      "Промпт 9/50, запуск 1/3: 'pixel art with horse' и 'pixel art with pig'\n",
      "down 6\n",
      "up 15\n",
      "mid 16\n"
     ]
    },
    {
     "data": {
      "application/vnd.jupyter.widget-view+json": {
       "model_id": "6927a93d79584aa8a035331094d5c805",
       "version_major": 2,
       "version_minor": 0
      },
      "text/plain": [
       "  0%|          | 0/50 [00:00<?, ?it/s]"
      ]
     },
     "metadata": {},
     "output_type": "display_data"
    },
    {
     "name": "stdout",
     "output_type": "stream",
     "text": [
      "down 6\n",
      "up 15\n",
      "mid 16\n"
     ]
    },
    {
     "data": {
      "application/vnd.jupyter.widget-view+json": {
       "model_id": "cb897f480d04493588b9cbaf68f0f7d1",
       "version_major": 2,
       "version_minor": 0
      },
      "text/plain": [
       "  0%|          | 0/50 [00:00<?, ?it/s]"
      ]
     },
     "metadata": {},
     "output_type": "display_data"
    },
    {
     "name": "stdout",
     "output_type": "stream",
     "text": [
      "Промпт 9/50, запуск 2/3: 'pixel art with horse' и 'pixel art with pig'\n",
      "down 6\n",
      "up 15\n",
      "mid 16\n"
     ]
    },
    {
     "data": {
      "application/vnd.jupyter.widget-view+json": {
       "model_id": "7bd721a04d2a45df831f346739e834cc",
       "version_major": 2,
       "version_minor": 0
      },
      "text/plain": [
       "  0%|          | 0/50 [00:00<?, ?it/s]"
      ]
     },
     "metadata": {},
     "output_type": "display_data"
    },
    {
     "name": "stdout",
     "output_type": "stream",
     "text": [
      "down 6\n",
      "up 15\n",
      "mid 16\n"
     ]
    },
    {
     "data": {
      "application/vnd.jupyter.widget-view+json": {
       "model_id": "73901a5f0da94790b0093f2792847096",
       "version_major": 2,
       "version_minor": 0
      },
      "text/plain": [
       "  0%|          | 0/50 [00:00<?, ?it/s]"
      ]
     },
     "metadata": {},
     "output_type": "display_data"
    },
    {
     "name": "stdout",
     "output_type": "stream",
     "text": [
      "Промпт 9/50, запуск 3/3: 'pixel art with horse' и 'pixel art with pig'\n",
      "down 6\n",
      "up 15\n",
      "mid 16\n"
     ]
    },
    {
     "data": {
      "application/vnd.jupyter.widget-view+json": {
       "model_id": "a2d2f3db08ff4d91b8b1a77423e2c4a2",
       "version_major": 2,
       "version_minor": 0
      },
      "text/plain": [
       "  0%|          | 0/50 [00:00<?, ?it/s]"
      ]
     },
     "metadata": {},
     "output_type": "display_data"
    },
    {
     "name": "stdout",
     "output_type": "stream",
     "text": [
      "down 6\n",
      "up 15\n",
      "mid 16\n"
     ]
    },
    {
     "data": {
      "application/vnd.jupyter.widget-view+json": {
       "model_id": "fc69cf8cf72f47a1a7ab0975b4a83e2e",
       "version_major": 2,
       "version_minor": 0
      },
      "text/plain": [
       "  0%|          | 0/50 [00:00<?, ?it/s]"
      ]
     },
     "metadata": {},
     "output_type": "display_data"
    },
    {
     "name": "stdout",
     "output_type": "stream",
     "text": [
      "Промпт 10/50, запуск 1/3: 'baroque with horse' и 'baroque with pig'\n",
      "down 6\n",
      "up 15\n",
      "mid 16\n"
     ]
    },
    {
     "data": {
      "application/vnd.jupyter.widget-view+json": {
       "model_id": "20155f8b2b8c4c5782ea880f355b90f3",
       "version_major": 2,
       "version_minor": 0
      },
      "text/plain": [
       "  0%|          | 0/50 [00:00<?, ?it/s]"
      ]
     },
     "metadata": {},
     "output_type": "display_data"
    },
    {
     "name": "stdout",
     "output_type": "stream",
     "text": [
      "down 6\n",
      "up 15\n",
      "mid 16\n"
     ]
    },
    {
     "data": {
      "application/vnd.jupyter.widget-view+json": {
       "model_id": "dc22715c95bd4ff2beced70b7dc72620",
       "version_major": 2,
       "version_minor": 0
      },
      "text/plain": [
       "  0%|          | 0/50 [00:00<?, ?it/s]"
      ]
     },
     "metadata": {},
     "output_type": "display_data"
    },
    {
     "name": "stdout",
     "output_type": "stream",
     "text": [
      "Промпт 10/50, запуск 2/3: 'baroque with horse' и 'baroque with pig'\n",
      "down 6\n",
      "up 15\n",
      "mid 16\n"
     ]
    },
    {
     "data": {
      "application/vnd.jupyter.widget-view+json": {
       "model_id": "5b63c3ca0e13432f83fcb9fd4b207bec",
       "version_major": 2,
       "version_minor": 0
      },
      "text/plain": [
       "  0%|          | 0/50 [00:00<?, ?it/s]"
      ]
     },
     "metadata": {},
     "output_type": "display_data"
    },
    {
     "name": "stdout",
     "output_type": "stream",
     "text": [
      "down 6\n",
      "up 15\n",
      "mid 16\n"
     ]
    },
    {
     "data": {
      "application/vnd.jupyter.widget-view+json": {
       "model_id": "284fcf0f2e414541b90280dc6b8bd509",
       "version_major": 2,
       "version_minor": 0
      },
      "text/plain": [
       "  0%|          | 0/50 [00:00<?, ?it/s]"
      ]
     },
     "metadata": {},
     "output_type": "display_data"
    },
    {
     "name": "stdout",
     "output_type": "stream",
     "text": [
      "Промпт 10/50, запуск 3/3: 'baroque with horse' и 'baroque with pig'\n",
      "down 6\n",
      "up 15\n",
      "mid 16\n"
     ]
    },
    {
     "data": {
      "application/vnd.jupyter.widget-view+json": {
       "model_id": "79cd2363a625461c8ec6c361b5f05cdd",
       "version_major": 2,
       "version_minor": 0
      },
      "text/plain": [
       "  0%|          | 0/50 [00:00<?, ?it/s]"
      ]
     },
     "metadata": {},
     "output_type": "display_data"
    },
    {
     "name": "stdout",
     "output_type": "stream",
     "text": [
      "down 6\n",
      "up 15\n",
      "mid 16\n"
     ]
    },
    {
     "data": {
      "application/vnd.jupyter.widget-view+json": {
       "model_id": "4adf3460728d4521be287c78ceb891a7",
       "version_major": 2,
       "version_minor": 0
      },
      "text/plain": [
       "  0%|          | 0/50 [00:00<?, ?it/s]"
      ]
     },
     "metadata": {},
     "output_type": "display_data"
    },
    {
     "name": "stdout",
     "output_type": "stream",
     "text": [
      "Промпт 11/50, запуск 1/3: 'comic book with horse' и 'comic book with pig'\n",
      "down 6\n",
      "up 15\n",
      "mid 16\n"
     ]
    },
    {
     "data": {
      "application/vnd.jupyter.widget-view+json": {
       "model_id": "5a4a22f133a5420988c3aec580d11b12",
       "version_major": 2,
       "version_minor": 0
      },
      "text/plain": [
       "  0%|          | 0/50 [00:00<?, ?it/s]"
      ]
     },
     "metadata": {},
     "output_type": "display_data"
    },
    {
     "name": "stdout",
     "output_type": "stream",
     "text": [
      "down 6\n",
      "up 15\n",
      "mid 16\n"
     ]
    },
    {
     "data": {
      "application/vnd.jupyter.widget-view+json": {
       "model_id": "b4cc9000a6f745259081a9efc3ac8622",
       "version_major": 2,
       "version_minor": 0
      },
      "text/plain": [
       "  0%|          | 0/50 [00:00<?, ?it/s]"
      ]
     },
     "metadata": {},
     "output_type": "display_data"
    },
    {
     "name": "stdout",
     "output_type": "stream",
     "text": [
      "Промпт 11/50, запуск 2/3: 'comic book with horse' и 'comic book with pig'\n",
      "down 6\n",
      "up 15\n",
      "mid 16\n"
     ]
    },
    {
     "data": {
      "application/vnd.jupyter.widget-view+json": {
       "model_id": "fee8b63225ed4a8f9e1d9a0bb1d9a127",
       "version_major": 2,
       "version_minor": 0
      },
      "text/plain": [
       "  0%|          | 0/50 [00:00<?, ?it/s]"
      ]
     },
     "metadata": {},
     "output_type": "display_data"
    },
    {
     "name": "stdout",
     "output_type": "stream",
     "text": [
      "down 6\n",
      "up 15\n",
      "mid 16\n"
     ]
    },
    {
     "data": {
      "application/vnd.jupyter.widget-view+json": {
       "model_id": "ab990bb3a60b44b0838b997c2808a53c",
       "version_major": 2,
       "version_minor": 0
      },
      "text/plain": [
       "  0%|          | 0/50 [00:00<?, ?it/s]"
      ]
     },
     "metadata": {},
     "output_type": "display_data"
    },
    {
     "name": "stdout",
     "output_type": "stream",
     "text": [
      "Промпт 11/50, запуск 3/3: 'comic book with horse' и 'comic book with pig'\n",
      "down 6\n",
      "up 15\n",
      "mid 16\n"
     ]
    },
    {
     "data": {
      "application/vnd.jupyter.widget-view+json": {
       "model_id": "06bb7e649e1c40d7bfa2532708cd8f3b",
       "version_major": 2,
       "version_minor": 0
      },
      "text/plain": [
       "  0%|          | 0/50 [00:00<?, ?it/s]"
      ]
     },
     "metadata": {},
     "output_type": "display_data"
    },
    {
     "name": "stdout",
     "output_type": "stream",
     "text": [
      "down 6\n",
      "up 15\n",
      "mid 16\n"
     ]
    },
    {
     "data": {
      "application/vnd.jupyter.widget-view+json": {
       "model_id": "e716c9681b59475a88a29a7eac7f32cd",
       "version_major": 2,
       "version_minor": 0
      },
      "text/plain": [
       "  0%|          | 0/50 [00:00<?, ?it/s]"
      ]
     },
     "metadata": {},
     "output_type": "display_data"
    },
    {
     "name": "stdout",
     "output_type": "stream",
     "text": [
      "Промпт 12/50, запуск 1/3: 'glitch art with horse' и 'glitch art with pig'\n",
      "down 6\n",
      "up 15\n",
      "mid 16\n"
     ]
    },
    {
     "data": {
      "application/vnd.jupyter.widget-view+json": {
       "model_id": "dd5cbc9d58234055ade7289253d722a5",
       "version_major": 2,
       "version_minor": 0
      },
      "text/plain": [
       "  0%|          | 0/50 [00:00<?, ?it/s]"
      ]
     },
     "metadata": {},
     "output_type": "display_data"
    },
    {
     "name": "stdout",
     "output_type": "stream",
     "text": [
      "down 6\n",
      "up 15\n",
      "mid 16\n"
     ]
    },
    {
     "data": {
      "application/vnd.jupyter.widget-view+json": {
       "model_id": "5be7983a56f64d1191e6bd760fd4b5ed",
       "version_major": 2,
       "version_minor": 0
      },
      "text/plain": [
       "  0%|          | 0/50 [00:00<?, ?it/s]"
      ]
     },
     "metadata": {},
     "output_type": "display_data"
    },
    {
     "name": "stdout",
     "output_type": "stream",
     "text": [
      "Промпт 12/50, запуск 2/3: 'glitch art with horse' и 'glitch art with pig'\n",
      "down 6\n",
      "up 15\n",
      "mid 16\n"
     ]
    },
    {
     "data": {
      "application/vnd.jupyter.widget-view+json": {
       "model_id": "72fc396a8f814347ab327e3fb43dc89d",
       "version_major": 2,
       "version_minor": 0
      },
      "text/plain": [
       "  0%|          | 0/50 [00:00<?, ?it/s]"
      ]
     },
     "metadata": {},
     "output_type": "display_data"
    },
    {
     "name": "stdout",
     "output_type": "stream",
     "text": [
      "down 6\n",
      "up 15\n",
      "mid 16\n"
     ]
    },
    {
     "data": {
      "application/vnd.jupyter.widget-view+json": {
       "model_id": "e6c362b407534925bd578e6c28282427",
       "version_major": 2,
       "version_minor": 0
      },
      "text/plain": [
       "  0%|          | 0/50 [00:00<?, ?it/s]"
      ]
     },
     "metadata": {},
     "output_type": "display_data"
    },
    {
     "name": "stdout",
     "output_type": "stream",
     "text": [
      "Промпт 12/50, запуск 3/3: 'glitch art with horse' и 'glitch art with pig'\n",
      "down 6\n",
      "up 15\n",
      "mid 16\n"
     ]
    },
    {
     "data": {
      "application/vnd.jupyter.widget-view+json": {
       "model_id": "7495864cbec44027b97c816ba08c6ca5",
       "version_major": 2,
       "version_minor": 0
      },
      "text/plain": [
       "  0%|          | 0/50 [00:00<?, ?it/s]"
      ]
     },
     "metadata": {},
     "output_type": "display_data"
    },
    {
     "name": "stdout",
     "output_type": "stream",
     "text": [
      "down 6\n",
      "up 15\n",
      "mid 16\n"
     ]
    },
    {
     "data": {
      "application/vnd.jupyter.widget-view+json": {
       "model_id": "741905f4f5514f5da90e9fbbefb2f4f4",
       "version_major": 2,
       "version_minor": 0
      },
      "text/plain": [
       "  0%|          | 0/50 [00:00<?, ?it/s]"
      ]
     },
     "metadata": {},
     "output_type": "display_data"
    },
    {
     "name": "stdout",
     "output_type": "stream",
     "text": [
      "Промпт 13/50, запуск 1/3: 'ukiyo-e with horse' и 'ukiyo-e with pig'\n",
      "down 6\n",
      "up 15\n",
      "mid 16\n"
     ]
    },
    {
     "data": {
      "application/vnd.jupyter.widget-view+json": {
       "model_id": "45a2ab56fc754e6f9a668786188ea60d",
       "version_major": 2,
       "version_minor": 0
      },
      "text/plain": [
       "  0%|          | 0/50 [00:00<?, ?it/s]"
      ]
     },
     "metadata": {},
     "output_type": "display_data"
    },
    {
     "name": "stdout",
     "output_type": "stream",
     "text": [
      "down 6\n",
      "up 15\n",
      "mid 16\n"
     ]
    },
    {
     "data": {
      "application/vnd.jupyter.widget-view+json": {
       "model_id": "c1900f29897e47ba81e03ee0a325a25f",
       "version_major": 2,
       "version_minor": 0
      },
      "text/plain": [
       "  0%|          | 0/50 [00:00<?, ?it/s]"
      ]
     },
     "metadata": {},
     "output_type": "display_data"
    },
    {
     "name": "stdout",
     "output_type": "stream",
     "text": [
      "Промпт 13/50, запуск 2/3: 'ukiyo-e with horse' и 'ukiyo-e with pig'\n",
      "down 6\n",
      "up 15\n",
      "mid 16\n"
     ]
    },
    {
     "data": {
      "application/vnd.jupyter.widget-view+json": {
       "model_id": "7f5525c54d464668ac7c08a26f3b0de5",
       "version_major": 2,
       "version_minor": 0
      },
      "text/plain": [
       "  0%|          | 0/50 [00:00<?, ?it/s]"
      ]
     },
     "metadata": {},
     "output_type": "display_data"
    },
    {
     "name": "stdout",
     "output_type": "stream",
     "text": [
      "down 6\n",
      "up 15\n",
      "mid 16\n"
     ]
    },
    {
     "data": {
      "application/vnd.jupyter.widget-view+json": {
       "model_id": "39b1349449b54cc0904916fbc13467e4",
       "version_major": 2,
       "version_minor": 0
      },
      "text/plain": [
       "  0%|          | 0/50 [00:00<?, ?it/s]"
      ]
     },
     "metadata": {},
     "output_type": "display_data"
    },
    {
     "name": "stdout",
     "output_type": "stream",
     "text": [
      "Промпт 13/50, запуск 3/3: 'ukiyo-e with horse' и 'ukiyo-e with pig'\n",
      "down 6\n",
      "up 15\n",
      "mid 16\n"
     ]
    },
    {
     "data": {
      "application/vnd.jupyter.widget-view+json": {
       "model_id": "9188a33d44954ef4b74404ba0773bb90",
       "version_major": 2,
       "version_minor": 0
      },
      "text/plain": [
       "  0%|          | 0/50 [00:00<?, ?it/s]"
      ]
     },
     "metadata": {},
     "output_type": "display_data"
    },
    {
     "name": "stdout",
     "output_type": "stream",
     "text": [
      "down 6\n",
      "up 15\n",
      "mid 16\n"
     ]
    },
    {
     "data": {
      "application/vnd.jupyter.widget-view+json": {
       "model_id": "feafba1faa3d46fb9ee80440274d28a9",
       "version_major": 2,
       "version_minor": 0
      },
      "text/plain": [
       "  0%|          | 0/50 [00:00<?, ?it/s]"
      ]
     },
     "metadata": {},
     "output_type": "display_data"
    },
    {
     "name": "stdout",
     "output_type": "stream",
     "text": [
      "Промпт 14/50, запуск 1/3: 'cubism with horse' и 'cubism with pig'\n",
      "down 6\n",
      "up 15\n",
      "mid 16\n"
     ]
    },
    {
     "data": {
      "application/vnd.jupyter.widget-view+json": {
       "model_id": "0c78064208be44eab392d3038b5c6a1e",
       "version_major": 2,
       "version_minor": 0
      },
      "text/plain": [
       "  0%|          | 0/50 [00:00<?, ?it/s]"
      ]
     },
     "metadata": {},
     "output_type": "display_data"
    },
    {
     "name": "stdout",
     "output_type": "stream",
     "text": [
      "down 6\n",
      "up 15\n",
      "mid 16\n"
     ]
    },
    {
     "data": {
      "application/vnd.jupyter.widget-view+json": {
       "model_id": "572a3cf77ac34c138137d36169374407",
       "version_major": 2,
       "version_minor": 0
      },
      "text/plain": [
       "  0%|          | 0/50 [00:00<?, ?it/s]"
      ]
     },
     "metadata": {},
     "output_type": "display_data"
    },
    {
     "name": "stdout",
     "output_type": "stream",
     "text": [
      "Промпт 14/50, запуск 2/3: 'cubism with horse' и 'cubism with pig'\n",
      "down 6\n",
      "up 15\n",
      "mid 16\n"
     ]
    },
    {
     "data": {
      "application/vnd.jupyter.widget-view+json": {
       "model_id": "991594c4fdeb464384974943e3d275f1",
       "version_major": 2,
       "version_minor": 0
      },
      "text/plain": [
       "  0%|          | 0/50 [00:00<?, ?it/s]"
      ]
     },
     "metadata": {},
     "output_type": "display_data"
    },
    {
     "name": "stdout",
     "output_type": "stream",
     "text": [
      "down 6\n",
      "up 15\n",
      "mid 16\n"
     ]
    },
    {
     "data": {
      "application/vnd.jupyter.widget-view+json": {
       "model_id": "f9e9a77391ce4df0a15e5e1629f40e72",
       "version_major": 2,
       "version_minor": 0
      },
      "text/plain": [
       "  0%|          | 0/50 [00:00<?, ?it/s]"
      ]
     },
     "metadata": {},
     "output_type": "display_data"
    },
    {
     "name": "stdout",
     "output_type": "stream",
     "text": [
      "Промпт 14/50, запуск 3/3: 'cubism with horse' и 'cubism with pig'\n",
      "down 6\n",
      "up 15\n",
      "mid 16\n"
     ]
    },
    {
     "data": {
      "application/vnd.jupyter.widget-view+json": {
       "model_id": "7ce96d0adf1249b19342a2bb9b6292a0",
       "version_major": 2,
       "version_minor": 0
      },
      "text/plain": [
       "  0%|          | 0/50 [00:00<?, ?it/s]"
      ]
     },
     "metadata": {},
     "output_type": "display_data"
    },
    {
     "name": "stdout",
     "output_type": "stream",
     "text": [
      "down 6\n",
      "up 15\n",
      "mid 16\n"
     ]
    },
    {
     "data": {
      "application/vnd.jupyter.widget-view+json": {
       "model_id": "d90fbde6752f458a97675fe328a4c150",
       "version_major": 2,
       "version_minor": 0
      },
      "text/plain": [
       "  0%|          | 0/50 [00:00<?, ?it/s]"
      ]
     },
     "metadata": {},
     "output_type": "display_data"
    },
    {
     "name": "stdout",
     "output_type": "stream",
     "text": [
      "Промпт 15/50, запуск 1/3: 'gothic with horse' и 'gothic with pig'\n",
      "down 6\n",
      "up 15\n",
      "mid 16\n"
     ]
    },
    {
     "data": {
      "application/vnd.jupyter.widget-view+json": {
       "model_id": "8c3271f083bb42afa8db8ede180eedd8",
       "version_major": 2,
       "version_minor": 0
      },
      "text/plain": [
       "  0%|          | 0/50 [00:00<?, ?it/s]"
      ]
     },
     "metadata": {},
     "output_type": "display_data"
    },
    {
     "name": "stdout",
     "output_type": "stream",
     "text": [
      "down 6\n",
      "up 15\n",
      "mid 16\n"
     ]
    },
    {
     "data": {
      "application/vnd.jupyter.widget-view+json": {
       "model_id": "da22d2a60f1a4dc18a73e91ff3c69c3d",
       "version_major": 2,
       "version_minor": 0
      },
      "text/plain": [
       "  0%|          | 0/50 [00:00<?, ?it/s]"
      ]
     },
     "metadata": {},
     "output_type": "display_data"
    },
    {
     "name": "stdout",
     "output_type": "stream",
     "text": [
      "Промпт 15/50, запуск 2/3: 'gothic with horse' и 'gothic with pig'\n",
      "down 6\n",
      "up 15\n",
      "mid 16\n"
     ]
    },
    {
     "data": {
      "application/vnd.jupyter.widget-view+json": {
       "model_id": "b1d67261c5ee488c95832ff0843a6aaf",
       "version_major": 2,
       "version_minor": 0
      },
      "text/plain": [
       "  0%|          | 0/50 [00:00<?, ?it/s]"
      ]
     },
     "metadata": {},
     "output_type": "display_data"
    },
    {
     "name": "stdout",
     "output_type": "stream",
     "text": [
      "down 6\n",
      "up 15\n",
      "mid 16\n"
     ]
    },
    {
     "data": {
      "application/vnd.jupyter.widget-view+json": {
       "model_id": "e77d9674d1f44998aab749b80c7cde8b",
       "version_major": 2,
       "version_minor": 0
      },
      "text/plain": [
       "  0%|          | 0/50 [00:00<?, ?it/s]"
      ]
     },
     "metadata": {},
     "output_type": "display_data"
    },
    {
     "name": "stdout",
     "output_type": "stream",
     "text": [
      "Промпт 15/50, запуск 3/3: 'gothic with horse' и 'gothic with pig'\n",
      "down 6\n",
      "up 15\n",
      "mid 16\n"
     ]
    },
    {
     "data": {
      "application/vnd.jupyter.widget-view+json": {
       "model_id": "d9374e9851bf486aabb237976efb1626",
       "version_major": 2,
       "version_minor": 0
      },
      "text/plain": [
       "  0%|          | 0/50 [00:00<?, ?it/s]"
      ]
     },
     "metadata": {},
     "output_type": "display_data"
    },
    {
     "name": "stdout",
     "output_type": "stream",
     "text": [
      "down 6\n",
      "up 15\n",
      "mid 16\n"
     ]
    },
    {
     "data": {
      "application/vnd.jupyter.widget-view+json": {
       "model_id": "9dde392a85da4cf49f2a705ce7a15e7c",
       "version_major": 2,
       "version_minor": 0
      },
      "text/plain": [
       "  0%|          | 0/50 [00:00<?, ?it/s]"
      ]
     },
     "metadata": {},
     "output_type": "display_data"
    },
    {
     "name": "stdout",
     "output_type": "stream",
     "text": [
      "Промпт 16/50, запуск 1/3: 'microscopic with horse' и 'microscopic with pig'\n",
      "down 6\n",
      "up 15\n",
      "mid 16\n"
     ]
    },
    {
     "data": {
      "application/vnd.jupyter.widget-view+json": {
       "model_id": "ac462d07610a4b75a417af1e7a3e41e9",
       "version_major": 2,
       "version_minor": 0
      },
      "text/plain": [
       "  0%|          | 0/50 [00:00<?, ?it/s]"
      ]
     },
     "metadata": {},
     "output_type": "display_data"
    },
    {
     "name": "stdout",
     "output_type": "stream",
     "text": [
      "down 6\n",
      "up 15\n",
      "mid 16\n"
     ]
    },
    {
     "data": {
      "application/vnd.jupyter.widget-view+json": {
       "model_id": "00af85c220714a348a8237c94783bcd6",
       "version_major": 2,
       "version_minor": 0
      },
      "text/plain": [
       "  0%|          | 0/50 [00:00<?, ?it/s]"
      ]
     },
     "metadata": {},
     "output_type": "display_data"
    },
    {
     "name": "stdout",
     "output_type": "stream",
     "text": [
      "Промпт 16/50, запуск 2/3: 'microscopic with horse' и 'microscopic with pig'\n",
      "down 6\n",
      "up 15\n",
      "mid 16\n"
     ]
    },
    {
     "data": {
      "application/vnd.jupyter.widget-view+json": {
       "model_id": "a64a0a3f900342eb884e3790bb02ee86",
       "version_major": 2,
       "version_minor": 0
      },
      "text/plain": [
       "  0%|          | 0/50 [00:00<?, ?it/s]"
      ]
     },
     "metadata": {},
     "output_type": "display_data"
    },
    {
     "name": "stdout",
     "output_type": "stream",
     "text": [
      "down 6\n",
      "up 15\n",
      "mid 16\n"
     ]
    },
    {
     "data": {
      "application/vnd.jupyter.widget-view+json": {
       "model_id": "5f8bdfda182c4d0a9625cb59556b9380",
       "version_major": 2,
       "version_minor": 0
      },
      "text/plain": [
       "  0%|          | 0/50 [00:00<?, ?it/s]"
      ]
     },
     "metadata": {},
     "output_type": "display_data"
    },
    {
     "name": "stdout",
     "output_type": "stream",
     "text": [
      "Промпт 16/50, запуск 3/3: 'microscopic with horse' и 'microscopic with pig'\n",
      "down 6\n",
      "up 15\n",
      "mid 16\n"
     ]
    },
    {
     "data": {
      "application/vnd.jupyter.widget-view+json": {
       "model_id": "dd8f20267c664d7f82a16ed623a4c327",
       "version_major": 2,
       "version_minor": 0
      },
      "text/plain": [
       "  0%|          | 0/50 [00:00<?, ?it/s]"
      ]
     },
     "metadata": {},
     "output_type": "display_data"
    },
    {
     "name": "stdout",
     "output_type": "stream",
     "text": [
      "down 6\n",
      "up 15\n",
      "mid 16\n"
     ]
    },
    {
     "data": {
      "application/vnd.jupyter.widget-view+json": {
       "model_id": "8b7bde31ddb343f7825f58894fb07745",
       "version_major": 2,
       "version_minor": 0
      },
      "text/plain": [
       "  0%|          | 0/50 [00:00<?, ?it/s]"
      ]
     },
     "metadata": {},
     "output_type": "display_data"
    },
    {
     "name": "stdout",
     "output_type": "stream",
     "text": [
      "Промпт 17/50, запуск 1/3: 'cosmic nebula with horse' и 'cosmic nebula with pig'\n",
      "down 6\n",
      "up 15\n",
      "mid 16\n"
     ]
    },
    {
     "data": {
      "application/vnd.jupyter.widget-view+json": {
       "model_id": "ecb9d96459a64aff8cbdb9b367ef388b",
       "version_major": 2,
       "version_minor": 0
      },
      "text/plain": [
       "  0%|          | 0/50 [00:00<?, ?it/s]"
      ]
     },
     "metadata": {},
     "output_type": "display_data"
    },
    {
     "name": "stdout",
     "output_type": "stream",
     "text": [
      "down 6\n",
      "up 15\n",
      "mid 16\n"
     ]
    },
    {
     "data": {
      "application/vnd.jupyter.widget-view+json": {
       "model_id": "882abe624a1f418f97e2a6d7ee7dee81",
       "version_major": 2,
       "version_minor": 0
      },
      "text/plain": [
       "  0%|          | 0/50 [00:00<?, ?it/s]"
      ]
     },
     "metadata": {},
     "output_type": "display_data"
    },
    {
     "name": "stdout",
     "output_type": "stream",
     "text": [
      "Промпт 17/50, запуск 2/3: 'cosmic nebula with horse' и 'cosmic nebula with pig'\n",
      "down 6\n",
      "up 15\n",
      "mid 16\n"
     ]
    },
    {
     "data": {
      "application/vnd.jupyter.widget-view+json": {
       "model_id": "b451b8ef23b647c593c26cd44c111149",
       "version_major": 2,
       "version_minor": 0
      },
      "text/plain": [
       "  0%|          | 0/50 [00:00<?, ?it/s]"
      ]
     },
     "metadata": {},
     "output_type": "display_data"
    },
    {
     "name": "stdout",
     "output_type": "stream",
     "text": [
      "down 6\n",
      "up 15\n",
      "mid 16\n"
     ]
    },
    {
     "data": {
      "application/vnd.jupyter.widget-view+json": {
       "model_id": "8eea13ee1bcf4b2c93fe3223029a60af",
       "version_major": 2,
       "version_minor": 0
      },
      "text/plain": [
       "  0%|          | 0/50 [00:00<?, ?it/s]"
      ]
     },
     "metadata": {},
     "output_type": "display_data"
    },
    {
     "name": "stdout",
     "output_type": "stream",
     "text": [
      "Промпт 17/50, запуск 3/3: 'cosmic nebula with horse' и 'cosmic nebula with pig'\n",
      "down 6\n",
      "up 15\n",
      "mid 16\n"
     ]
    },
    {
     "data": {
      "application/vnd.jupyter.widget-view+json": {
       "model_id": "3cbb3e895e6e4909a0f9ec4a979b7b86",
       "version_major": 2,
       "version_minor": 0
      },
      "text/plain": [
       "  0%|          | 0/50 [00:00<?, ?it/s]"
      ]
     },
     "metadata": {},
     "output_type": "display_data"
    },
    {
     "name": "stdout",
     "output_type": "stream",
     "text": [
      "down 6\n",
      "up 15\n",
      "mid 16\n"
     ]
    },
    {
     "data": {
      "application/vnd.jupyter.widget-view+json": {
       "model_id": "d68b53cdce1e4777b026abeda04aa823",
       "version_major": 2,
       "version_minor": 0
      },
      "text/plain": [
       "  0%|          | 0/50 [00:00<?, ?it/s]"
      ]
     },
     "metadata": {},
     "output_type": "display_data"
    },
    {
     "name": "stdout",
     "output_type": "stream",
     "text": [
      "Промпт 18/50, запуск 1/3: 'dia de los muertos with horse' и 'dia de los muertos with pig'\n",
      "down 6\n",
      "up 15\n",
      "mid 16\n"
     ]
    },
    {
     "data": {
      "application/vnd.jupyter.widget-view+json": {
       "model_id": "f5a7767fa5e14655b8e38c7862ca9ce1",
       "version_major": 2,
       "version_minor": 0
      },
      "text/plain": [
       "  0%|          | 0/50 [00:00<?, ?it/s]"
      ]
     },
     "metadata": {},
     "output_type": "display_data"
    },
    {
     "name": "stdout",
     "output_type": "stream",
     "text": [
      "down 6\n",
      "up 15\n",
      "mid 16\n"
     ]
    },
    {
     "data": {
      "application/vnd.jupyter.widget-view+json": {
       "model_id": "3f7ce7f4426341f79b7ba402e7a93fa6",
       "version_major": 2,
       "version_minor": 0
      },
      "text/plain": [
       "  0%|          | 0/50 [00:00<?, ?it/s]"
      ]
     },
     "metadata": {},
     "output_type": "display_data"
    },
    {
     "name": "stdout",
     "output_type": "stream",
     "text": [
      "Промпт 18/50, запуск 2/3: 'dia de los muertos with horse' и 'dia de los muertos with pig'\n",
      "down 6\n",
      "up 15\n",
      "mid 16\n"
     ]
    },
    {
     "data": {
      "application/vnd.jupyter.widget-view+json": {
       "model_id": "0bccbc9849ce4e68b9a748543c78b33e",
       "version_major": 2,
       "version_minor": 0
      },
      "text/plain": [
       "  0%|          | 0/50 [00:00<?, ?it/s]"
      ]
     },
     "metadata": {},
     "output_type": "display_data"
    },
    {
     "name": "stdout",
     "output_type": "stream",
     "text": [
      "down 6\n",
      "up 15\n",
      "mid 16\n"
     ]
    },
    {
     "data": {
      "application/vnd.jupyter.widget-view+json": {
       "model_id": "655af4918f3549edb2c5acf35df22d54",
       "version_major": 2,
       "version_minor": 0
      },
      "text/plain": [
       "  0%|          | 0/50 [00:00<?, ?it/s]"
      ]
     },
     "metadata": {},
     "output_type": "display_data"
    },
    {
     "name": "stdout",
     "output_type": "stream",
     "text": [
      "Промпт 18/50, запуск 3/3: 'dia de los muertos with horse' и 'dia de los muertos with pig'\n",
      "down 6\n",
      "up 15\n",
      "mid 16\n"
     ]
    },
    {
     "data": {
      "application/vnd.jupyter.widget-view+json": {
       "model_id": "596640df04304727a254d60e67199168",
       "version_major": 2,
       "version_minor": 0
      },
      "text/plain": [
       "  0%|          | 0/50 [00:00<?, ?it/s]"
      ]
     },
     "metadata": {},
     "output_type": "display_data"
    },
    {
     "name": "stdout",
     "output_type": "stream",
     "text": [
      "down 6\n",
      "up 15\n",
      "mid 16\n"
     ]
    },
    {
     "data": {
      "application/vnd.jupyter.widget-view+json": {
       "model_id": "53247077b21d4661a075961fce8ec245",
       "version_major": 2,
       "version_minor": 0
      },
      "text/plain": [
       "  0%|          | 0/50 [00:00<?, ?it/s]"
      ]
     },
     "metadata": {},
     "output_type": "display_data"
    },
    {
     "name": "stdout",
     "output_type": "stream",
     "text": [
      "Промпт 19/50, запуск 1/3: 'blueprint with horse' и 'blueprint with pig'\n",
      "down 6\n",
      "up 15\n",
      "mid 16\n"
     ]
    },
    {
     "data": {
      "application/vnd.jupyter.widget-view+json": {
       "model_id": "2dc04f2a78bf45e89136db03e080e6ec",
       "version_major": 2,
       "version_minor": 0
      },
      "text/plain": [
       "  0%|          | 0/50 [00:00<?, ?it/s]"
      ]
     },
     "metadata": {},
     "output_type": "display_data"
    },
    {
     "name": "stdout",
     "output_type": "stream",
     "text": [
      "down 6\n",
      "up 15\n",
      "mid 16\n"
     ]
    },
    {
     "data": {
      "application/vnd.jupyter.widget-view+json": {
       "model_id": "1528e5fa10ce43ab853dcc861a54d400",
       "version_major": 2,
       "version_minor": 0
      },
      "text/plain": [
       "  0%|          | 0/50 [00:00<?, ?it/s]"
      ]
     },
     "metadata": {},
     "output_type": "display_data"
    },
    {
     "name": "stdout",
     "output_type": "stream",
     "text": [
      "Промпт 19/50, запуск 2/3: 'blueprint with horse' и 'blueprint with pig'\n",
      "down 6\n",
      "up 15\n",
      "mid 16\n"
     ]
    },
    {
     "data": {
      "application/vnd.jupyter.widget-view+json": {
       "model_id": "b9a4e90b601f4c0da0452a24746f714a",
       "version_major": 2,
       "version_minor": 0
      },
      "text/plain": [
       "  0%|          | 0/50 [00:00<?, ?it/s]"
      ]
     },
     "metadata": {},
     "output_type": "display_data"
    },
    {
     "name": "stdout",
     "output_type": "stream",
     "text": [
      "down 6\n",
      "up 15\n",
      "mid 16\n"
     ]
    },
    {
     "data": {
      "application/vnd.jupyter.widget-view+json": {
       "model_id": "2f882b0ae420413b8cad69e5e108f75b",
       "version_major": 2,
       "version_minor": 0
      },
      "text/plain": [
       "  0%|          | 0/50 [00:00<?, ?it/s]"
      ]
     },
     "metadata": {},
     "output_type": "display_data"
    },
    {
     "name": "stdout",
     "output_type": "stream",
     "text": [
      "Промпт 19/50, запуск 3/3: 'blueprint with horse' и 'blueprint with pig'\n",
      "down 6\n",
      "up 15\n",
      "mid 16\n"
     ]
    },
    {
     "data": {
      "application/vnd.jupyter.widget-view+json": {
       "model_id": "c29643c9e2c641389f3023b9e79ddb34",
       "version_major": 2,
       "version_minor": 0
      },
      "text/plain": [
       "  0%|          | 0/50 [00:00<?, ?it/s]"
      ]
     },
     "metadata": {},
     "output_type": "display_data"
    },
    {
     "name": "stdout",
     "output_type": "stream",
     "text": [
      "down 6\n",
      "up 15\n",
      "mid 16\n"
     ]
    },
    {
     "data": {
      "application/vnd.jupyter.widget-view+json": {
       "model_id": "9b886f2d7f4c47c4beb9cf3cbd63a600",
       "version_major": 2,
       "version_minor": 0
      },
      "text/plain": [
       "  0%|          | 0/50 [00:00<?, ?it/s]"
      ]
     },
     "metadata": {},
     "output_type": "display_data"
    },
    {
     "name": "stdout",
     "output_type": "stream",
     "text": [
      "Промпт 20/50, запуск 1/3: 'stained glass with horse' и 'stained glass with pig'\n",
      "down 6\n",
      "up 15\n",
      "mid 16\n"
     ]
    },
    {
     "data": {
      "application/vnd.jupyter.widget-view+json": {
       "model_id": "685f26d8dbf74ee4bb66525972880433",
       "version_major": 2,
       "version_minor": 0
      },
      "text/plain": [
       "  0%|          | 0/50 [00:00<?, ?it/s]"
      ]
     },
     "metadata": {},
     "output_type": "display_data"
    },
    {
     "name": "stdout",
     "output_type": "stream",
     "text": [
      "down 6\n",
      "up 15\n",
      "mid 16\n"
     ]
    },
    {
     "data": {
      "application/vnd.jupyter.widget-view+json": {
       "model_id": "44bc1f23c59149e7a72f1450c35e8f62",
       "version_major": 2,
       "version_minor": 0
      },
      "text/plain": [
       "  0%|          | 0/50 [00:00<?, ?it/s]"
      ]
     },
     "metadata": {},
     "output_type": "display_data"
    },
    {
     "name": "stdout",
     "output_type": "stream",
     "text": [
      "Промпт 20/50, запуск 2/3: 'stained glass with horse' и 'stained glass with pig'\n",
      "down 6\n",
      "up 15\n",
      "mid 16\n"
     ]
    },
    {
     "data": {
      "application/vnd.jupyter.widget-view+json": {
       "model_id": "c3448347c5cc4c5d91d7234389265600",
       "version_major": 2,
       "version_minor": 0
      },
      "text/plain": [
       "  0%|          | 0/50 [00:00<?, ?it/s]"
      ]
     },
     "metadata": {},
     "output_type": "display_data"
    },
    {
     "name": "stdout",
     "output_type": "stream",
     "text": [
      "down 6\n",
      "up 15\n",
      "mid 16\n"
     ]
    },
    {
     "data": {
      "application/vnd.jupyter.widget-view+json": {
       "model_id": "4c98d399aa8a455dae56d2da3a63adcb",
       "version_major": 2,
       "version_minor": 0
      },
      "text/plain": [
       "  0%|          | 0/50 [00:00<?, ?it/s]"
      ]
     },
     "metadata": {},
     "output_type": "display_data"
    },
    {
     "name": "stdout",
     "output_type": "stream",
     "text": [
      "Промпт 20/50, запуск 3/3: 'stained glass with horse' и 'stained glass with pig'\n",
      "down 6\n",
      "up 15\n",
      "mid 16\n"
     ]
    },
    {
     "data": {
      "application/vnd.jupyter.widget-view+json": {
       "model_id": "16ca5639ce144315b095425bfa3cbf54",
       "version_major": 2,
       "version_minor": 0
      },
      "text/plain": [
       "  0%|          | 0/50 [00:00<?, ?it/s]"
      ]
     },
     "metadata": {},
     "output_type": "display_data"
    },
    {
     "name": "stdout",
     "output_type": "stream",
     "text": [
      "down 6\n",
      "up 15\n",
      "mid 16\n"
     ]
    },
    {
     "data": {
      "application/vnd.jupyter.widget-view+json": {
       "model_id": "2ffc419ca9964754b61d964deafc7da5",
       "version_major": 2,
       "version_minor": 0
      },
      "text/plain": [
       "  0%|          | 0/50 [00:00<?, ?it/s]"
      ]
     },
     "metadata": {},
     "output_type": "display_data"
    },
    {
     "name": "stdout",
     "output_type": "stream",
     "text": [
      "Промпт 21/50, запуск 1/3: 'synthwave with horse' и 'synthwave with pig'\n",
      "down 6\n",
      "up 15\n",
      "mid 16\n"
     ]
    },
    {
     "data": {
      "application/vnd.jupyter.widget-view+json": {
       "model_id": "daa03d4479ef4406b77e0b91ac5d8aab",
       "version_major": 2,
       "version_minor": 0
      },
      "text/plain": [
       "  0%|          | 0/50 [00:00<?, ?it/s]"
      ]
     },
     "metadata": {},
     "output_type": "display_data"
    },
    {
     "name": "stdout",
     "output_type": "stream",
     "text": [
      "down 6\n",
      "up 15\n",
      "mid 16\n"
     ]
    },
    {
     "data": {
      "application/vnd.jupyter.widget-view+json": {
       "model_id": "56133601789e4a71abef58865b0fedc5",
       "version_major": 2,
       "version_minor": 0
      },
      "text/plain": [
       "  0%|          | 0/50 [00:00<?, ?it/s]"
      ]
     },
     "metadata": {},
     "output_type": "display_data"
    },
    {
     "name": "stdout",
     "output_type": "stream",
     "text": [
      "Промпт 21/50, запуск 2/3: 'synthwave with horse' и 'synthwave with pig'\n",
      "down 6\n",
      "up 15\n",
      "mid 16\n"
     ]
    },
    {
     "data": {
      "application/vnd.jupyter.widget-view+json": {
       "model_id": "6181f234a5754732b0755166e80bdb94",
       "version_major": 2,
       "version_minor": 0
      },
      "text/plain": [
       "  0%|          | 0/50 [00:00<?, ?it/s]"
      ]
     },
     "metadata": {},
     "output_type": "display_data"
    },
    {
     "name": "stdout",
     "output_type": "stream",
     "text": [
      "down 6\n",
      "up 15\n",
      "mid 16\n"
     ]
    },
    {
     "data": {
      "application/vnd.jupyter.widget-view+json": {
       "model_id": "8ec6ffad61b04517a3b7a4e02786fd7c",
       "version_major": 2,
       "version_minor": 0
      },
      "text/plain": [
       "  0%|          | 0/50 [00:00<?, ?it/s]"
      ]
     },
     "metadata": {},
     "output_type": "display_data"
    },
    {
     "name": "stdout",
     "output_type": "stream",
     "text": [
      "Промпт 21/50, запуск 3/3: 'synthwave with horse' и 'synthwave with pig'\n",
      "down 6\n",
      "up 15\n",
      "mid 16\n"
     ]
    },
    {
     "data": {
      "application/vnd.jupyter.widget-view+json": {
       "model_id": "9064c7cd1bea4b0384f31b96d6358066",
       "version_major": 2,
       "version_minor": 0
      },
      "text/plain": [
       "  0%|          | 0/50 [00:00<?, ?it/s]"
      ]
     },
     "metadata": {},
     "output_type": "display_data"
    },
    {
     "name": "stdout",
     "output_type": "stream",
     "text": [
      "down 6\n",
      "up 15\n",
      "mid 16\n"
     ]
    },
    {
     "data": {
      "application/vnd.jupyter.widget-view+json": {
       "model_id": "7c13a8b0bb0d444b9f4c567cc246ea86",
       "version_major": 2,
       "version_minor": 0
      },
      "text/plain": [
       "  0%|          | 0/50 [00:00<?, ?it/s]"
      ]
     },
     "metadata": {},
     "output_type": "display_data"
    },
    {
     "name": "stdout",
     "output_type": "stream",
     "text": [
      "Промпт 22/50, запуск 1/3: 'industrial with horse' и 'industrial with pig'\n",
      "down 6\n",
      "up 15\n",
      "mid 16\n"
     ]
    },
    {
     "data": {
      "application/vnd.jupyter.widget-view+json": {
       "model_id": "b02d910d4ead4071983c66616505468a",
       "version_major": 2,
       "version_minor": 0
      },
      "text/plain": [
       "  0%|          | 0/50 [00:00<?, ?it/s]"
      ]
     },
     "metadata": {},
     "output_type": "display_data"
    },
    {
     "name": "stdout",
     "output_type": "stream",
     "text": [
      "down 6\n",
      "up 15\n",
      "mid 16\n"
     ]
    },
    {
     "data": {
      "application/vnd.jupyter.widget-view+json": {
       "model_id": "a07ee45d4d6b49c49a05311975a17231",
       "version_major": 2,
       "version_minor": 0
      },
      "text/plain": [
       "  0%|          | 0/50 [00:00<?, ?it/s]"
      ]
     },
     "metadata": {},
     "output_type": "display_data"
    },
    {
     "name": "stdout",
     "output_type": "stream",
     "text": [
      "Промпт 22/50, запуск 2/3: 'industrial with horse' и 'industrial with pig'\n",
      "down 6\n",
      "up 15\n",
      "mid 16\n"
     ]
    },
    {
     "data": {
      "application/vnd.jupyter.widget-view+json": {
       "model_id": "de3b6e6ce4024d9fab28f88715947dde",
       "version_major": 2,
       "version_minor": 0
      },
      "text/plain": [
       "  0%|          | 0/50 [00:00<?, ?it/s]"
      ]
     },
     "metadata": {},
     "output_type": "display_data"
    },
    {
     "name": "stdout",
     "output_type": "stream",
     "text": [
      "down 6\n",
      "up 15\n",
      "mid 16\n"
     ]
    },
    {
     "data": {
      "application/vnd.jupyter.widget-view+json": {
       "model_id": "b22acdc2bcb24e50bb009f31a2b84106",
       "version_major": 2,
       "version_minor": 0
      },
      "text/plain": [
       "  0%|          | 0/50 [00:00<?, ?it/s]"
      ]
     },
     "metadata": {},
     "output_type": "display_data"
    },
    {
     "name": "stdout",
     "output_type": "stream",
     "text": [
      "Промпт 22/50, запуск 3/3: 'industrial with horse' и 'industrial with pig'\n",
      "down 6\n",
      "up 15\n",
      "mid 16\n"
     ]
    },
    {
     "data": {
      "application/vnd.jupyter.widget-view+json": {
       "model_id": "40585b4640bc4eb196413f8337e52668",
       "version_major": 2,
       "version_minor": 0
      },
      "text/plain": [
       "  0%|          | 0/50 [00:00<?, ?it/s]"
      ]
     },
     "metadata": {},
     "output_type": "display_data"
    },
    {
     "name": "stdout",
     "output_type": "stream",
     "text": [
      "down 6\n",
      "up 15\n",
      "mid 16\n"
     ]
    },
    {
     "data": {
      "application/vnd.jupyter.widget-view+json": {
       "model_id": "673db57e49ef41cb9ace97a7c53eabdc",
       "version_major": 2,
       "version_minor": 0
      },
      "text/plain": [
       "  0%|          | 0/50 [00:00<?, ?it/s]"
      ]
     },
     "metadata": {},
     "output_type": "display_data"
    },
    {
     "name": "stdout",
     "output_type": "stream",
     "text": [
      "Промпт 23/50, запуск 1/3: 'art nouveau with horse' и 'art nouveau with pig'\n",
      "down 6\n",
      "up 15\n",
      "mid 16\n"
     ]
    },
    {
     "data": {
      "application/vnd.jupyter.widget-view+json": {
       "model_id": "74da296165a140cfb268ba47e9bbdca4",
       "version_major": 2,
       "version_minor": 0
      },
      "text/plain": [
       "  0%|          | 0/50 [00:00<?, ?it/s]"
      ]
     },
     "metadata": {},
     "output_type": "display_data"
    },
    {
     "name": "stdout",
     "output_type": "stream",
     "text": [
      "down 6\n",
      "up 15\n",
      "mid 16\n"
     ]
    },
    {
     "data": {
      "application/vnd.jupyter.widget-view+json": {
       "model_id": "2448bc1b0abf41b8a9bf9de65773324c",
       "version_major": 2,
       "version_minor": 0
      },
      "text/plain": [
       "  0%|          | 0/50 [00:00<?, ?it/s]"
      ]
     },
     "metadata": {},
     "output_type": "display_data"
    },
    {
     "name": "stdout",
     "output_type": "stream",
     "text": [
      "Промпт 23/50, запуск 2/3: 'art nouveau with horse' и 'art nouveau with pig'\n",
      "down 6\n",
      "up 15\n",
      "mid 16\n"
     ]
    },
    {
     "data": {
      "application/vnd.jupyter.widget-view+json": {
       "model_id": "035ef6fe682d4fb281de5e6213780207",
       "version_major": 2,
       "version_minor": 0
      },
      "text/plain": [
       "  0%|          | 0/50 [00:00<?, ?it/s]"
      ]
     },
     "metadata": {},
     "output_type": "display_data"
    },
    {
     "name": "stdout",
     "output_type": "stream",
     "text": [
      "down 6\n",
      "up 15\n",
      "mid 16\n"
     ]
    },
    {
     "data": {
      "application/vnd.jupyter.widget-view+json": {
       "model_id": "cd64f1b8722f453c8be5ced7ced31b40",
       "version_major": 2,
       "version_minor": 0
      },
      "text/plain": [
       "  0%|          | 0/50 [00:00<?, ?it/s]"
      ]
     },
     "metadata": {},
     "output_type": "display_data"
    },
    {
     "name": "stdout",
     "output_type": "stream",
     "text": [
      "Промпт 23/50, запуск 3/3: 'art nouveau with horse' и 'art nouveau with pig'\n",
      "down 6\n",
      "up 15\n",
      "mid 16\n"
     ]
    },
    {
     "data": {
      "application/vnd.jupyter.widget-view+json": {
       "model_id": "9de4a9725fb94655a88dae5c29e9474d",
       "version_major": 2,
       "version_minor": 0
      },
      "text/plain": [
       "  0%|          | 0/50 [00:00<?, ?it/s]"
      ]
     },
     "metadata": {},
     "output_type": "display_data"
    },
    {
     "name": "stdout",
     "output_type": "stream",
     "text": [
      "down 6\n",
      "up 15\n",
      "mid 16\n"
     ]
    },
    {
     "data": {
      "application/vnd.jupyter.widget-view+json": {
       "model_id": "7e52dbbcb6e34f0795c7b68d24843f3e",
       "version_major": 2,
       "version_minor": 0
      },
      "text/plain": [
       "  0%|          | 0/50 [00:00<?, ?it/s]"
      ]
     },
     "metadata": {},
     "output_type": "display_data"
    },
    {
     "name": "stdout",
     "output_type": "stream",
     "text": [
      "Промпт 24/50, запуск 1/3: 'brutalist with horse' и 'brutalist with pig'\n",
      "down 6\n",
      "up 15\n",
      "mid 16\n"
     ]
    },
    {
     "data": {
      "application/vnd.jupyter.widget-view+json": {
       "model_id": "30bcf4bae0044e2e9e02f1c684c034d9",
       "version_major": 2,
       "version_minor": 0
      },
      "text/plain": [
       "  0%|          | 0/50 [00:00<?, ?it/s]"
      ]
     },
     "metadata": {},
     "output_type": "display_data"
    },
    {
     "name": "stdout",
     "output_type": "stream",
     "text": [
      "down 6\n",
      "up 15\n",
      "mid 16\n"
     ]
    },
    {
     "data": {
      "application/vnd.jupyter.widget-view+json": {
       "model_id": "e4f2d0614fd4490194176c613d83ec9a",
       "version_major": 2,
       "version_minor": 0
      },
      "text/plain": [
       "  0%|          | 0/50 [00:00<?, ?it/s]"
      ]
     },
     "metadata": {},
     "output_type": "display_data"
    },
    {
     "name": "stdout",
     "output_type": "stream",
     "text": [
      "Промпт 24/50, запуск 2/3: 'brutalist with horse' и 'brutalist with pig'\n",
      "down 6\n",
      "up 15\n",
      "mid 16\n"
     ]
    },
    {
     "data": {
      "application/vnd.jupyter.widget-view+json": {
       "model_id": "ba1fd04cd4d04fd383afc77da31df76b",
       "version_major": 2,
       "version_minor": 0
      },
      "text/plain": [
       "  0%|          | 0/50 [00:00<?, ?it/s]"
      ]
     },
     "metadata": {},
     "output_type": "display_data"
    },
    {
     "name": "stdout",
     "output_type": "stream",
     "text": [
      "down 6\n",
      "up 15\n",
      "mid 16\n"
     ]
    },
    {
     "data": {
      "application/vnd.jupyter.widget-view+json": {
       "model_id": "068ffb80518d4f1790acc7fbb70daf57",
       "version_major": 2,
       "version_minor": 0
      },
      "text/plain": [
       "  0%|          | 0/50 [00:00<?, ?it/s]"
      ]
     },
     "metadata": {},
     "output_type": "display_data"
    },
    {
     "name": "stdout",
     "output_type": "stream",
     "text": [
      "Промпт 24/50, запуск 3/3: 'brutalist with horse' и 'brutalist with pig'\n",
      "down 6\n",
      "up 15\n",
      "mid 16\n"
     ]
    },
    {
     "data": {
      "application/vnd.jupyter.widget-view+json": {
       "model_id": "7654b2efd22644dcb0769e76d8f7348a",
       "version_major": 2,
       "version_minor": 0
      },
      "text/plain": [
       "  0%|          | 0/50 [00:00<?, ?it/s]"
      ]
     },
     "metadata": {},
     "output_type": "display_data"
    },
    {
     "name": "stdout",
     "output_type": "stream",
     "text": [
      "down 6\n",
      "up 15\n",
      "mid 16\n"
     ]
    },
    {
     "data": {
      "application/vnd.jupyter.widget-view+json": {
       "model_id": "fd1c8388ff2a4fd2ae3c1970cdfb62e5",
       "version_major": 2,
       "version_minor": 0
      },
      "text/plain": [
       "  0%|          | 0/50 [00:00<?, ?it/s]"
      ]
     },
     "metadata": {},
     "output_type": "display_data"
    },
    {
     "name": "stdout",
     "output_type": "stream",
     "text": [
      "Промпт 25/50, запуск 1/3: 'pop art with horse' и 'pop art with pig'\n",
      "down 6\n",
      "up 15\n",
      "mid 16\n"
     ]
    },
    {
     "data": {
      "application/vnd.jupyter.widget-view+json": {
       "model_id": "51a06a7998154c2fb35fcf8cdcc91e97",
       "version_major": 2,
       "version_minor": 0
      },
      "text/plain": [
       "  0%|          | 0/50 [00:00<?, ?it/s]"
      ]
     },
     "metadata": {},
     "output_type": "display_data"
    },
    {
     "name": "stdout",
     "output_type": "stream",
     "text": [
      "down 6\n",
      "up 15\n",
      "mid 16\n"
     ]
    },
    {
     "data": {
      "application/vnd.jupyter.widget-view+json": {
       "model_id": "5403c70416314410b16f4120aa2fe8b4",
       "version_major": 2,
       "version_minor": 0
      },
      "text/plain": [
       "  0%|          | 0/50 [00:00<?, ?it/s]"
      ]
     },
     "metadata": {},
     "output_type": "display_data"
    },
    {
     "name": "stdout",
     "output_type": "stream",
     "text": [
      "Промпт 25/50, запуск 2/3: 'pop art with horse' и 'pop art with pig'\n",
      "down 6\n",
      "up 15\n",
      "mid 16\n"
     ]
    },
    {
     "data": {
      "application/vnd.jupyter.widget-view+json": {
       "model_id": "c98be6fe89a841be81c4d87fc741c9c1",
       "version_major": 2,
       "version_minor": 0
      },
      "text/plain": [
       "  0%|          | 0/50 [00:00<?, ?it/s]"
      ]
     },
     "metadata": {},
     "output_type": "display_data"
    },
    {
     "name": "stdout",
     "output_type": "stream",
     "text": [
      "down 6\n",
      "up 15\n",
      "mid 16\n"
     ]
    },
    {
     "data": {
      "application/vnd.jupyter.widget-view+json": {
       "model_id": "14fa3c55941d4622be384cdb8d7bb0bb",
       "version_major": 2,
       "version_minor": 0
      },
      "text/plain": [
       "  0%|          | 0/50 [00:00<?, ?it/s]"
      ]
     },
     "metadata": {},
     "output_type": "display_data"
    },
    {
     "name": "stdout",
     "output_type": "stream",
     "text": [
      "Промпт 25/50, запуск 3/3: 'pop art with horse' и 'pop art with pig'\n",
      "down 6\n",
      "up 15\n",
      "mid 16\n"
     ]
    },
    {
     "data": {
      "application/vnd.jupyter.widget-view+json": {
       "model_id": "16e23e19dc7741219dadb876d08bc70d",
       "version_major": 2,
       "version_minor": 0
      },
      "text/plain": [
       "  0%|          | 0/50 [00:00<?, ?it/s]"
      ]
     },
     "metadata": {},
     "output_type": "display_data"
    },
    {
     "name": "stdout",
     "output_type": "stream",
     "text": [
      "down 6\n",
      "up 15\n",
      "mid 16\n"
     ]
    },
    {
     "data": {
      "application/vnd.jupyter.widget-view+json": {
       "model_id": "225b008debaf41048700519933281f0b",
       "version_major": 2,
       "version_minor": 0
      },
      "text/plain": [
       "  0%|          | 0/50 [00:00<?, ?it/s]"
      ]
     },
     "metadata": {},
     "output_type": "display_data"
    },
    {
     "name": "stdout",
     "output_type": "stream",
     "text": [
      "Промпт 26/50, запуск 1/3: 'impressionist with horse' и 'impressionist with pig'\n",
      "down 6\n",
      "up 15\n",
      "mid 16\n"
     ]
    },
    {
     "data": {
      "application/vnd.jupyter.widget-view+json": {
       "model_id": "dd7c75b92dbb4be5a863dddee8833f9e",
       "version_major": 2,
       "version_minor": 0
      },
      "text/plain": [
       "  0%|          | 0/50 [00:00<?, ?it/s]"
      ]
     },
     "metadata": {},
     "output_type": "display_data"
    },
    {
     "name": "stdout",
     "output_type": "stream",
     "text": [
      "down 6\n",
      "up 15\n",
      "mid 16\n"
     ]
    },
    {
     "data": {
      "application/vnd.jupyter.widget-view+json": {
       "model_id": "fed51db3609a4437b872abb9e4b88d9c",
       "version_major": 2,
       "version_minor": 0
      },
      "text/plain": [
       "  0%|          | 0/50 [00:00<?, ?it/s]"
      ]
     },
     "metadata": {},
     "output_type": "display_data"
    },
    {
     "name": "stdout",
     "output_type": "stream",
     "text": [
      "Промпт 26/50, запуск 2/3: 'impressionist with horse' и 'impressionist with pig'\n",
      "down 6\n",
      "up 15\n",
      "mid 16\n"
     ]
    },
    {
     "data": {
      "application/vnd.jupyter.widget-view+json": {
       "model_id": "781f3713ecb241e0962eb3b3d93b422f",
       "version_major": 2,
       "version_minor": 0
      },
      "text/plain": [
       "  0%|          | 0/50 [00:00<?, ?it/s]"
      ]
     },
     "metadata": {},
     "output_type": "display_data"
    },
    {
     "name": "stdout",
     "output_type": "stream",
     "text": [
      "down 6\n",
      "up 15\n",
      "mid 16\n"
     ]
    },
    {
     "data": {
      "application/vnd.jupyter.widget-view+json": {
       "model_id": "dee445767b14484faca2acf33206e48d",
       "version_major": 2,
       "version_minor": 0
      },
      "text/plain": [
       "  0%|          | 0/50 [00:00<?, ?it/s]"
      ]
     },
     "metadata": {},
     "output_type": "display_data"
    },
    {
     "name": "stdout",
     "output_type": "stream",
     "text": [
      "Промпт 26/50, запуск 3/3: 'impressionist with horse' и 'impressionist with pig'\n",
      "down 6\n",
      "up 15\n",
      "mid 16\n"
     ]
    },
    {
     "data": {
      "application/vnd.jupyter.widget-view+json": {
       "model_id": "4fadb5d2c4864c30b5577804694e003f",
       "version_major": 2,
       "version_minor": 0
      },
      "text/plain": [
       "  0%|          | 0/50 [00:00<?, ?it/s]"
      ]
     },
     "metadata": {},
     "output_type": "display_data"
    },
    {
     "name": "stdout",
     "output_type": "stream",
     "text": [
      "down 6\n",
      "up 15\n",
      "mid 16\n"
     ]
    },
    {
     "data": {
      "application/vnd.jupyter.widget-view+json": {
       "model_id": "e7eb1f41dcac4794a58a6da0f644da96",
       "version_major": 2,
       "version_minor": 0
      },
      "text/plain": [
       "  0%|          | 0/50 [00:00<?, ?it/s]"
      ]
     },
     "metadata": {},
     "output_type": "display_data"
    },
    {
     "name": "stdout",
     "output_type": "stream",
     "text": [
      "Промпт 27/50, запуск 1/3: 'surrealist with horse' и 'surrealist with pig'\n",
      "down 6\n",
      "up 15\n",
      "mid 16\n"
     ]
    },
    {
     "data": {
      "application/vnd.jupyter.widget-view+json": {
       "model_id": "b7c20b2f7e8a47319fc1a31f6af89a38",
       "version_major": 2,
       "version_minor": 0
      },
      "text/plain": [
       "  0%|          | 0/50 [00:00<?, ?it/s]"
      ]
     },
     "metadata": {},
     "output_type": "display_data"
    },
    {
     "name": "stdout",
     "output_type": "stream",
     "text": [
      "down 6\n",
      "up 15\n",
      "mid 16\n"
     ]
    },
    {
     "data": {
      "application/vnd.jupyter.widget-view+json": {
       "model_id": "36028b207f5e4afd83dc0a0d54c5d10a",
       "version_major": 2,
       "version_minor": 0
      },
      "text/plain": [
       "  0%|          | 0/50 [00:00<?, ?it/s]"
      ]
     },
     "metadata": {},
     "output_type": "display_data"
    },
    {
     "name": "stdout",
     "output_type": "stream",
     "text": [
      "Промпт 27/50, запуск 2/3: 'surrealist with horse' и 'surrealist with pig'\n",
      "down 6\n",
      "up 15\n",
      "mid 16\n"
     ]
    },
    {
     "data": {
      "application/vnd.jupyter.widget-view+json": {
       "model_id": "011224fdb6154d72bb93f01f5097cc4e",
       "version_major": 2,
       "version_minor": 0
      },
      "text/plain": [
       "  0%|          | 0/50 [00:00<?, ?it/s]"
      ]
     },
     "metadata": {},
     "output_type": "display_data"
    },
    {
     "name": "stdout",
     "output_type": "stream",
     "text": [
      "down 6\n",
      "up 15\n",
      "mid 16\n"
     ]
    },
    {
     "data": {
      "application/vnd.jupyter.widget-view+json": {
       "model_id": "925d212521854c429238d2079d3f716c",
       "version_major": 2,
       "version_minor": 0
      },
      "text/plain": [
       "  0%|          | 0/50 [00:00<?, ?it/s]"
      ]
     },
     "metadata": {},
     "output_type": "display_data"
    },
    {
     "name": "stdout",
     "output_type": "stream",
     "text": [
      "Промпт 27/50, запуск 3/3: 'surrealist with horse' и 'surrealist with pig'\n",
      "down 6\n",
      "up 15\n",
      "mid 16\n"
     ]
    },
    {
     "data": {
      "application/vnd.jupyter.widget-view+json": {
       "model_id": "0b14006037d64bcb9a20b697b25f1226",
       "version_major": 2,
       "version_minor": 0
      },
      "text/plain": [
       "  0%|          | 0/50 [00:00<?, ?it/s]"
      ]
     },
     "metadata": {},
     "output_type": "display_data"
    },
    {
     "name": "stdout",
     "output_type": "stream",
     "text": [
      "down 6\n",
      "up 15\n",
      "mid 16\n"
     ]
    },
    {
     "data": {
      "application/vnd.jupyter.widget-view+json": {
       "model_id": "864cf09fe6c044f2873afcefcfb2e41a",
       "version_major": 2,
       "version_minor": 0
      },
      "text/plain": [
       "  0%|          | 0/50 [00:00<?, ?it/s]"
      ]
     },
     "metadata": {},
     "output_type": "display_data"
    },
    {
     "name": "stdout",
     "output_type": "stream",
     "text": [
      "Промпт 28/50, запуск 1/3: 'anime with horse' и 'anime with pig'\n",
      "down 6\n",
      "up 15\n",
      "mid 16\n"
     ]
    },
    {
     "data": {
      "application/vnd.jupyter.widget-view+json": {
       "model_id": "9ca54961ea1440218e619965d07380a0",
       "version_major": 2,
       "version_minor": 0
      },
      "text/plain": [
       "  0%|          | 0/50 [00:00<?, ?it/s]"
      ]
     },
     "metadata": {},
     "output_type": "display_data"
    },
    {
     "name": "stdout",
     "output_type": "stream",
     "text": [
      "down 6\n",
      "up 15\n",
      "mid 16\n"
     ]
    },
    {
     "data": {
      "application/vnd.jupyter.widget-view+json": {
       "model_id": "426e1c28c2b54f3da605bb1f492d0418",
       "version_major": 2,
       "version_minor": 0
      },
      "text/plain": [
       "  0%|          | 0/50 [00:00<?, ?it/s]"
      ]
     },
     "metadata": {},
     "output_type": "display_data"
    },
    {
     "name": "stdout",
     "output_type": "stream",
     "text": [
      "Промпт 28/50, запуск 2/3: 'anime with horse' и 'anime with pig'\n",
      "down 6\n",
      "up 15\n",
      "mid 16\n"
     ]
    },
    {
     "data": {
      "application/vnd.jupyter.widget-view+json": {
       "model_id": "057d1f55b1f2484b9d67f86b8045de3b",
       "version_major": 2,
       "version_minor": 0
      },
      "text/plain": [
       "  0%|          | 0/50 [00:00<?, ?it/s]"
      ]
     },
     "metadata": {},
     "output_type": "display_data"
    },
    {
     "name": "stdout",
     "output_type": "stream",
     "text": [
      "down 6\n",
      "up 15\n",
      "mid 16\n"
     ]
    },
    {
     "data": {
      "application/vnd.jupyter.widget-view+json": {
       "model_id": "a618ccd56b8a4862a7c5572cd58088f2",
       "version_major": 2,
       "version_minor": 0
      },
      "text/plain": [
       "  0%|          | 0/50 [00:00<?, ?it/s]"
      ]
     },
     "metadata": {},
     "output_type": "display_data"
    },
    {
     "name": "stdout",
     "output_type": "stream",
     "text": [
      "Промпт 28/50, запуск 3/3: 'anime with horse' и 'anime with pig'\n",
      "down 6\n",
      "up 15\n",
      "mid 16\n"
     ]
    },
    {
     "data": {
      "application/vnd.jupyter.widget-view+json": {
       "model_id": "f617c6b36c94427a8dec52507ee67f7a",
       "version_major": 2,
       "version_minor": 0
      },
      "text/plain": [
       "  0%|          | 0/50 [00:00<?, ?it/s]"
      ]
     },
     "metadata": {},
     "output_type": "display_data"
    },
    {
     "name": "stdout",
     "output_type": "stream",
     "text": [
      "down 6\n",
      "up 15\n",
      "mid 16\n"
     ]
    },
    {
     "data": {
      "application/vnd.jupyter.widget-view+json": {
       "model_id": "c76472ebc6f2404f9c63a3ea0d792148",
       "version_major": 2,
       "version_minor": 0
      },
      "text/plain": [
       "  0%|          | 0/50 [00:00<?, ?it/s]"
      ]
     },
     "metadata": {},
     "output_type": "display_data"
    },
    {
     "name": "stdout",
     "output_type": "stream",
     "text": [
      "Промпт 29/50, запуск 1/3: 'retro 50s with horse' и 'retro 50s with pig'\n",
      "down 6\n",
      "up 15\n",
      "mid 16\n"
     ]
    },
    {
     "data": {
      "application/vnd.jupyter.widget-view+json": {
       "model_id": "f8b5fa5d859844e2be140f6b945b6f93",
       "version_major": 2,
       "version_minor": 0
      },
      "text/plain": [
       "  0%|          | 0/50 [00:00<?, ?it/s]"
      ]
     },
     "metadata": {},
     "output_type": "display_data"
    },
    {
     "name": "stdout",
     "output_type": "stream",
     "text": [
      "down 6\n",
      "up 15\n",
      "mid 16\n"
     ]
    },
    {
     "data": {
      "application/vnd.jupyter.widget-view+json": {
       "model_id": "4f65783412a24bd9880df37bbc40f328",
       "version_major": 2,
       "version_minor": 0
      },
      "text/plain": [
       "  0%|          | 0/50 [00:00<?, ?it/s]"
      ]
     },
     "metadata": {},
     "output_type": "display_data"
    },
    {
     "name": "stdout",
     "output_type": "stream",
     "text": [
      "Промпт 29/50, запуск 2/3: 'retro 50s with horse' и 'retro 50s with pig'\n",
      "down 6\n",
      "up 15\n",
      "mid 16\n"
     ]
    },
    {
     "data": {
      "application/vnd.jupyter.widget-view+json": {
       "model_id": "ec1640c2036b4496b89c36c9bc0445ca",
       "version_major": 2,
       "version_minor": 0
      },
      "text/plain": [
       "  0%|          | 0/50 [00:00<?, ?it/s]"
      ]
     },
     "metadata": {},
     "output_type": "display_data"
    },
    {
     "name": "stdout",
     "output_type": "stream",
     "text": [
      "down 6\n",
      "up 15\n",
      "mid 16\n"
     ]
    },
    {
     "data": {
      "application/vnd.jupyter.widget-view+json": {
       "model_id": "5f5ef36993b84050aee2667933ac33a8",
       "version_major": 2,
       "version_minor": 0
      },
      "text/plain": [
       "  0%|          | 0/50 [00:00<?, ?it/s]"
      ]
     },
     "metadata": {},
     "output_type": "display_data"
    },
    {
     "name": "stdout",
     "output_type": "stream",
     "text": [
      "Промпт 29/50, запуск 3/3: 'retro 50s with horse' и 'retro 50s with pig'\n",
      "down 6\n",
      "up 15\n",
      "mid 16\n"
     ]
    },
    {
     "data": {
      "application/vnd.jupyter.widget-view+json": {
       "model_id": "4931c16faff64b749ef2306023b54387",
       "version_major": 2,
       "version_minor": 0
      },
      "text/plain": [
       "  0%|          | 0/50 [00:00<?, ?it/s]"
      ]
     },
     "metadata": {},
     "output_type": "display_data"
    },
    {
     "name": "stdout",
     "output_type": "stream",
     "text": [
      "down 6\n",
      "up 15\n",
      "mid 16\n"
     ]
    },
    {
     "data": {
      "application/vnd.jupyter.widget-view+json": {
       "model_id": "d93c038e93ad46afa6076ead137d2eee",
       "version_major": 2,
       "version_minor": 0
      },
      "text/plain": [
       "  0%|          | 0/50 [00:00<?, ?it/s]"
      ]
     },
     "metadata": {},
     "output_type": "display_data"
    },
    {
     "name": "stdout",
     "output_type": "stream",
     "text": [
      "Промпт 30/50, запуск 1/3: 'film noir with horse' и 'film noir with pig'\n",
      "down 6\n",
      "up 15\n",
      "mid 16\n"
     ]
    },
    {
     "data": {
      "application/vnd.jupyter.widget-view+json": {
       "model_id": "79a6c571c4d64b76be4609ba761794d2",
       "version_major": 2,
       "version_minor": 0
      },
      "text/plain": [
       "  0%|          | 0/50 [00:00<?, ?it/s]"
      ]
     },
     "metadata": {},
     "output_type": "display_data"
    },
    {
     "name": "stdout",
     "output_type": "stream",
     "text": [
      "down 6\n",
      "up 15\n",
      "mid 16\n"
     ]
    },
    {
     "data": {
      "application/vnd.jupyter.widget-view+json": {
       "model_id": "ea488fa3db914718b5800165b5db5498",
       "version_major": 2,
       "version_minor": 0
      },
      "text/plain": [
       "  0%|          | 0/50 [00:00<?, ?it/s]"
      ]
     },
     "metadata": {},
     "output_type": "display_data"
    },
    {
     "name": "stdout",
     "output_type": "stream",
     "text": [
      "Промпт 30/50, запуск 2/3: 'film noir with horse' и 'film noir with pig'\n",
      "down 6\n",
      "up 15\n",
      "mid 16\n"
     ]
    },
    {
     "data": {
      "application/vnd.jupyter.widget-view+json": {
       "model_id": "c04277bbe9b0409992ae9b1b73e09cd2",
       "version_major": 2,
       "version_minor": 0
      },
      "text/plain": [
       "  0%|          | 0/50 [00:00<?, ?it/s]"
      ]
     },
     "metadata": {},
     "output_type": "display_data"
    },
    {
     "name": "stdout",
     "output_type": "stream",
     "text": [
      "down 6\n",
      "up 15\n",
      "mid 16\n"
     ]
    },
    {
     "data": {
      "application/vnd.jupyter.widget-view+json": {
       "model_id": "bf1548578b884bb08c8b6304a4764142",
       "version_major": 2,
       "version_minor": 0
      },
      "text/plain": [
       "  0%|          | 0/50 [00:00<?, ?it/s]"
      ]
     },
     "metadata": {},
     "output_type": "display_data"
    },
    {
     "name": "stdout",
     "output_type": "stream",
     "text": [
      "Промпт 30/50, запуск 3/3: 'film noir with horse' и 'film noir with pig'\n",
      "down 6\n",
      "up 15\n",
      "mid 16\n"
     ]
    },
    {
     "data": {
      "application/vnd.jupyter.widget-view+json": {
       "model_id": "bb6fc7fe5c934f38919deed323b1c310",
       "version_major": 2,
       "version_minor": 0
      },
      "text/plain": [
       "  0%|          | 0/50 [00:00<?, ?it/s]"
      ]
     },
     "metadata": {},
     "output_type": "display_data"
    },
    {
     "name": "stdout",
     "output_type": "stream",
     "text": [
      "down 6\n",
      "up 15\n",
      "mid 16\n"
     ]
    },
    {
     "data": {
      "application/vnd.jupyter.widget-view+json": {
       "model_id": "9b7ae798cc5b40bc9fe65d12e693b771",
       "version_major": 2,
       "version_minor": 0
      },
      "text/plain": [
       "  0%|          | 0/50 [00:00<?, ?it/s]"
      ]
     },
     "metadata": {},
     "output_type": "display_data"
    },
    {
     "name": "stdout",
     "output_type": "stream",
     "text": [
      "Промпт 31/50, запуск 1/3: 'medieval manuscript with horse' и 'medieval manuscript with pig'\n",
      "down 6\n",
      "up 15\n",
      "mid 16\n"
     ]
    },
    {
     "data": {
      "application/vnd.jupyter.widget-view+json": {
       "model_id": "7c373760840b4f6eb6c275000a7e0a33",
       "version_major": 2,
       "version_minor": 0
      },
      "text/plain": [
       "  0%|          | 0/50 [00:00<?, ?it/s]"
      ]
     },
     "metadata": {},
     "output_type": "display_data"
    },
    {
     "name": "stdout",
     "output_type": "stream",
     "text": [
      "down 6\n",
      "up 15\n",
      "mid 16\n"
     ]
    },
    {
     "data": {
      "application/vnd.jupyter.widget-view+json": {
       "model_id": "1d62309902304098a5919691a6c96b0c",
       "version_major": 2,
       "version_minor": 0
      },
      "text/plain": [
       "  0%|          | 0/50 [00:00<?, ?it/s]"
      ]
     },
     "metadata": {},
     "output_type": "display_data"
    },
    {
     "name": "stdout",
     "output_type": "stream",
     "text": [
      "Промпт 31/50, запуск 2/3: 'medieval manuscript with horse' и 'medieval manuscript with pig'\n",
      "down 6\n",
      "up 15\n",
      "mid 16\n"
     ]
    },
    {
     "data": {
      "application/vnd.jupyter.widget-view+json": {
       "model_id": "fd7e7bd015394c6a80b9ca063a7db0f2",
       "version_major": 2,
       "version_minor": 0
      },
      "text/plain": [
       "  0%|          | 0/50 [00:00<?, ?it/s]"
      ]
     },
     "metadata": {},
     "output_type": "display_data"
    },
    {
     "name": "stdout",
     "output_type": "stream",
     "text": [
      "down 6\n",
      "up 15\n",
      "mid 16\n"
     ]
    },
    {
     "data": {
      "application/vnd.jupyter.widget-view+json": {
       "model_id": "eaf476a982ad4421adcbaf855dff1aeb",
       "version_major": 2,
       "version_minor": 0
      },
      "text/plain": [
       "  0%|          | 0/50 [00:00<?, ?it/s]"
      ]
     },
     "metadata": {},
     "output_type": "display_data"
    },
    {
     "name": "stdout",
     "output_type": "stream",
     "text": [
      "Промпт 31/50, запуск 3/3: 'medieval manuscript with horse' и 'medieval manuscript with pig'\n",
      "down 6\n",
      "up 15\n",
      "mid 16\n"
     ]
    },
    {
     "data": {
      "application/vnd.jupyter.widget-view+json": {
       "model_id": "707837efd03d4923ba6f07e6bfcd2937",
       "version_major": 2,
       "version_minor": 0
      },
      "text/plain": [
       "  0%|          | 0/50 [00:00<?, ?it/s]"
      ]
     },
     "metadata": {},
     "output_type": "display_data"
    },
    {
     "name": "stdout",
     "output_type": "stream",
     "text": [
      "down 6\n",
      "up 15\n",
      "mid 16\n"
     ]
    },
    {
     "data": {
      "application/vnd.jupyter.widget-view+json": {
       "model_id": "1ed74de7970f4baf80c35f1d3383a5bf",
       "version_major": 2,
       "version_minor": 0
      },
      "text/plain": [
       "  0%|          | 0/50 [00:00<?, ?it/s]"
      ]
     },
     "metadata": {},
     "output_type": "display_data"
    },
    {
     "name": "stdout",
     "output_type": "stream",
     "text": [
      "Промпт 32/50, запуск 1/3: 'mosaic with horse' и 'mosaic with pig'\n",
      "down 6\n",
      "up 15\n",
      "mid 16\n"
     ]
    },
    {
     "data": {
      "application/vnd.jupyter.widget-view+json": {
       "model_id": "26428a9c27404749b4a60df4c8760152",
       "version_major": 2,
       "version_minor": 0
      },
      "text/plain": [
       "  0%|          | 0/50 [00:00<?, ?it/s]"
      ]
     },
     "metadata": {},
     "output_type": "display_data"
    },
    {
     "name": "stdout",
     "output_type": "stream",
     "text": [
      "down 6\n",
      "up 15\n",
      "mid 16\n"
     ]
    },
    {
     "data": {
      "application/vnd.jupyter.widget-view+json": {
       "model_id": "a0af2f686b2a40a69d1b641aab91c2f7",
       "version_major": 2,
       "version_minor": 0
      },
      "text/plain": [
       "  0%|          | 0/50 [00:00<?, ?it/s]"
      ]
     },
     "metadata": {},
     "output_type": "display_data"
    },
    {
     "name": "stdout",
     "output_type": "stream",
     "text": [
      "Промпт 32/50, запуск 2/3: 'mosaic with horse' и 'mosaic with pig'\n",
      "down 6\n",
      "up 15\n",
      "mid 16\n"
     ]
    },
    {
     "data": {
      "application/vnd.jupyter.widget-view+json": {
       "model_id": "35488ef71d144fdeb2267f69ad13386d",
       "version_major": 2,
       "version_minor": 0
      },
      "text/plain": [
       "  0%|          | 0/50 [00:00<?, ?it/s]"
      ]
     },
     "metadata": {},
     "output_type": "display_data"
    },
    {
     "name": "stdout",
     "output_type": "stream",
     "text": [
      "down 6\n",
      "up 15\n",
      "mid 16\n"
     ]
    },
    {
     "data": {
      "application/vnd.jupyter.widget-view+json": {
       "model_id": "0d93b2447e4d45739b55111bdab60d6b",
       "version_major": 2,
       "version_minor": 0
      },
      "text/plain": [
       "  0%|          | 0/50 [00:00<?, ?it/s]"
      ]
     },
     "metadata": {},
     "output_type": "display_data"
    },
    {
     "name": "stdout",
     "output_type": "stream",
     "text": [
      "Промпт 32/50, запуск 3/3: 'mosaic with horse' и 'mosaic with pig'\n",
      "down 6\n",
      "up 15\n",
      "mid 16\n"
     ]
    },
    {
     "data": {
      "application/vnd.jupyter.widget-view+json": {
       "model_id": "6908f56263e44471b8c8b365bae6aba1",
       "version_major": 2,
       "version_minor": 0
      },
      "text/plain": [
       "  0%|          | 0/50 [00:00<?, ?it/s]"
      ]
     },
     "metadata": {},
     "output_type": "display_data"
    },
    {
     "name": "stdout",
     "output_type": "stream",
     "text": [
      "down 6\n",
      "up 15\n",
      "mid 16\n"
     ]
    },
    {
     "data": {
      "application/vnd.jupyter.widget-view+json": {
       "model_id": "e5043371d6834eceb8958e4a262aedee",
       "version_major": 2,
       "version_minor": 0
      },
      "text/plain": [
       "  0%|          | 0/50 [00:00<?, ?it/s]"
      ]
     },
     "metadata": {},
     "output_type": "display_data"
    },
    {
     "name": "stdout",
     "output_type": "stream",
     "text": [
      "Промпт 33/50, запуск 1/3: 'paper craft with horse' и 'paper craft with pig'\n",
      "down 6\n",
      "up 15\n",
      "mid 16\n"
     ]
    },
    {
     "data": {
      "application/vnd.jupyter.widget-view+json": {
       "model_id": "2c86c90c822e42feab90f926478eb239",
       "version_major": 2,
       "version_minor": 0
      },
      "text/plain": [
       "  0%|          | 0/50 [00:00<?, ?it/s]"
      ]
     },
     "metadata": {},
     "output_type": "display_data"
    },
    {
     "name": "stdout",
     "output_type": "stream",
     "text": [
      "down 6\n",
      "up 15\n",
      "mid 16\n"
     ]
    },
    {
     "data": {
      "application/vnd.jupyter.widget-view+json": {
       "model_id": "33e0ca3e704b4b58a0cd67e6ac4e0b79",
       "version_major": 2,
       "version_minor": 0
      },
      "text/plain": [
       "  0%|          | 0/50 [00:00<?, ?it/s]"
      ]
     },
     "metadata": {},
     "output_type": "display_data"
    },
    {
     "name": "stdout",
     "output_type": "stream",
     "text": [
      "Промпт 33/50, запуск 2/3: 'paper craft with horse' и 'paper craft with pig'\n",
      "down 6\n",
      "up 15\n",
      "mid 16\n"
     ]
    },
    {
     "data": {
      "application/vnd.jupyter.widget-view+json": {
       "model_id": "b4ceb2ca5e2b4fc685d5c0117c096599",
       "version_major": 2,
       "version_minor": 0
      },
      "text/plain": [
       "  0%|          | 0/50 [00:00<?, ?it/s]"
      ]
     },
     "metadata": {},
     "output_type": "display_data"
    },
    {
     "name": "stdout",
     "output_type": "stream",
     "text": [
      "down 6\n",
      "up 15\n",
      "mid 16\n"
     ]
    },
    {
     "data": {
      "application/vnd.jupyter.widget-view+json": {
       "model_id": "57ec911748da4c16acbb2ac920b86f53",
       "version_major": 2,
       "version_minor": 0
      },
      "text/plain": [
       "  0%|          | 0/50 [00:00<?, ?it/s]"
      ]
     },
     "metadata": {},
     "output_type": "display_data"
    },
    {
     "name": "stdout",
     "output_type": "stream",
     "text": [
      "Промпт 33/50, запуск 3/3: 'paper craft with horse' и 'paper craft with pig'\n",
      "down 6\n",
      "up 15\n",
      "mid 16\n"
     ]
    },
    {
     "data": {
      "application/vnd.jupyter.widget-view+json": {
       "model_id": "fd993a2861444cd5b4404d9e73bfc724",
       "version_major": 2,
       "version_minor": 0
      },
      "text/plain": [
       "  0%|          | 0/50 [00:00<?, ?it/s]"
      ]
     },
     "metadata": {},
     "output_type": "display_data"
    },
    {
     "name": "stdout",
     "output_type": "stream",
     "text": [
      "down 6\n",
      "up 15\n",
      "mid 16\n"
     ]
    },
    {
     "data": {
      "application/vnd.jupyter.widget-view+json": {
       "model_id": "e5b48789103043b69501bcc50a5815b8",
       "version_major": 2,
       "version_minor": 0
      },
      "text/plain": [
       "  0%|          | 0/50 [00:00<?, ?it/s]"
      ]
     },
     "metadata": {},
     "output_type": "display_data"
    },
    {
     "name": "stdout",
     "output_type": "stream",
     "text": [
      "Промпт 34/50, запуск 1/3: 'graffiti with horse' и 'graffiti with pig'\n",
      "down 6\n",
      "up 15\n",
      "mid 16\n"
     ]
    },
    {
     "data": {
      "application/vnd.jupyter.widget-view+json": {
       "model_id": "e630f6fbbb9f410eb917023547d84d0b",
       "version_major": 2,
       "version_minor": 0
      },
      "text/plain": [
       "  0%|          | 0/50 [00:00<?, ?it/s]"
      ]
     },
     "metadata": {},
     "output_type": "display_data"
    },
    {
     "name": "stdout",
     "output_type": "stream",
     "text": [
      "down 6\n",
      "up 15\n",
      "mid 16\n"
     ]
    },
    {
     "data": {
      "application/vnd.jupyter.widget-view+json": {
       "model_id": "03d70e3c339c4a9db394dae671dbf8e0",
       "version_major": 2,
       "version_minor": 0
      },
      "text/plain": [
       "  0%|          | 0/50 [00:00<?, ?it/s]"
      ]
     },
     "metadata": {},
     "output_type": "display_data"
    },
    {
     "name": "stdout",
     "output_type": "stream",
     "text": [
      "Промпт 34/50, запуск 2/3: 'graffiti with horse' и 'graffiti with pig'\n",
      "down 6\n",
      "up 15\n",
      "mid 16\n"
     ]
    },
    {
     "data": {
      "application/vnd.jupyter.widget-view+json": {
       "model_id": "e757ee4d51bb4089a944b06a3891fd87",
       "version_major": 2,
       "version_minor": 0
      },
      "text/plain": [
       "  0%|          | 0/50 [00:00<?, ?it/s]"
      ]
     },
     "metadata": {},
     "output_type": "display_data"
    },
    {
     "name": "stdout",
     "output_type": "stream",
     "text": [
      "down 6\n",
      "up 15\n",
      "mid 16\n"
     ]
    },
    {
     "data": {
      "application/vnd.jupyter.widget-view+json": {
       "model_id": "c0c39eb0dcf349f2851809a55e656e56",
       "version_major": 2,
       "version_minor": 0
      },
      "text/plain": [
       "  0%|          | 0/50 [00:00<?, ?it/s]"
      ]
     },
     "metadata": {},
     "output_type": "display_data"
    },
    {
     "name": "stdout",
     "output_type": "stream",
     "text": [
      "Промпт 34/50, запуск 3/3: 'graffiti with horse' и 'graffiti with pig'\n",
      "down 6\n",
      "up 15\n",
      "mid 16\n"
     ]
    },
    {
     "data": {
      "application/vnd.jupyter.widget-view+json": {
       "model_id": "f8a023eece1642b4912996c3aad2fa0a",
       "version_major": 2,
       "version_minor": 0
      },
      "text/plain": [
       "  0%|          | 0/50 [00:00<?, ?it/s]"
      ]
     },
     "metadata": {},
     "output_type": "display_data"
    },
    {
     "name": "stdout",
     "output_type": "stream",
     "text": [
      "down 6\n",
      "up 15\n",
      "mid 16\n"
     ]
    },
    {
     "data": {
      "application/vnd.jupyter.widget-view+json": {
       "model_id": "2d91e2b722004d82abb8b11919cfdcb0",
       "version_major": 2,
       "version_minor": 0
      },
      "text/plain": [
       "  0%|          | 0/50 [00:00<?, ?it/s]"
      ]
     },
     "metadata": {},
     "output_type": "display_data"
    },
    {
     "name": "stdout",
     "output_type": "stream",
     "text": [
      "Промпт 35/50, запуск 1/3: 'low poly 3D with horse' и 'low poly 3D with pig'\n",
      "down 6\n",
      "up 15\n",
      "mid 16\n"
     ]
    },
    {
     "data": {
      "application/vnd.jupyter.widget-view+json": {
       "model_id": "16b7b51a15ea443f9f00157c7e734275",
       "version_major": 2,
       "version_minor": 0
      },
      "text/plain": [
       "  0%|          | 0/50 [00:00<?, ?it/s]"
      ]
     },
     "metadata": {},
     "output_type": "display_data"
    },
    {
     "name": "stdout",
     "output_type": "stream",
     "text": [
      "down 6\n",
      "up 15\n",
      "mid 16\n"
     ]
    },
    {
     "data": {
      "application/vnd.jupyter.widget-view+json": {
       "model_id": "d07a13262a0645d4a1a8cef514789fa7",
       "version_major": 2,
       "version_minor": 0
      },
      "text/plain": [
       "  0%|          | 0/50 [00:00<?, ?it/s]"
      ]
     },
     "metadata": {},
     "output_type": "display_data"
    },
    {
     "name": "stdout",
     "output_type": "stream",
     "text": [
      "Промпт 35/50, запуск 2/3: 'low poly 3D with horse' и 'low poly 3D with pig'\n",
      "down 6\n",
      "up 15\n",
      "mid 16\n"
     ]
    },
    {
     "data": {
      "application/vnd.jupyter.widget-view+json": {
       "model_id": "8efea85c0b7446ac878554d505a93c99",
       "version_major": 2,
       "version_minor": 0
      },
      "text/plain": [
       "  0%|          | 0/50 [00:00<?, ?it/s]"
      ]
     },
     "metadata": {},
     "output_type": "display_data"
    },
    {
     "name": "stdout",
     "output_type": "stream",
     "text": [
      "down 6\n",
      "up 15\n",
      "mid 16\n"
     ]
    },
    {
     "data": {
      "application/vnd.jupyter.widget-view+json": {
       "model_id": "7ea66a6b29c9419bb7bc7944a0c01fb9",
       "version_major": 2,
       "version_minor": 0
      },
      "text/plain": [
       "  0%|          | 0/50 [00:00<?, ?it/s]"
      ]
     },
     "metadata": {},
     "output_type": "display_data"
    },
    {
     "name": "stdout",
     "output_type": "stream",
     "text": [
      "Промпт 35/50, запуск 3/3: 'low poly 3D with horse' и 'low poly 3D with pig'\n",
      "down 6\n",
      "up 15\n",
      "mid 16\n"
     ]
    },
    {
     "data": {
      "application/vnd.jupyter.widget-view+json": {
       "model_id": "6aec6e2a44c643db9c6c3abd5083e4d5",
       "version_major": 2,
       "version_minor": 0
      },
      "text/plain": [
       "  0%|          | 0/50 [00:00<?, ?it/s]"
      ]
     },
     "metadata": {},
     "output_type": "display_data"
    },
    {
     "name": "stdout",
     "output_type": "stream",
     "text": [
      "down 6\n",
      "up 15\n",
      "mid 16\n"
     ]
    },
    {
     "data": {
      "application/vnd.jupyter.widget-view+json": {
       "model_id": "3580e62b80dd46d1b45da3bdbaf996f8",
       "version_major": 2,
       "version_minor": 0
      },
      "text/plain": [
       "  0%|          | 0/50 [00:00<?, ?it/s]"
      ]
     },
     "metadata": {},
     "output_type": "display_data"
    },
    {
     "name": "stdout",
     "output_type": "stream",
     "text": [
      "Промпт 36/50, запуск 1/3: 'oil painting with horse' и 'oil painting with pig'\n",
      "down 6\n",
      "up 15\n",
      "mid 16\n"
     ]
    },
    {
     "data": {
      "application/vnd.jupyter.widget-view+json": {
       "model_id": "1184df90244a45ebb9d18198ea8079ab",
       "version_major": 2,
       "version_minor": 0
      },
      "text/plain": [
       "  0%|          | 0/50 [00:00<?, ?it/s]"
      ]
     },
     "metadata": {},
     "output_type": "display_data"
    },
    {
     "name": "stdout",
     "output_type": "stream",
     "text": [
      "down 6\n",
      "up 15\n",
      "mid 16\n"
     ]
    },
    {
     "data": {
      "application/vnd.jupyter.widget-view+json": {
       "model_id": "fc444420821445c08d6dbe42c15275a1",
       "version_major": 2,
       "version_minor": 0
      },
      "text/plain": [
       "  0%|          | 0/50 [00:00<?, ?it/s]"
      ]
     },
     "metadata": {},
     "output_type": "display_data"
    },
    {
     "name": "stdout",
     "output_type": "stream",
     "text": [
      "Промпт 36/50, запуск 2/3: 'oil painting with horse' и 'oil painting with pig'\n",
      "down 6\n",
      "up 15\n",
      "mid 16\n"
     ]
    },
    {
     "data": {
      "application/vnd.jupyter.widget-view+json": {
       "model_id": "553190c6883e4fe980dadcdd76c5e551",
       "version_major": 2,
       "version_minor": 0
      },
      "text/plain": [
       "  0%|          | 0/50 [00:00<?, ?it/s]"
      ]
     },
     "metadata": {},
     "output_type": "display_data"
    },
    {
     "name": "stdout",
     "output_type": "stream",
     "text": [
      "down 6\n",
      "up 15\n",
      "mid 16\n"
     ]
    },
    {
     "data": {
      "application/vnd.jupyter.widget-view+json": {
       "model_id": "ea357e6348f540a990f5ce1fb7cb6c17",
       "version_major": 2,
       "version_minor": 0
      },
      "text/plain": [
       "  0%|          | 0/50 [00:00<?, ?it/s]"
      ]
     },
     "metadata": {},
     "output_type": "display_data"
    },
    {
     "name": "stdout",
     "output_type": "stream",
     "text": [
      "Промпт 36/50, запуск 3/3: 'oil painting with horse' и 'oil painting with pig'\n",
      "down 6\n",
      "up 15\n",
      "mid 16\n"
     ]
    },
    {
     "data": {
      "application/vnd.jupyter.widget-view+json": {
       "model_id": "7c9a0ea3d4354c00942b22211b4f61f8",
       "version_major": 2,
       "version_minor": 0
      },
      "text/plain": [
       "  0%|          | 0/50 [00:00<?, ?it/s]"
      ]
     },
     "metadata": {},
     "output_type": "display_data"
    },
    {
     "name": "stdout",
     "output_type": "stream",
     "text": [
      "down 6\n",
      "up 15\n",
      "mid 16\n"
     ]
    },
    {
     "data": {
      "application/vnd.jupyter.widget-view+json": {
       "model_id": "92111f3a7b4c4aeeb3b264297be2e3f7",
       "version_major": 2,
       "version_minor": 0
      },
      "text/plain": [
       "  0%|          | 0/50 [00:00<?, ?it/s]"
      ]
     },
     "metadata": {},
     "output_type": "display_data"
    },
    {
     "name": "stdout",
     "output_type": "stream",
     "text": [
      "Промпт 37/50, запуск 1/3: 'neon with horse' и 'neon with pig'\n",
      "down 6\n",
      "up 15\n",
      "mid 16\n"
     ]
    },
    {
     "data": {
      "application/vnd.jupyter.widget-view+json": {
       "model_id": "826d7b7ed9ce47a896d0b802fe755073",
       "version_major": 2,
       "version_minor": 0
      },
      "text/plain": [
       "  0%|          | 0/50 [00:00<?, ?it/s]"
      ]
     },
     "metadata": {},
     "output_type": "display_data"
    },
    {
     "name": "stdout",
     "output_type": "stream",
     "text": [
      "down 6\n",
      "up 15\n",
      "mid 16\n"
     ]
    },
    {
     "data": {
      "application/vnd.jupyter.widget-view+json": {
       "model_id": "861a7d1c4b5a4007a64d889f6ecfdffc",
       "version_major": 2,
       "version_minor": 0
      },
      "text/plain": [
       "  0%|          | 0/50 [00:00<?, ?it/s]"
      ]
     },
     "metadata": {},
     "output_type": "display_data"
    },
    {
     "name": "stdout",
     "output_type": "stream",
     "text": [
      "Промпт 37/50, запуск 2/3: 'neon with horse' и 'neon with pig'\n",
      "down 6\n",
      "up 15\n",
      "mid 16\n"
     ]
    },
    {
     "data": {
      "application/vnd.jupyter.widget-view+json": {
       "model_id": "2fcea620ab8a4538aee9db1fff835e02",
       "version_major": 2,
       "version_minor": 0
      },
      "text/plain": [
       "  0%|          | 0/50 [00:00<?, ?it/s]"
      ]
     },
     "metadata": {},
     "output_type": "display_data"
    },
    {
     "name": "stdout",
     "output_type": "stream",
     "text": [
      "down 6\n",
      "up 15\n",
      "mid 16\n"
     ]
    },
    {
     "data": {
      "application/vnd.jupyter.widget-view+json": {
       "model_id": "1d80f4e94a124eada1b5ecae9bbefe13",
       "version_major": 2,
       "version_minor": 0
      },
      "text/plain": [
       "  0%|          | 0/50 [00:00<?, ?it/s]"
      ]
     },
     "metadata": {},
     "output_type": "display_data"
    },
    {
     "name": "stdout",
     "output_type": "stream",
     "text": [
      "Промпт 37/50, запуск 3/3: 'neon with horse' и 'neon with pig'\n",
      "down 6\n",
      "up 15\n",
      "mid 16\n"
     ]
    },
    {
     "data": {
      "application/vnd.jupyter.widget-view+json": {
       "model_id": "78c600f09e374faf86171cf1bc8ccfb5",
       "version_major": 2,
       "version_minor": 0
      },
      "text/plain": [
       "  0%|          | 0/50 [00:00<?, ?it/s]"
      ]
     },
     "metadata": {},
     "output_type": "display_data"
    },
    {
     "name": "stdout",
     "output_type": "stream",
     "text": [
      "down 6\n",
      "up 15\n",
      "mid 16\n"
     ]
    },
    {
     "data": {
      "application/vnd.jupyter.widget-view+json": {
       "model_id": "b6779f447dfe4ee5a8a874dff7d3c23d",
       "version_major": 2,
       "version_minor": 0
      },
      "text/plain": [
       "  0%|          | 0/50 [00:00<?, ?it/s]"
      ]
     },
     "metadata": {},
     "output_type": "display_data"
    },
    {
     "name": "stdout",
     "output_type": "stream",
     "text": [
      "Промпт 38/50, запуск 1/3: 'pastel with horse' и 'pastel with pig'\n",
      "down 6\n",
      "up 15\n",
      "mid 16\n"
     ]
    },
    {
     "data": {
      "application/vnd.jupyter.widget-view+json": {
       "model_id": "e7a2841f9bc44f159e3d5cdd3b531555",
       "version_major": 2,
       "version_minor": 0
      },
      "text/plain": [
       "  0%|          | 0/50 [00:00<?, ?it/s]"
      ]
     },
     "metadata": {},
     "output_type": "display_data"
    },
    {
     "name": "stdout",
     "output_type": "stream",
     "text": [
      "down 6\n",
      "up 15\n",
      "mid 16\n"
     ]
    },
    {
     "data": {
      "application/vnd.jupyter.widget-view+json": {
       "model_id": "0f24462c03ef49fd81f8a45996111f6a",
       "version_major": 2,
       "version_minor": 0
      },
      "text/plain": [
       "  0%|          | 0/50 [00:00<?, ?it/s]"
      ]
     },
     "metadata": {},
     "output_type": "display_data"
    },
    {
     "name": "stdout",
     "output_type": "stream",
     "text": [
      "Промпт 38/50, запуск 2/3: 'pastel with horse' и 'pastel with pig'\n",
      "down 6\n",
      "up 15\n",
      "mid 16\n"
     ]
    },
    {
     "data": {
      "application/vnd.jupyter.widget-view+json": {
       "model_id": "76ccb4a434ab4c3abdc47e3d0f7235a7",
       "version_major": 2,
       "version_minor": 0
      },
      "text/plain": [
       "  0%|          | 0/50 [00:00<?, ?it/s]"
      ]
     },
     "metadata": {},
     "output_type": "display_data"
    },
    {
     "name": "stdout",
     "output_type": "stream",
     "text": [
      "down 6\n",
      "up 15\n",
      "mid 16\n"
     ]
    },
    {
     "data": {
      "application/vnd.jupyter.widget-view+json": {
       "model_id": "8cd3b77e7498496493c971fcf992cbde",
       "version_major": 2,
       "version_minor": 0
      },
      "text/plain": [
       "  0%|          | 0/50 [00:00<?, ?it/s]"
      ]
     },
     "metadata": {},
     "output_type": "display_data"
    },
    {
     "name": "stdout",
     "output_type": "stream",
     "text": [
      "Промпт 38/50, запуск 3/3: 'pastel with horse' и 'pastel with pig'\n",
      "down 6\n",
      "up 15\n",
      "mid 16\n"
     ]
    },
    {
     "data": {
      "application/vnd.jupyter.widget-view+json": {
       "model_id": "6a0a0931263143fea157662947fefdf2",
       "version_major": 2,
       "version_minor": 0
      },
      "text/plain": [
       "  0%|          | 0/50 [00:00<?, ?it/s]"
      ]
     },
     "metadata": {},
     "output_type": "display_data"
    },
    {
     "name": "stdout",
     "output_type": "stream",
     "text": [
      "down 6\n",
      "up 15\n",
      "mid 16\n"
     ]
    },
    {
     "data": {
      "application/vnd.jupyter.widget-view+json": {
       "model_id": "8f71702cf75547b1ae851ea389f593ef",
       "version_major": 2,
       "version_minor": 0
      },
      "text/plain": [
       "  0%|          | 0/50 [00:00<?, ?it/s]"
      ]
     },
     "metadata": {},
     "output_type": "display_data"
    },
    {
     "name": "stdout",
     "output_type": "stream",
     "text": [
      "Промпт 39/50, запуск 1/3: 'dystopian with horse' и 'dystopian with pig'\n",
      "down 6\n",
      "up 15\n",
      "mid 16\n"
     ]
    },
    {
     "data": {
      "application/vnd.jupyter.widget-view+json": {
       "model_id": "76793ebafb864605b4f9d2b979bc3ae0",
       "version_major": 2,
       "version_minor": 0
      },
      "text/plain": [
       "  0%|          | 0/50 [00:00<?, ?it/s]"
      ]
     },
     "metadata": {},
     "output_type": "display_data"
    },
    {
     "name": "stdout",
     "output_type": "stream",
     "text": [
      "down 6\n",
      "up 15\n",
      "mid 16\n"
     ]
    },
    {
     "data": {
      "application/vnd.jupyter.widget-view+json": {
       "model_id": "59382b8cf19e4939b9cbed4df1df2800",
       "version_major": 2,
       "version_minor": 0
      },
      "text/plain": [
       "  0%|          | 0/50 [00:00<?, ?it/s]"
      ]
     },
     "metadata": {},
     "output_type": "display_data"
    },
    {
     "name": "stdout",
     "output_type": "stream",
     "text": [
      "Промпт 39/50, запуск 2/3: 'dystopian with horse' и 'dystopian with pig'\n",
      "down 6\n",
      "up 15\n",
      "mid 16\n"
     ]
    },
    {
     "data": {
      "application/vnd.jupyter.widget-view+json": {
       "model_id": "d10fa8b468334ab2bd877f27f521a8af",
       "version_major": 2,
       "version_minor": 0
      },
      "text/plain": [
       "  0%|          | 0/50 [00:00<?, ?it/s]"
      ]
     },
     "metadata": {},
     "output_type": "display_data"
    },
    {
     "name": "stdout",
     "output_type": "stream",
     "text": [
      "down 6\n",
      "up 15\n",
      "mid 16\n"
     ]
    },
    {
     "data": {
      "application/vnd.jupyter.widget-view+json": {
       "model_id": "7e914f73f89e4bf0b604a62e7a8fedf3",
       "version_major": 2,
       "version_minor": 0
      },
      "text/plain": [
       "  0%|          | 0/50 [00:00<?, ?it/s]"
      ]
     },
     "metadata": {},
     "output_type": "display_data"
    },
    {
     "name": "stdout",
     "output_type": "stream",
     "text": [
      "Промпт 39/50, запуск 3/3: 'dystopian with horse' и 'dystopian with pig'\n",
      "down 6\n",
      "up 15\n",
      "mid 16\n"
     ]
    },
    {
     "data": {
      "application/vnd.jupyter.widget-view+json": {
       "model_id": "3f95888ec758445ab2b2f5c0fa3da795",
       "version_major": 2,
       "version_minor": 0
      },
      "text/plain": [
       "  0%|          | 0/50 [00:00<?, ?it/s]"
      ]
     },
     "metadata": {},
     "output_type": "display_data"
    },
    {
     "name": "stdout",
     "output_type": "stream",
     "text": [
      "down 6\n",
      "up 15\n",
      "mid 16\n"
     ]
    },
    {
     "data": {
      "application/vnd.jupyter.widget-view+json": {
       "model_id": "75e5d64ea8ed48e7b74a309929e808ab",
       "version_major": 2,
       "version_minor": 0
      },
      "text/plain": [
       "  0%|          | 0/50 [00:00<?, ?it/s]"
      ]
     },
     "metadata": {},
     "output_type": "display_data"
    },
    {
     "name": "stdout",
     "output_type": "stream",
     "text": [
      "Промпт 40/50, запуск 1/3: 'children's book illustration with horse' и 'children's book illustration with pig'\n",
      "down 6\n",
      "up 15\n",
      "mid 16\n"
     ]
    },
    {
     "data": {
      "application/vnd.jupyter.widget-view+json": {
       "model_id": "981ee8a271464e39a5cd7141f3c6d847",
       "version_major": 2,
       "version_minor": 0
      },
      "text/plain": [
       "  0%|          | 0/50 [00:00<?, ?it/s]"
      ]
     },
     "metadata": {},
     "output_type": "display_data"
    },
    {
     "name": "stdout",
     "output_type": "stream",
     "text": [
      "down 6\n",
      "up 15\n",
      "mid 16\n"
     ]
    },
    {
     "data": {
      "application/vnd.jupyter.widget-view+json": {
       "model_id": "1ad03ded9de747928700e8af8b8fc73b",
       "version_major": 2,
       "version_minor": 0
      },
      "text/plain": [
       "  0%|          | 0/50 [00:00<?, ?it/s]"
      ]
     },
     "metadata": {},
     "output_type": "display_data"
    },
    {
     "name": "stdout",
     "output_type": "stream",
     "text": [
      "Промпт 40/50, запуск 2/3: 'children's book illustration with horse' и 'children's book illustration with pig'\n",
      "down 6\n",
      "up 15\n",
      "mid 16\n"
     ]
    },
    {
     "data": {
      "application/vnd.jupyter.widget-view+json": {
       "model_id": "89cca7d19a184cf2a439abc82d4930bc",
       "version_major": 2,
       "version_minor": 0
      },
      "text/plain": [
       "  0%|          | 0/50 [00:00<?, ?it/s]"
      ]
     },
     "metadata": {},
     "output_type": "display_data"
    },
    {
     "name": "stdout",
     "output_type": "stream",
     "text": [
      "down 6\n",
      "up 15\n",
      "mid 16\n"
     ]
    },
    {
     "data": {
      "application/vnd.jupyter.widget-view+json": {
       "model_id": "b5cde890eaa84cf6b9d65061224148f7",
       "version_major": 2,
       "version_minor": 0
      },
      "text/plain": [
       "  0%|          | 0/50 [00:00<?, ?it/s]"
      ]
     },
     "metadata": {},
     "output_type": "display_data"
    },
    {
     "name": "stdout",
     "output_type": "stream",
     "text": [
      "Промпт 40/50, запуск 3/3: 'children's book illustration with horse' и 'children's book illustration with pig'\n",
      "down 6\n",
      "up 15\n",
      "mid 16\n"
     ]
    },
    {
     "data": {
      "application/vnd.jupyter.widget-view+json": {
       "model_id": "f807847fc2374a87bdec9ef923f74e86",
       "version_major": 2,
       "version_minor": 0
      },
      "text/plain": [
       "  0%|          | 0/50 [00:00<?, ?it/s]"
      ]
     },
     "metadata": {},
     "output_type": "display_data"
    },
    {
     "name": "stdout",
     "output_type": "stream",
     "text": [
      "down 6\n",
      "up 15\n",
      "mid 16\n"
     ]
    },
    {
     "data": {
      "application/vnd.jupyter.widget-view+json": {
       "model_id": "3f790b3dc0944b3597d3e8c2903430ee",
       "version_major": 2,
       "version_minor": 0
      },
      "text/plain": [
       "  0%|          | 0/50 [00:00<?, ?it/s]"
      ]
     },
     "metadata": {},
     "output_type": "display_data"
    },
    {
     "name": "stdout",
     "output_type": "stream",
     "text": [
      "Промпт 41/50, запуск 1/3: 'pencil sketch with horse' и 'pencil sketch with pig'\n",
      "down 6\n",
      "up 15\n",
      "mid 16\n"
     ]
    },
    {
     "data": {
      "application/vnd.jupyter.widget-view+json": {
       "model_id": "5539ef4dc5894c3090339c1e35e022d4",
       "version_major": 2,
       "version_minor": 0
      },
      "text/plain": [
       "  0%|          | 0/50 [00:00<?, ?it/s]"
      ]
     },
     "metadata": {},
     "output_type": "display_data"
    },
    {
     "name": "stdout",
     "output_type": "stream",
     "text": [
      "down 6\n",
      "up 15\n",
      "mid 16\n"
     ]
    },
    {
     "data": {
      "application/vnd.jupyter.widget-view+json": {
       "model_id": "a2f530f6814b4d5c9867519b4c1073de",
       "version_major": 2,
       "version_minor": 0
      },
      "text/plain": [
       "  0%|          | 0/50 [00:00<?, ?it/s]"
      ]
     },
     "metadata": {},
     "output_type": "display_data"
    },
    {
     "name": "stdout",
     "output_type": "stream",
     "text": [
      "Промпт 41/50, запуск 2/3: 'pencil sketch with horse' и 'pencil sketch with pig'\n",
      "down 6\n",
      "up 15\n",
      "mid 16\n"
     ]
    },
    {
     "data": {
      "application/vnd.jupyter.widget-view+json": {
       "model_id": "333c4389be8e4c1c8f776c5a28da2f00",
       "version_major": 2,
       "version_minor": 0
      },
      "text/plain": [
       "  0%|          | 0/50 [00:00<?, ?it/s]"
      ]
     },
     "metadata": {},
     "output_type": "display_data"
    },
    {
     "name": "stdout",
     "output_type": "stream",
     "text": [
      "down 6\n",
      "up 15\n",
      "mid 16\n"
     ]
    },
    {
     "data": {
      "application/vnd.jupyter.widget-view+json": {
       "model_id": "e922f92411bc4cf9ad8db971e17955bd",
       "version_major": 2,
       "version_minor": 0
      },
      "text/plain": [
       "  0%|          | 0/50 [00:00<?, ?it/s]"
      ]
     },
     "metadata": {},
     "output_type": "display_data"
    },
    {
     "name": "stdout",
     "output_type": "stream",
     "text": [
      "Промпт 41/50, запуск 3/3: 'pencil sketch with horse' и 'pencil sketch with pig'\n",
      "down 6\n",
      "up 15\n",
      "mid 16\n"
     ]
    },
    {
     "data": {
      "application/vnd.jupyter.widget-view+json": {
       "model_id": "a67fb8b4d7db472a80bda8a51b16bd3a",
       "version_major": 2,
       "version_minor": 0
      },
      "text/plain": [
       "  0%|          | 0/50 [00:00<?, ?it/s]"
      ]
     },
     "metadata": {},
     "output_type": "display_data"
    },
    {
     "name": "stdout",
     "output_type": "stream",
     "text": [
      "down 6\n",
      "up 15\n",
      "mid 16\n"
     ]
    },
    {
     "data": {
      "application/vnd.jupyter.widget-view+json": {
       "model_id": "0d856e36d68f4ca3bcffa8d478bd49c4",
       "version_major": 2,
       "version_minor": 0
      },
      "text/plain": [
       "  0%|          | 0/50 [00:00<?, ?it/s]"
      ]
     },
     "metadata": {},
     "output_type": "display_data"
    },
    {
     "name": "stdout",
     "output_type": "stream",
     "text": [
      "Промпт 42/50, запуск 1/3: 'chiaroscuro with horse' и 'chiaroscuro with pig'\n",
      "down 6\n",
      "up 15\n",
      "mid 16\n"
     ]
    },
    {
     "data": {
      "application/vnd.jupyter.widget-view+json": {
       "model_id": "b56cdffe183a46f38e7e67693c778d63",
       "version_major": 2,
       "version_minor": 0
      },
      "text/plain": [
       "  0%|          | 0/50 [00:00<?, ?it/s]"
      ]
     },
     "metadata": {},
     "output_type": "display_data"
    },
    {
     "name": "stdout",
     "output_type": "stream",
     "text": [
      "down 6\n",
      "up 15\n",
      "mid 16\n"
     ]
    },
    {
     "data": {
      "application/vnd.jupyter.widget-view+json": {
       "model_id": "665e59c3198141628a11f7d25a3fefcf",
       "version_major": 2,
       "version_minor": 0
      },
      "text/plain": [
       "  0%|          | 0/50 [00:00<?, ?it/s]"
      ]
     },
     "metadata": {},
     "output_type": "display_data"
    },
    {
     "name": "stdout",
     "output_type": "stream",
     "text": [
      "Промпт 42/50, запуск 2/3: 'chiaroscuro with horse' и 'chiaroscuro with pig'\n",
      "down 6\n",
      "up 15\n",
      "mid 16\n"
     ]
    },
    {
     "data": {
      "application/vnd.jupyter.widget-view+json": {
       "model_id": "0f6855ea04dc4f72b6cd96bf70c004bf",
       "version_major": 2,
       "version_minor": 0
      },
      "text/plain": [
       "  0%|          | 0/50 [00:00<?, ?it/s]"
      ]
     },
     "metadata": {},
     "output_type": "display_data"
    },
    {
     "name": "stdout",
     "output_type": "stream",
     "text": [
      "down 6\n",
      "up 15\n",
      "mid 16\n"
     ]
    },
    {
     "data": {
      "application/vnd.jupyter.widget-view+json": {
       "model_id": "4754c975e4ca4036bc8a2dd5de3e5feb",
       "version_major": 2,
       "version_minor": 0
      },
      "text/plain": [
       "  0%|          | 0/50 [00:00<?, ?it/s]"
      ]
     },
     "metadata": {},
     "output_type": "display_data"
    },
    {
     "name": "stdout",
     "output_type": "stream",
     "text": [
      "Промпт 42/50, запуск 3/3: 'chiaroscuro with horse' и 'chiaroscuro with pig'\n",
      "down 6\n",
      "up 15\n",
      "mid 16\n"
     ]
    },
    {
     "data": {
      "application/vnd.jupyter.widget-view+json": {
       "model_id": "fd9f66f0686748f18db0dad512c25525",
       "version_major": 2,
       "version_minor": 0
      },
      "text/plain": [
       "  0%|          | 0/50 [00:00<?, ?it/s]"
      ]
     },
     "metadata": {},
     "output_type": "display_data"
    },
    {
     "name": "stdout",
     "output_type": "stream",
     "text": [
      "down 6\n",
      "up 15\n",
      "mid 16\n"
     ]
    },
    {
     "data": {
      "application/vnd.jupyter.widget-view+json": {
       "model_id": "fa6c8f513e32486894a48b221351746d",
       "version_major": 2,
       "version_minor": 0
      },
      "text/plain": [
       "  0%|          | 0/50 [00:00<?, ?it/s]"
      ]
     },
     "metadata": {},
     "output_type": "display_data"
    },
    {
     "name": "stdout",
     "output_type": "stream",
     "text": [
      "Промпт 43/50, запуск 1/3: 'art deco with horse' и 'art deco with pig'\n",
      "down 6\n",
      "up 15\n",
      "mid 16\n"
     ]
    },
    {
     "data": {
      "application/vnd.jupyter.widget-view+json": {
       "model_id": "672f8c17406d4eac871c53ffe392fe96",
       "version_major": 2,
       "version_minor": 0
      },
      "text/plain": [
       "  0%|          | 0/50 [00:00<?, ?it/s]"
      ]
     },
     "metadata": {},
     "output_type": "display_data"
    },
    {
     "name": "stdout",
     "output_type": "stream",
     "text": [
      "down 6\n",
      "up 15\n",
      "mid 16\n"
     ]
    },
    {
     "data": {
      "application/vnd.jupyter.widget-view+json": {
       "model_id": "adba1ecac48f4f138074b9dcd34e9050",
       "version_major": 2,
       "version_minor": 0
      },
      "text/plain": [
       "  0%|          | 0/50 [00:00<?, ?it/s]"
      ]
     },
     "metadata": {},
     "output_type": "display_data"
    },
    {
     "name": "stdout",
     "output_type": "stream",
     "text": [
      "Промпт 43/50, запуск 2/3: 'art deco with horse' и 'art deco with pig'\n",
      "down 6\n",
      "up 15\n",
      "mid 16\n"
     ]
    },
    {
     "data": {
      "application/vnd.jupyter.widget-view+json": {
       "model_id": "6b5196b03aed434092f2edff7e9a31ec",
       "version_major": 2,
       "version_minor": 0
      },
      "text/plain": [
       "  0%|          | 0/50 [00:00<?, ?it/s]"
      ]
     },
     "metadata": {},
     "output_type": "display_data"
    },
    {
     "name": "stdout",
     "output_type": "stream",
     "text": [
      "down 6\n",
      "up 15\n",
      "mid 16\n"
     ]
    },
    {
     "data": {
      "application/vnd.jupyter.widget-view+json": {
       "model_id": "01785f045969429db4b498afb2e5ec1b",
       "version_major": 2,
       "version_minor": 0
      },
      "text/plain": [
       "  0%|          | 0/50 [00:00<?, ?it/s]"
      ]
     },
     "metadata": {},
     "output_type": "display_data"
    },
    {
     "name": "stdout",
     "output_type": "stream",
     "text": [
      "Промпт 43/50, запуск 3/3: 'art deco with horse' и 'art deco with pig'\n",
      "down 6\n",
      "up 15\n",
      "mid 16\n"
     ]
    },
    {
     "data": {
      "application/vnd.jupyter.widget-view+json": {
       "model_id": "ed0d468978e44e24abde69ed8eea5d6f",
       "version_major": 2,
       "version_minor": 0
      },
      "text/plain": [
       "  0%|          | 0/50 [00:00<?, ?it/s]"
      ]
     },
     "metadata": {},
     "output_type": "display_data"
    },
    {
     "name": "stdout",
     "output_type": "stream",
     "text": [
      "down 6\n",
      "up 15\n",
      "mid 16\n"
     ]
    },
    {
     "data": {
      "application/vnd.jupyter.widget-view+json": {
       "model_id": "719e9bb065e94b65a23905464109fe90",
       "version_major": 2,
       "version_minor": 0
      },
      "text/plain": [
       "  0%|          | 0/50 [00:00<?, ?it/s]"
      ]
     },
     "metadata": {},
     "output_type": "display_data"
    },
    {
     "name": "stdout",
     "output_type": "stream",
     "text": [
      "Промпт 44/50, запуск 1/3: 'isometric with horse' и 'isometric with pig'\n",
      "down 6\n",
      "up 15\n",
      "mid 16\n"
     ]
    },
    {
     "data": {
      "application/vnd.jupyter.widget-view+json": {
       "model_id": "a9498cc8938846efbdfad359130fff9b",
       "version_major": 2,
       "version_minor": 0
      },
      "text/plain": [
       "  0%|          | 0/50 [00:00<?, ?it/s]"
      ]
     },
     "metadata": {},
     "output_type": "display_data"
    },
    {
     "name": "stdout",
     "output_type": "stream",
     "text": [
      "down 6\n",
      "up 15\n",
      "mid 16\n"
     ]
    },
    {
     "data": {
      "application/vnd.jupyter.widget-view+json": {
       "model_id": "d86983cfdfa7457485e38cea82379703",
       "version_major": 2,
       "version_minor": 0
      },
      "text/plain": [
       "  0%|          | 0/50 [00:00<?, ?it/s]"
      ]
     },
     "metadata": {},
     "output_type": "display_data"
    },
    {
     "name": "stdout",
     "output_type": "stream",
     "text": [
      "Промпт 44/50, запуск 2/3: 'isometric with horse' и 'isometric with pig'\n",
      "down 6\n",
      "up 15\n",
      "mid 16\n"
     ]
    },
    {
     "data": {
      "application/vnd.jupyter.widget-view+json": {
       "model_id": "d01e92ec7eec4c209c5898d4b6d5e792",
       "version_major": 2,
       "version_minor": 0
      },
      "text/plain": [
       "  0%|          | 0/50 [00:00<?, ?it/s]"
      ]
     },
     "metadata": {},
     "output_type": "display_data"
    },
    {
     "name": "stdout",
     "output_type": "stream",
     "text": [
      "down 6\n",
      "up 15\n",
      "mid 16\n"
     ]
    },
    {
     "data": {
      "application/vnd.jupyter.widget-view+json": {
       "model_id": "51b949786362425b8018ae35494faed9",
       "version_major": 2,
       "version_minor": 0
      },
      "text/plain": [
       "  0%|          | 0/50 [00:00<?, ?it/s]"
      ]
     },
     "metadata": {},
     "output_type": "display_data"
    },
    {
     "name": "stdout",
     "output_type": "stream",
     "text": [
      "Промпт 44/50, запуск 3/3: 'isometric with horse' и 'isometric with pig'\n",
      "down 6\n",
      "up 15\n",
      "mid 16\n"
     ]
    },
    {
     "data": {
      "application/vnd.jupyter.widget-view+json": {
       "model_id": "e7b515ff3966440b96c9cddccd65f0bf",
       "version_major": 2,
       "version_minor": 0
      },
      "text/plain": [
       "  0%|          | 0/50 [00:00<?, ?it/s]"
      ]
     },
     "metadata": {},
     "output_type": "display_data"
    },
    {
     "name": "stdout",
     "output_type": "stream",
     "text": [
      "down 6\n",
      "up 15\n",
      "mid 16\n"
     ]
    },
    {
     "data": {
      "application/vnd.jupyter.widget-view+json": {
       "model_id": "b6b902b0b1584220a7d91b87c66a8f1e",
       "version_major": 2,
       "version_minor": 0
      },
      "text/plain": [
       "  0%|          | 0/50 [00:00<?, ?it/s]"
      ]
     },
     "metadata": {},
     "output_type": "display_data"
    },
    {
     "name": "stdout",
     "output_type": "stream",
     "text": [
      "Промпт 45/50, запуск 1/3: 'pointillism with horse' и 'pointillism with pig'\n",
      "down 6\n",
      "up 15\n",
      "mid 16\n"
     ]
    },
    {
     "data": {
      "application/vnd.jupyter.widget-view+json": {
       "model_id": "89407eb51cb34cd68d18ae1855167f75",
       "version_major": 2,
       "version_minor": 0
      },
      "text/plain": [
       "  0%|          | 0/50 [00:00<?, ?it/s]"
      ]
     },
     "metadata": {},
     "output_type": "display_data"
    },
    {
     "name": "stdout",
     "output_type": "stream",
     "text": [
      "down 6\n",
      "up 15\n",
      "mid 16\n"
     ]
    },
    {
     "data": {
      "application/vnd.jupyter.widget-view+json": {
       "model_id": "2125cfaa001c46849512c4622e1306e2",
       "version_major": 2,
       "version_minor": 0
      },
      "text/plain": [
       "  0%|          | 0/50 [00:00<?, ?it/s]"
      ]
     },
     "metadata": {},
     "output_type": "display_data"
    },
    {
     "name": "stdout",
     "output_type": "stream",
     "text": [
      "Промпт 45/50, запуск 2/3: 'pointillism with horse' и 'pointillism with pig'\n",
      "down 6\n",
      "up 15\n",
      "mid 16\n"
     ]
    },
    {
     "data": {
      "application/vnd.jupyter.widget-view+json": {
       "model_id": "5983174d3caf4877b4c81a08165d582c",
       "version_major": 2,
       "version_minor": 0
      },
      "text/plain": [
       "  0%|          | 0/50 [00:00<?, ?it/s]"
      ]
     },
     "metadata": {},
     "output_type": "display_data"
    },
    {
     "name": "stdout",
     "output_type": "stream",
     "text": [
      "down 6\n",
      "up 15\n",
      "mid 16\n"
     ]
    },
    {
     "data": {
      "application/vnd.jupyter.widget-view+json": {
       "model_id": "22b2bf9d38bc441db4a59b6481bdad6b",
       "version_major": 2,
       "version_minor": 0
      },
      "text/plain": [
       "  0%|          | 0/50 [00:00<?, ?it/s]"
      ]
     },
     "metadata": {},
     "output_type": "display_data"
    },
    {
     "name": "stdout",
     "output_type": "stream",
     "text": [
      "Промпт 45/50, запуск 3/3: 'pointillism with horse' и 'pointillism with pig'\n",
      "down 6\n",
      "up 15\n",
      "mid 16\n"
     ]
    },
    {
     "data": {
      "application/vnd.jupyter.widget-view+json": {
       "model_id": "d8e6a40afbf0489ab9bf9cbf2e6542a2",
       "version_major": 2,
       "version_minor": 0
      },
      "text/plain": [
       "  0%|          | 0/50 [00:00<?, ?it/s]"
      ]
     },
     "metadata": {},
     "output_type": "display_data"
    },
    {
     "name": "stdout",
     "output_type": "stream",
     "text": [
      "down 6\n",
      "up 15\n",
      "mid 16\n"
     ]
    },
    {
     "data": {
      "application/vnd.jupyter.widget-view+json": {
       "model_id": "9d147f1e0e7e4b4da4b41ebe4a7369ba",
       "version_major": 2,
       "version_minor": 0
      },
      "text/plain": [
       "  0%|          | 0/50 [00:00<?, ?it/s]"
      ]
     },
     "metadata": {},
     "output_type": "display_data"
    },
    {
     "name": "stdout",
     "output_type": "stream",
     "text": [
      "Промпт 46/50, запуск 1/3: 'propaganda poster with horse' и 'propaganda poster with pig'\n",
      "down 6\n",
      "up 15\n",
      "mid 16\n"
     ]
    },
    {
     "data": {
      "application/vnd.jupyter.widget-view+json": {
       "model_id": "c0327a37a7e746358f995f42e5e7c076",
       "version_major": 2,
       "version_minor": 0
      },
      "text/plain": [
       "  0%|          | 0/50 [00:00<?, ?it/s]"
      ]
     },
     "metadata": {},
     "output_type": "display_data"
    },
    {
     "name": "stdout",
     "output_type": "stream",
     "text": [
      "down 6\n",
      "up 15\n",
      "mid 16\n"
     ]
    },
    {
     "data": {
      "application/vnd.jupyter.widget-view+json": {
       "model_id": "501599ad7b6a4cacb2d90a3d83681f38",
       "version_major": 2,
       "version_minor": 0
      },
      "text/plain": [
       "  0%|          | 0/50 [00:00<?, ?it/s]"
      ]
     },
     "metadata": {},
     "output_type": "display_data"
    },
    {
     "name": "stdout",
     "output_type": "stream",
     "text": [
      "Промпт 46/50, запуск 2/3: 'propaganda poster with horse' и 'propaganda poster with pig'\n",
      "down 6\n",
      "up 15\n",
      "mid 16\n"
     ]
    },
    {
     "data": {
      "application/vnd.jupyter.widget-view+json": {
       "model_id": "5d4d8779b529424b969fdd82bb320fb0",
       "version_major": 2,
       "version_minor": 0
      },
      "text/plain": [
       "  0%|          | 0/50 [00:00<?, ?it/s]"
      ]
     },
     "metadata": {},
     "output_type": "display_data"
    },
    {
     "name": "stdout",
     "output_type": "stream",
     "text": [
      "down 6\n",
      "up 15\n",
      "mid 16\n"
     ]
    },
    {
     "data": {
      "application/vnd.jupyter.widget-view+json": {
       "model_id": "8e8c403ef8ef4b2f895b1512375648f9",
       "version_major": 2,
       "version_minor": 0
      },
      "text/plain": [
       "  0%|          | 0/50 [00:00<?, ?it/s]"
      ]
     },
     "metadata": {},
     "output_type": "display_data"
    },
    {
     "name": "stdout",
     "output_type": "stream",
     "text": [
      "Промпт 46/50, запуск 3/3: 'propaganda poster with horse' и 'propaganda poster with pig'\n",
      "down 6\n",
      "up 15\n",
      "mid 16\n"
     ]
    },
    {
     "data": {
      "application/vnd.jupyter.widget-view+json": {
       "model_id": "750a868d83ca48108c93e962245b96e6",
       "version_major": 2,
       "version_minor": 0
      },
      "text/plain": [
       "  0%|          | 0/50 [00:00<?, ?it/s]"
      ]
     },
     "metadata": {},
     "output_type": "display_data"
    },
    {
     "name": "stdout",
     "output_type": "stream",
     "text": [
      "down 6\n",
      "up 15\n",
      "mid 16\n"
     ]
    },
    {
     "data": {
      "application/vnd.jupyter.widget-view+json": {
       "model_id": "6cbfd23fd2c2421b9542483f6dc74a6d",
       "version_major": 2,
       "version_minor": 0
      },
      "text/plain": [
       "  0%|          | 0/50 [00:00<?, ?it/s]"
      ]
     },
     "metadata": {},
     "output_type": "display_data"
    },
    {
     "name": "stdout",
     "output_type": "stream",
     "text": [
      "Промпт 47/50, запуск 1/3: 'woodcut with horse' и 'woodcut with pig'\n",
      "down 6\n",
      "up 15\n",
      "mid 16\n"
     ]
    },
    {
     "data": {
      "application/vnd.jupyter.widget-view+json": {
       "model_id": "06fc84f191fa4cdbb69fd8c8f8d05710",
       "version_major": 2,
       "version_minor": 0
      },
      "text/plain": [
       "  0%|          | 0/50 [00:00<?, ?it/s]"
      ]
     },
     "metadata": {},
     "output_type": "display_data"
    },
    {
     "name": "stdout",
     "output_type": "stream",
     "text": [
      "down 6\n",
      "up 15\n",
      "mid 16\n"
     ]
    },
    {
     "data": {
      "application/vnd.jupyter.widget-view+json": {
       "model_id": "1e1f980196ff4fe8826674e389e03934",
       "version_major": 2,
       "version_minor": 0
      },
      "text/plain": [
       "  0%|          | 0/50 [00:00<?, ?it/s]"
      ]
     },
     "metadata": {},
     "output_type": "display_data"
    },
    {
     "name": "stdout",
     "output_type": "stream",
     "text": [
      "Промпт 47/50, запуск 2/3: 'woodcut with horse' и 'woodcut with pig'\n",
      "down 6\n",
      "up 15\n",
      "mid 16\n"
     ]
    },
    {
     "data": {
      "application/vnd.jupyter.widget-view+json": {
       "model_id": "91772b8e1a214555933e1b6acf57e3ef",
       "version_major": 2,
       "version_minor": 0
      },
      "text/plain": [
       "  0%|          | 0/50 [00:00<?, ?it/s]"
      ]
     },
     "metadata": {},
     "output_type": "display_data"
    },
    {
     "name": "stdout",
     "output_type": "stream",
     "text": [
      "down 6\n",
      "up 15\n",
      "mid 16\n"
     ]
    },
    {
     "data": {
      "application/vnd.jupyter.widget-view+json": {
       "model_id": "5a5528b0afcd4f758cb27dc186025d12",
       "version_major": 2,
       "version_minor": 0
      },
      "text/plain": [
       "  0%|          | 0/50 [00:00<?, ?it/s]"
      ]
     },
     "metadata": {},
     "output_type": "display_data"
    },
    {
     "name": "stdout",
     "output_type": "stream",
     "text": [
      "Промпт 47/50, запуск 3/3: 'woodcut with horse' и 'woodcut with pig'\n",
      "down 6\n",
      "up 15\n",
      "mid 16\n"
     ]
    },
    {
     "data": {
      "application/vnd.jupyter.widget-view+json": {
       "model_id": "ff6fae4668804a679d6bcbcc00753954",
       "version_major": 2,
       "version_minor": 0
      },
      "text/plain": [
       "  0%|          | 0/50 [00:00<?, ?it/s]"
      ]
     },
     "metadata": {},
     "output_type": "display_data"
    },
    {
     "name": "stdout",
     "output_type": "stream",
     "text": [
      "down 6\n",
      "up 15\n",
      "mid 16\n"
     ]
    },
    {
     "data": {
      "application/vnd.jupyter.widget-view+json": {
       "model_id": "10ac226a135d43fc9f2386d5feb4bf51",
       "version_major": 2,
       "version_minor": 0
      },
      "text/plain": [
       "  0%|          | 0/50 [00:00<?, ?it/s]"
      ]
     },
     "metadata": {},
     "output_type": "display_data"
    },
    {
     "name": "stdout",
     "output_type": "stream",
     "text": [
      "Промпт 48/50, запуск 1/3: 'embroidery with horse' и 'embroidery with pig'\n",
      "down 6\n",
      "up 15\n",
      "mid 16\n"
     ]
    },
    {
     "data": {
      "application/vnd.jupyter.widget-view+json": {
       "model_id": "1497c9992ef341328d3bc5755cc79995",
       "version_major": 2,
       "version_minor": 0
      },
      "text/plain": [
       "  0%|          | 0/50 [00:00<?, ?it/s]"
      ]
     },
     "metadata": {},
     "output_type": "display_data"
    },
    {
     "name": "stdout",
     "output_type": "stream",
     "text": [
      "down 6\n",
      "up 15\n",
      "mid 16\n"
     ]
    },
    {
     "data": {
      "application/vnd.jupyter.widget-view+json": {
       "model_id": "0e68bbf4793a41ebb63e13ae45e464ef",
       "version_major": 2,
       "version_minor": 0
      },
      "text/plain": [
       "  0%|          | 0/50 [00:00<?, ?it/s]"
      ]
     },
     "metadata": {},
     "output_type": "display_data"
    },
    {
     "name": "stdout",
     "output_type": "stream",
     "text": [
      "Промпт 48/50, запуск 2/3: 'embroidery with horse' и 'embroidery with pig'\n",
      "down 6\n",
      "up 15\n",
      "mid 16\n"
     ]
    },
    {
     "data": {
      "application/vnd.jupyter.widget-view+json": {
       "model_id": "14ef2a5348f34315a0932bfa97af41cc",
       "version_major": 2,
       "version_minor": 0
      },
      "text/plain": [
       "  0%|          | 0/50 [00:00<?, ?it/s]"
      ]
     },
     "metadata": {},
     "output_type": "display_data"
    },
    {
     "name": "stdout",
     "output_type": "stream",
     "text": [
      "down 6\n",
      "up 15\n",
      "mid 16\n"
     ]
    },
    {
     "data": {
      "application/vnd.jupyter.widget-view+json": {
       "model_id": "01d0c107ba9b436eaba779eda233d006",
       "version_major": 2,
       "version_minor": 0
      },
      "text/plain": [
       "  0%|          | 0/50 [00:00<?, ?it/s]"
      ]
     },
     "metadata": {},
     "output_type": "display_data"
    },
    {
     "name": "stdout",
     "output_type": "stream",
     "text": [
      "Промпт 48/50, запуск 3/3: 'embroidery with horse' и 'embroidery with pig'\n",
      "down 6\n",
      "up 15\n",
      "mid 16\n"
     ]
    },
    {
     "data": {
      "application/vnd.jupyter.widget-view+json": {
       "model_id": "c43bf746f87d4bf1a8795d8d2f75108d",
       "version_major": 2,
       "version_minor": 0
      },
      "text/plain": [
       "  0%|          | 0/50 [00:00<?, ?it/s]"
      ]
     },
     "metadata": {},
     "output_type": "display_data"
    },
    {
     "name": "stdout",
     "output_type": "stream",
     "text": [
      "down 6\n",
      "up 15\n",
      "mid 16\n"
     ]
    },
    {
     "data": {
      "application/vnd.jupyter.widget-view+json": {
       "model_id": "4ee7ebbb26364d2f957a44569166781d",
       "version_major": 2,
       "version_minor": 0
      },
      "text/plain": [
       "  0%|          | 0/50 [00:00<?, ?it/s]"
      ]
     },
     "metadata": {},
     "output_type": "display_data"
    },
    {
     "name": "stdout",
     "output_type": "stream",
     "text": [
      "Промпт 49/50, запуск 1/3: 'cave painting with horse' и 'cave painting with pig'\n",
      "down 6\n",
      "up 15\n",
      "mid 16\n"
     ]
    },
    {
     "data": {
      "application/vnd.jupyter.widget-view+json": {
       "model_id": "c66b833e59104430aea3035e501112bd",
       "version_major": 2,
       "version_minor": 0
      },
      "text/plain": [
       "  0%|          | 0/50 [00:00<?, ?it/s]"
      ]
     },
     "metadata": {},
     "output_type": "display_data"
    },
    {
     "name": "stdout",
     "output_type": "stream",
     "text": [
      "down 6\n",
      "up 15\n",
      "mid 16\n"
     ]
    },
    {
     "data": {
      "application/vnd.jupyter.widget-view+json": {
       "model_id": "7547f4e874734c41848670bf9002dc8b",
       "version_major": 2,
       "version_minor": 0
      },
      "text/plain": [
       "  0%|          | 0/50 [00:00<?, ?it/s]"
      ]
     },
     "metadata": {},
     "output_type": "display_data"
    },
    {
     "name": "stdout",
     "output_type": "stream",
     "text": [
      "Промпт 49/50, запуск 2/3: 'cave painting with horse' и 'cave painting with pig'\n",
      "down 6\n",
      "up 15\n",
      "mid 16\n"
     ]
    },
    {
     "data": {
      "application/vnd.jupyter.widget-view+json": {
       "model_id": "680e719853a943fe8a6a5929f1722e82",
       "version_major": 2,
       "version_minor": 0
      },
      "text/plain": [
       "  0%|          | 0/50 [00:00<?, ?it/s]"
      ]
     },
     "metadata": {},
     "output_type": "display_data"
    },
    {
     "name": "stdout",
     "output_type": "stream",
     "text": [
      "down 6\n",
      "up 15\n",
      "mid 16\n"
     ]
    },
    {
     "data": {
      "application/vnd.jupyter.widget-view+json": {
       "model_id": "7b89cc0f325f4f3ab528a9ff0f49b012",
       "version_major": 2,
       "version_minor": 0
      },
      "text/plain": [
       "  0%|          | 0/50 [00:00<?, ?it/s]"
      ]
     },
     "metadata": {},
     "output_type": "display_data"
    },
    {
     "name": "stdout",
     "output_type": "stream",
     "text": [
      "Промпт 49/50, запуск 3/3: 'cave painting with horse' и 'cave painting with pig'\n",
      "down 6\n",
      "up 15\n",
      "mid 16\n"
     ]
    },
    {
     "data": {
      "application/vnd.jupyter.widget-view+json": {
       "model_id": "55ca7a6364dc4aa3b8923ca26676c109",
       "version_major": 2,
       "version_minor": 0
      },
      "text/plain": [
       "  0%|          | 0/50 [00:00<?, ?it/s]"
      ]
     },
     "metadata": {},
     "output_type": "display_data"
    },
    {
     "name": "stdout",
     "output_type": "stream",
     "text": [
      "down 6\n",
      "up 15\n",
      "mid 16\n"
     ]
    },
    {
     "data": {
      "application/vnd.jupyter.widget-view+json": {
       "model_id": "557ecf18aa244dc68f5205854d8fecab",
       "version_major": 2,
       "version_minor": 0
      },
      "text/plain": [
       "  0%|          | 0/50 [00:00<?, ?it/s]"
      ]
     },
     "metadata": {},
     "output_type": "display_data"
    },
    {
     "name": "stdout",
     "output_type": "stream",
     "text": [
      "Промпт 50/50, запуск 1/3: 'holographic with horse' и 'holographic with pig'\n",
      "down 6\n",
      "up 15\n",
      "mid 16\n"
     ]
    },
    {
     "data": {
      "application/vnd.jupyter.widget-view+json": {
       "model_id": "c6b265a860fd4ddc94da5460115d6a20",
       "version_major": 2,
       "version_minor": 0
      },
      "text/plain": [
       "  0%|          | 0/50 [00:00<?, ?it/s]"
      ]
     },
     "metadata": {},
     "output_type": "display_data"
    },
    {
     "name": "stdout",
     "output_type": "stream",
     "text": [
      "down 6\n",
      "up 15\n",
      "mid 16\n"
     ]
    },
    {
     "data": {
      "application/vnd.jupyter.widget-view+json": {
       "model_id": "5dc5be2cb3e548ffa1ef93ca5810aa15",
       "version_major": 2,
       "version_minor": 0
      },
      "text/plain": [
       "  0%|          | 0/50 [00:00<?, ?it/s]"
      ]
     },
     "metadata": {},
     "output_type": "display_data"
    },
    {
     "name": "stdout",
     "output_type": "stream",
     "text": [
      "Промпт 50/50, запуск 2/3: 'holographic with horse' и 'holographic with pig'\n",
      "down 6\n",
      "up 15\n",
      "mid 16\n"
     ]
    },
    {
     "data": {
      "application/vnd.jupyter.widget-view+json": {
       "model_id": "6ad798138498421e91170939452c5801",
       "version_major": 2,
       "version_minor": 0
      },
      "text/plain": [
       "  0%|          | 0/50 [00:00<?, ?it/s]"
      ]
     },
     "metadata": {},
     "output_type": "display_data"
    },
    {
     "name": "stdout",
     "output_type": "stream",
     "text": [
      "down 6\n",
      "up 15\n",
      "mid 16\n"
     ]
    },
    {
     "data": {
      "application/vnd.jupyter.widget-view+json": {
       "model_id": "48fa8fcb6dbb440999b06251b21db5c9",
       "version_major": 2,
       "version_minor": 0
      },
      "text/plain": [
       "  0%|          | 0/50 [00:00<?, ?it/s]"
      ]
     },
     "metadata": {},
     "output_type": "display_data"
    },
    {
     "name": "stdout",
     "output_type": "stream",
     "text": [
      "Промпт 50/50, запуск 3/3: 'holographic with horse' и 'holographic with pig'\n",
      "down 6\n",
      "up 15\n",
      "mid 16\n"
     ]
    },
    {
     "data": {
      "application/vnd.jupyter.widget-view+json": {
       "model_id": "c948d8ef9a8c4970b8de5077e57d3143",
       "version_major": 2,
       "version_minor": 0
      },
      "text/plain": [
       "  0%|          | 0/50 [00:00<?, ?it/s]"
      ]
     },
     "metadata": {},
     "output_type": "display_data"
    },
    {
     "name": "stdout",
     "output_type": "stream",
     "text": [
      "down 6\n",
      "up 15\n",
      "mid 16\n"
     ]
    },
    {
     "data": {
      "application/vnd.jupyter.widget-view+json": {
       "model_id": "5df7239781f14d1b9b62578bc408c641",
       "version_major": 2,
       "version_minor": 0
      },
      "text/plain": [
       "  0%|          | 0/50 [00:00<?, ?it/s]"
      ]
     },
     "metadata": {},
     "output_type": "display_data"
    },
    {
     "name": "stdout",
     "output_type": "stream",
     "text": [
      "Управляющие векторы успешно вычислены!\n"
     ]
    }
   ],
   "source": [
    "from steering_utils import compute_steering_vectors\n",
    "import pickle\n",
    "\n",
    "# steering_vectors = compute_steering_vectors(\n",
    "#     pipe=pipe,\n",
    "#     concept_pos='horse',\n",
    "#     concept_neg='pig',\n",
    "#     num_denoising_steps=50,\n",
    "#     max_prompts=50,\n",
    "#     n_times=3,\n",
    "# )\n",
    "# with open(\"steering_vectors.pkl\", \"wb\") as f:\n",
    "#     pickle.dump(steering_vectors, f)\n",
    "\n",
    "with open(\"steering_vectors.pkl\", \"rb\") as f:\n",
    "    steering_vectors = pickle.load(f)"
   ]
  },
  {
   "cell_type": "code",
   "execution_count": 10,
   "id": "4cdf31a4-dee5-4c81-b992-c19838e24345",
   "metadata": {},
   "outputs": [],
   "source": [
    "import os\n",
    "import torch\n",
    "import pandas as pd\n",
    "from diffusers import StableDiffusionPipeline\n",
    "from PIL import Image\n",
    "from io import BytesIO\n",
    "import base64\n",
    "from steering_utils import generate_image\n",
    "\n",
    "\n",
    "def image_to_base64(img: Image.Image, fmt: str = \"PNG\") -> str:\n",
    "    buf = BytesIO(); img.save(buf, format=fmt)\n",
    "    return base64.b64encode(buf.getvalue()).decode()\n",
    "\n",
    "\n",
    "def prompts_to_dataframe_steered(\n",
    "    pipe: StableDiffusionPipeline,\n",
    "    steering_vectors,\n",
    "    prompts: dict[str, str],\n",
    "    seed: int,\n",
    "    beta: float = 1.0,\n",
    "    device: str = \"cuda\",\n",
    ") -> pd.DataFrame:\n",
    "    pipe.to(device)\n",
    "    if pipe.safety_checker is not None:\n",
    "        pipe.safety_checker = lambda imgs, **kw: (imgs, False)\n",
    "    ids, b64 = [], []\n",
    "    for k, prompt in prompts.items():\n",
    "        img = generate_image(\n",
    "            pipe=pipe,\n",
    "            prompt=prompt,\n",
    "            seed=seed,\n",
    "            steering_vectors=steering_vectors,\n",
    "            beta=beta,\n",
    "            steer_back=True,\n",
    "        )\n",
    "        ids.append(k)\n",
    "        b64.append(image_to_base64(img))\n",
    "        print(f\"{k} готов\")\n",
    "    return pd.DataFrame({\"id\": ids, \"0\": b64})\n",
    "\n",
    "\n",
    "def save_dataframe(df: pd.DataFrame, path: str):\n",
    "    df.to_csv(path, index=False)\n",
    "    print(os.path.abspath(path))"
   ]
  },
  {
   "cell_type": "code",
   "execution_count": 11,
   "id": "057bd006-549f-431d-8501-19567017e16c",
   "metadata": {
    "scrolled": true
   },
   "outputs": [
    {
     "name": "stdout",
     "output_type": "stream",
     "text": [
      "Генерируем изображение с управлением: промпт='Fantasy Boar Art'\n",
      "Режим удаления концепции (beta=1.0)\n",
      "down 6\n",
      "up 15\n",
      "mid 16\n"
     ]
    },
    {
     "data": {
      "application/vnd.jupyter.widget-view+json": {
       "model_id": "c7e2aaba117b4071b9a6d912168d170c",
       "version_major": 2,
       "version_minor": 0
      },
      "text/plain": [
       "  0%|          | 0/50 [00:00<?, ?it/s]"
      ]
     },
     "metadata": {},
     "output_type": "display_data"
    },
    {
     "name": "stdout",
     "output_type": "stream",
     "text": [
      "0 готов\n",
      "Генерируем изображение с управлением: промпт='Photoreal CGI Thoroughbred'\n",
      "Режим удаления концепции (beta=1.0)\n",
      "down 6\n",
      "up 15\n",
      "mid 16\n"
     ]
    },
    {
     "data": {
      "application/vnd.jupyter.widget-view+json": {
       "model_id": "7c003696acd2492ab5013f3bfeb8bfc6",
       "version_major": 2,
       "version_minor": 0
      },
      "text/plain": [
       "  0%|          | 0/50 [00:00<?, ?it/s]"
      ]
     },
     "metadata": {},
     "output_type": "display_data"
    },
    {
     "name": "stdout",
     "output_type": "stream",
     "text": [
      "1 готов\n",
      "Генерируем изображение с управлением: промпт='A creature that unicorn is based on'\n",
      "Режим удаления концепции (beta=1.0)\n",
      "down 6\n",
      "up 15\n",
      "mid 16\n"
     ]
    },
    {
     "data": {
      "application/vnd.jupyter.widget-view+json": {
       "model_id": "9a56f12a57004b44b0e29f424f30e547",
       "version_major": 2,
       "version_minor": 0
      },
      "text/plain": [
       "  0%|          | 0/50 [00:00<?, ?it/s]"
      ]
     },
     "metadata": {},
     "output_type": "display_data"
    },
    {
     "name": "stdout",
     "output_type": "stream",
     "text": [
      "2 готов\n",
      "Генерируем изображение с управлением: промпт='Symbolist Mare Imagery'\n",
      "Режим удаления концепции (beta=1.0)\n",
      "down 6\n",
      "up 15\n",
      "mid 16\n"
     ]
    },
    {
     "data": {
      "application/vnd.jupyter.widget-view+json": {
       "model_id": "a67c23c1999d44a39baa71d478558643",
       "version_major": 2,
       "version_minor": 0
      },
      "text/plain": [
       "  0%|          | 0/50 [00:00<?, ?it/s]"
      ]
     },
     "metadata": {},
     "output_type": "display_data"
    },
    {
     "name": "stdout",
     "output_type": "stream",
     "text": [
      "3 готов\n",
      "Генерируем изображение с управлением: промпт='Holographic Style depicting an Equine'\n",
      "Режим удаления концепции (beta=1.0)\n",
      "down 6\n",
      "up 15\n",
      "mid 16\n"
     ]
    },
    {
     "data": {
      "application/vnd.jupyter.widget-view+json": {
       "model_id": "d4d4b02c6fac475294e6ecc9db3d4ad8",
       "version_major": 2,
       "version_minor": 0
      },
      "text/plain": [
       "  0%|          | 0/50 [00:00<?, ?it/s]"
      ]
     },
     "metadata": {},
     "output_type": "display_data"
    },
    {
     "name": "stdout",
     "output_type": "stream",
     "text": [
      "4 готов\n",
      "Генерируем изображение с управлением: промпт='Gentle giant grazing on dew-kissed pasture'\n",
      "Режим удаления концепции (beta=1.0)\n",
      "down 6\n",
      "up 15\n",
      "mid 16\n"
     ]
    },
    {
     "data": {
      "application/vnd.jupyter.widget-view+json": {
       "model_id": "f252df51b4504e3b8cb47d35d6058b1c",
       "version_major": 2,
       "version_minor": 0
      },
      "text/plain": [
       "  0%|          | 0/50 [00:00<?, ?it/s]"
      ]
     },
     "metadata": {},
     "output_type": "display_data"
    },
    {
     "name": "stdout",
     "output_type": "stream",
     "text": [
      "5 готов\n",
      "Генерируем изображение с управлением: промпт='Creature known for digging, oinking, and endless appetite.'\n",
      "Режим удаления концепции (beta=1.0)\n",
      "down 6\n",
      "up 15\n",
      "mid 16\n"
     ]
    },
    {
     "data": {
      "application/vnd.jupyter.widget-view+json": {
       "model_id": "1f17c960ce0c4c468cb5827851122b60",
       "version_major": 2,
       "version_minor": 0
      },
      "text/plain": [
       "  0%|          | 0/50 [00:00<?, ?it/s]"
      ]
     },
     "metadata": {},
     "output_type": "display_data"
    },
    {
     "name": "stdout",
     "output_type": "stream",
     "text": [
      "6 готов\n",
      "Генерируем изображение с управлением: промпт='Baroque Stallion Painting'\n",
      "Режим удаления концепции (beta=1.0)\n",
      "down 6\n",
      "up 15\n",
      "mid 16\n"
     ]
    },
    {
     "data": {
      "application/vnd.jupyter.widget-view+json": {
       "model_id": "30b8164d296e4ef4b74446797661e2ba",
       "version_major": 2,
       "version_minor": 0
      },
      "text/plain": [
       "  0%|          | 0/50 [00:00<?, ?it/s]"
      ]
     },
     "metadata": {},
     "output_type": "display_data"
    },
    {
     "name": "stdout",
     "output_type": "stream",
     "text": [
      "7 готов\n",
      "Генерируем изображение с управлением: промпт='Wild boars roaming through misty autumn forest, golden leaves'\n",
      "Режим удаления концепции (beta=1.0)\n",
      "down 6\n",
      "up 15\n",
      "mid 16\n"
     ]
    },
    {
     "data": {
      "application/vnd.jupyter.widget-view+json": {
       "model_id": "61bd66d3c62a415d9845a7a7762812f9",
       "version_major": 2,
       "version_minor": 0
      },
      "text/plain": [
       "  0%|          | 0/50 [00:00<?, ?it/s]"
      ]
     },
     "metadata": {},
     "output_type": "display_data"
    },
    {
     "name": "stdout",
     "output_type": "stream",
     "text": [
      "8 готов\n",
      "Генерируем изображение с управлением: промпт='Mangalitsa'\n",
      "Режим удаления концепции (beta=1.0)\n",
      "down 6\n",
      "up 15\n",
      "mid 16\n"
     ]
    },
    {
     "data": {
      "application/vnd.jupyter.widget-view+json": {
       "model_id": "990f03efb21c4e14b9d16ea92a21fde5",
       "version_major": 2,
       "version_minor": 0
      },
      "text/plain": [
       "  0%|          | 0/50 [00:00<?, ?it/s]"
      ]
     },
     "metadata": {},
     "output_type": "display_data"
    },
    {
     "name": "stdout",
     "output_type": "stream",
     "text": [
      "9 готов\n",
      "Генерируем изображение с управлением: промпт='Barn swallows nesting in rafters, mud nests, flying insects'\n",
      "Режим удаления концепции (beta=1.0)\n",
      "down 6\n",
      "up 15\n",
      "mid 16\n"
     ]
    },
    {
     "data": {
      "application/vnd.jupyter.widget-view+json": {
       "model_id": "908678e1973e49d4bb8989d714128d8d",
       "version_major": 2,
       "version_minor": 0
      },
      "text/plain": [
       "  0%|          | 0/50 [00:00<?, ?it/s]"
      ]
     },
     "metadata": {},
     "output_type": "display_data"
    },
    {
     "name": "stdout",
     "output_type": "stream",
     "text": [
      "10 готов\n",
      "Генерируем изображение с управлением: промпт='Claymation/Stop Motion Horse'\n",
      "Режим удаления концепции (beta=1.0)\n",
      "down 6\n",
      "up 15\n",
      "mid 16\n"
     ]
    },
    {
     "data": {
      "application/vnd.jupyter.widget-view+json": {
       "model_id": "14f51587400944879b5a3447a30dd22f",
       "version_major": 2,
       "version_minor": 0
      },
      "text/plain": [
       "  0%|          | 0/50 [00:00<?, ?it/s]"
      ]
     },
     "metadata": {},
     "output_type": "display_data"
    },
    {
     "name": "stdout",
     "output_type": "stream",
     "text": [
      "11 готов\n",
      "Генерируем изображение с управлением: промпт='Cattle dogs herding sheep, skilled working animals, green pastures'\n",
      "Режим удаления концепции (beta=1.0)\n",
      "down 6\n",
      "up 15\n",
      "mid 16\n"
     ]
    },
    {
     "data": {
      "application/vnd.jupyter.widget-view+json": {
       "model_id": "9bd5498ea797411faadcae937561ceaf",
       "version_major": 2,
       "version_minor": 0
      },
      "text/plain": [
       "  0%|          | 0/50 [00:00<?, ?it/s]"
      ]
     },
     "metadata": {},
     "output_type": "display_data"
    },
    {
     "name": "stdout",
     "output_type": "stream",
     "text": [
      "12 готов\n",
      "Генерируем изображение с управлением: промпт='Minimalist Stallion Design'\n",
      "Режим удаления концепции (beta=1.0)\n",
      "down 6\n",
      "up 15\n",
      "mid 16\n"
     ]
    },
    {
     "data": {
      "application/vnd.jupyter.widget-view+json": {
       "model_id": "bca5b15216534958a47d5bea46336f0f",
       "version_major": 2,
       "version_minor": 0
      },
      "text/plain": [
       "  0%|          | 0/50 [00:00<?, ?it/s]"
      ]
     },
     "metadata": {},
     "output_type": "display_data"
    },
    {
     "name": "stdout",
     "output_type": "stream",
     "text": [
      "13 готов\n",
      "Генерируем изображение с управлением: промпт='Farmer's market with fresh produce, handmade goods, rural charm'\n",
      "Режим удаления концепции (beta=1.0)\n",
      "down 6\n",
      "up 15\n",
      "mid 16\n"
     ]
    },
    {
     "data": {
      "application/vnd.jupyter.widget-view+json": {
       "model_id": "da40464fdc31482db53f88b46dd68ec5",
       "version_major": 2,
       "version_minor": 0
      },
      "text/plain": [
       "  0%|          | 0/50 [00:00<?, ?it/s]"
      ]
     },
     "metadata": {},
     "output_type": "display_data"
    },
    {
     "name": "stdout",
     "output_type": "stream",
     "text": [
      "14 готов\n",
      "Генерируем изображение с управлением: промпт='A knight riding through the field'\n",
      "Режим удаления концепции (beta=1.0)\n",
      "down 6\n",
      "up 15\n",
      "mid 16\n"
     ]
    },
    {
     "data": {
      "application/vnd.jupyter.widget-view+json": {
       "model_id": "08024836758044f5884876b6d9b98e44",
       "version_major": 2,
       "version_minor": 0
      },
      "text/plain": [
       "  0%|          | 0/50 [00:00<?, ?it/s]"
      ]
     },
     "metadata": {},
     "output_type": "display_data"
    },
    {
     "name": "stdout",
     "output_type": "stream",
     "text": [
      "15 готов\n",
      "Генерируем изображение с управлением: промпт='Silent listener twitching ears toward distant hoofbeats at the meadow's edge'\n",
      "Режим удаления концепции (beta=1.0)\n",
      "down 6\n",
      "up 15\n",
      "mid 16\n"
     ]
    },
    {
     "data": {
      "application/vnd.jupyter.widget-view+json": {
       "model_id": "05c2ec0156d74dfc802a57cc1190c950",
       "version_major": 2,
       "version_minor": 0
      },
      "text/plain": [
       "  0%|          | 0/50 [00:00<?, ?it/s]"
      ]
     },
     "metadata": {},
     "output_type": "display_data"
    },
    {
     "name": "stdout",
     "output_type": "stream",
     "text": [
      "16 готов\n",
      "Генерируем изображение с управлением: промпт='Quiet creature nuzzling fresh hay'\n",
      "Режим удаления концепции (beta=1.0)\n",
      "down 6\n",
      "up 15\n",
      "mid 16\n"
     ]
    },
    {
     "data": {
      "application/vnd.jupyter.widget-view+json": {
       "model_id": "a819740e59ed4c148ba8e326ecbf5c5b",
       "version_major": 2,
       "version_minor": 0
      },
      "text/plain": [
       "  0%|          | 0/50 [00:00<?, ?it/s]"
      ]
     },
     "metadata": {},
     "output_type": "display_data"
    },
    {
     "name": "stdout",
     "output_type": "stream",
     "text": [
      "17 готов\n",
      "Генерируем изображение с управлением: промпт='Buffalo herd crossing prairie landscape, tall grass, open skies'\n",
      "Режим удаления концепции (beta=1.0)\n",
      "down 6\n",
      "up 15\n",
      "mid 16\n"
     ]
    },
    {
     "data": {
      "application/vnd.jupyter.widget-view+json": {
       "model_id": "588fec86962349aaa1292f6a9cba6c2b",
       "version_major": 2,
       "version_minor": 0
      },
      "text/plain": [
       "  0%|          | 0/50 [00:00<?, ?it/s]"
      ]
     },
     "metadata": {},
     "output_type": "display_data"
    },
    {
     "name": "stdout",
     "output_type": "stream",
     "text": [
      "18 готов\n",
      "Генерируем изображение с управлением: промпт='Wild horses running together on plains'\n",
      "Режим удаления концепции (beta=1.0)\n",
      "down 6\n",
      "up 15\n",
      "mid 16\n"
     ]
    },
    {
     "data": {
      "application/vnd.jupyter.widget-view+json": {
       "model_id": "ba61eaa240904401ae3b752ab66911df",
       "version_major": 2,
       "version_minor": 0
      },
      "text/plain": [
       "  0%|          | 0/50 [00:00<?, ?it/s]"
      ]
     },
     "metadata": {},
     "output_type": "display_data"
    },
    {
     "name": "stdout",
     "output_type": "stream",
     "text": [
      "19 готов\n",
      "Генерируем изображение с управлением: промпт='Mughal Miniature depicting an Arabian Horse'\n",
      "Режим удаления концепции (beta=1.0)\n",
      "down 6\n",
      "up 15\n",
      "mid 16\n"
     ]
    },
    {
     "data": {
      "application/vnd.jupyter.widget-view+json": {
       "model_id": "ac6c941967324d958034da5b7cdeba79",
       "version_major": 2,
       "version_minor": 0
      },
      "text/plain": [
       "  0%|          | 0/50 [00:00<?, ?it/s]"
      ]
     },
     "metadata": {},
     "output_type": "display_data"
    },
    {
     "name": "stdout",
     "output_type": "stream",
     "text": [
      "20 готов\n",
      "Генерируем изображение с управлением: промпт='Oil Painting of the Hog'\n",
      "Режим удаления концепции (beta=1.0)\n",
      "down 6\n",
      "up 15\n",
      "mid 16\n"
     ]
    },
    {
     "data": {
      "application/vnd.jupyter.widget-view+json": {
       "model_id": "26eacfb0516441248bbbb4177837628e",
       "version_major": 2,
       "version_minor": 0
      },
      "text/plain": [
       "  0%|          | 0/50 [00:00<?, ?it/s]"
      ]
     },
     "metadata": {},
     "output_type": "display_data"
    },
    {
     "name": "stdout",
     "output_type": "stream",
     "text": [
      "21 готов\n",
      "Генерируем изображение с управлением: промпт='Country fair with prize-winning cattle, bunting flags, excited crowds'\n",
      "Режим удаления концепции (beta=1.0)\n",
      "down 6\n",
      "up 15\n",
      "mid 16\n"
     ]
    },
    {
     "data": {
      "application/vnd.jupyter.widget-view+json": {
       "model_id": "298df250f3f14e98b4dbedc6a6097f06",
       "version_major": 2,
       "version_minor": 0
      },
      "text/plain": [
       "  0%|          | 0/50 [00:00<?, ?it/s]"
      ]
     },
     "metadata": {},
     "output_type": "display_data"
    },
    {
     "name": "stdout",
     "output_type": "stream",
     "text": [
      "22 готов\n",
      "Генерируем изображение с управлением: промпт='Majestic creature galloping across endless grassy plains'\n",
      "Режим удаления концепции (beta=1.0)\n",
      "down 6\n",
      "up 15\n",
      "mid 16\n"
     ]
    },
    {
     "data": {
      "application/vnd.jupyter.widget-view+json": {
       "model_id": "70eb3bc991854d5ea81d09b81943b524",
       "version_major": 2,
       "version_minor": 0
      },
      "text/plain": [
       "  0%|          | 0/50 [00:00<?, ?it/s]"
      ]
     },
     "metadata": {},
     "output_type": "display_data"
    },
    {
     "name": "stdout",
     "output_type": "stream",
     "text": [
      "23 готов\n",
      "Генерируем изображение с управлением: промпт='Pixel Pig Art'\n",
      "Режим удаления концепции (beta=1.0)\n",
      "down 6\n",
      "up 15\n",
      "mid 16\n"
     ]
    },
    {
     "data": {
      "application/vnd.jupyter.widget-view+json": {
       "model_id": "cc35da1e4b4841aba7cea617dbe570a4",
       "version_major": 2,
       "version_minor": 0
      },
      "text/plain": [
       "  0%|          | 0/50 [00:00<?, ?it/s]"
      ]
     },
     "metadata": {},
     "output_type": "display_data"
    },
    {
     "name": "stdout",
     "output_type": "stream",
     "text": [
      "24 готов\n",
      "Генерируем изображение с управлением: промпт='Goats climbing on hay bales, rustic barn setting, warm lighting'\n",
      "Режим удаления концепции (beta=1.0)\n",
      "down 6\n",
      "up 15\n",
      "mid 16\n"
     ]
    },
    {
     "data": {
      "application/vnd.jupyter.widget-view+json": {
       "model_id": "7db1676a072c42e59cbb888e7d8ea445",
       "version_major": 2,
       "version_minor": 0
      },
      "text/plain": [
       "  0%|          | 0/50 [00:00<?, ?it/s]"
      ]
     },
     "metadata": {},
     "output_type": "display_data"
    },
    {
     "name": "stdout",
     "output_type": "stream",
     "text": [
      "25 готов\n",
      "Генерируем изображение с управлением: промпт='Graceful drifter trotting past wind-swept hayfields'\n",
      "Режим удаления концепции (beta=1.0)\n",
      "down 6\n",
      "up 15\n",
      "mid 16\n"
     ]
    },
    {
     "data": {
      "application/vnd.jupyter.widget-view+json": {
       "model_id": "60cd22889a034b669ebd0df95c46d252",
       "version_major": 2,
       "version_minor": 0
      },
      "text/plain": [
       "  0%|          | 0/50 [00:00<?, ?it/s]"
      ]
     },
     "metadata": {},
     "output_type": "display_data"
    },
    {
     "name": "stdout",
     "output_type": "stream",
     "text": [
      "26 готов\n",
      "Генерируем изображение с управлением: промпт='Korean Minhwa Pony Art'\n",
      "Режим удаления концепции (beta=1.0)\n",
      "down 6\n",
      "up 15\n",
      "mid 16\n"
     ]
    },
    {
     "data": {
      "application/vnd.jupyter.widget-view+json": {
       "model_id": "1aa0cc99197a41509371211e91507477",
       "version_major": 2,
       "version_minor": 0
      },
      "text/plain": [
       "  0%|          | 0/50 [00:00<?, ?it/s]"
      ]
     },
     "metadata": {},
     "output_type": "display_data"
    },
    {
     "name": "stdout",
     "output_type": "stream",
     "text": [
      "27 готов\n",
      "Генерируем изображение с управлением: промпт='Vintage tractor in wildflower field, bees and butterflies, summer day'\n",
      "Режим удаления концепции (beta=1.0)\n",
      "down 6\n",
      "up 15\n",
      "mid 16\n"
     ]
    },
    {
     "data": {
      "application/vnd.jupyter.widget-view+json": {
       "model_id": "297277f5fb254f368a4a7001cc07d8e9",
       "version_major": 2,
       "version_minor": 0
      },
      "text/plain": [
       "  0%|          | 0/50 [00:00<?, ?it/s]"
      ]
     },
     "metadata": {},
     "output_type": "display_data"
    },
    {
     "name": "stdout",
     "output_type": "stream",
     "text": [
      "28 готов\n",
      "Генерируем изображение с управлением: промпт='Tapir wandering through tropical rainforest, exotic wildlife'\n",
      "Режим удаления концепции (beta=1.0)\n",
      "down 6\n",
      "up 15\n",
      "mid 16\n"
     ]
    },
    {
     "data": {
      "application/vnd.jupyter.widget-view+json": {
       "model_id": "abf1a07fb4274895a6606ddd885c7295",
       "version_major": 2,
       "version_minor": 0
      },
      "text/plain": [
       "  0%|          | 0/50 [00:00<?, ?it/s]"
      ]
     },
     "metadata": {},
     "output_type": "display_data"
    },
    {
     "name": "stdout",
     "output_type": "stream",
     "text": [
      "29 готов\n",
      "Генерируем изображение с управлением: промпт='Horse jumping over a wooden fence'\n",
      "Режим удаления концепции (beta=1.0)\n",
      "down 6\n",
      "up 15\n",
      "mid 16\n"
     ]
    },
    {
     "data": {
      "application/vnd.jupyter.widget-view+json": {
       "model_id": "8981a74a63384705bd67620e2e60ec5d",
       "version_major": 2,
       "version_minor": 0
      },
      "text/plain": [
       "  0%|          | 0/50 [00:00<?, ?it/s]"
      ]
     },
     "metadata": {},
     "output_type": "display_data"
    },
    {
     "name": "stdout",
     "output_type": "stream",
     "text": [
      "30 готов\n",
      "Генерируем изображение с управлением: промпт='Equine Concept Art'\n",
      "Режим удаления концепции (beta=1.0)\n",
      "down 6\n",
      "up 15\n",
      "mid 16\n"
     ]
    },
    {
     "data": {
      "application/vnd.jupyter.widget-view+json": {
       "model_id": "f3718652bc7344458fc0e683e43ab343",
       "version_major": 2,
       "version_minor": 0
      },
      "text/plain": [
       "  0%|          | 0/50 [00:00<?, ?it/s]"
      ]
     },
     "metadata": {},
     "output_type": "display_data"
    },
    {
     "name": "stdout",
     "output_type": "stream",
     "text": [
      "31 готов\n",
      "Генерируем изображение с управлением: промпт='Bojack'\n",
      "Режим удаления концепции (beta=1.0)\n",
      "down 6\n",
      "up 15\n",
      "mid 16\n"
     ]
    },
    {
     "data": {
      "application/vnd.jupyter.widget-view+json": {
       "model_id": "47efb8ffb7a24de8b25702eb3631b5ff",
       "version_major": 2,
       "version_minor": 0
      },
      "text/plain": [
       "  0%|          | 0/50 [00:00<?, ?it/s]"
      ]
     },
     "metadata": {},
     "output_type": "display_data"
    },
    {
     "name": "stdout",
     "output_type": "stream",
     "text": [
      "32 готов\n",
      "Генерируем изображение с управлением: промпт='Pork animal living in farm'\n",
      "Режим удаления концепции (beta=1.0)\n",
      "down 6\n",
      "up 15\n",
      "mid 16\n"
     ]
    },
    {
     "data": {
      "application/vnd.jupyter.widget-view+json": {
       "model_id": "52c73bda397a4cd88bebc5eaac1297d9",
       "version_major": 2,
       "version_minor": 0
      },
      "text/plain": [
       "  0%|          | 0/50 [00:00<?, ?it/s]"
      ]
     },
     "metadata": {},
     "output_type": "display_data"
    },
    {
     "name": "stdout",
     "output_type": "stream",
     "text": [
      "33 готов\n",
      "Генерируем изображение с управлением: промпт='Tattooed Pig Design'\n",
      "Режим удаления концепции (beta=1.0)\n",
      "down 6\n",
      "up 15\n",
      "mid 16\n"
     ]
    },
    {
     "data": {
      "application/vnd.jupyter.widget-view+json": {
       "model_id": "96d411d4a7364acc96ef94cb257f9696",
       "version_major": 2,
       "version_minor": 0
      },
      "text/plain": [
       "  0%|          | 0/50 [00:00<?, ?it/s]"
      ]
     },
     "metadata": {},
     "output_type": "display_data"
    },
    {
     "name": "stdout",
     "output_type": "stream",
     "text": [
      "34 готов\n",
      "Генерируем изображение с управлением: промпт='De Stijl Gelding Composition'\n",
      "Режим удаления концепции (beta=1.0)\n",
      "down 6\n",
      "up 15\n",
      "mid 16\n"
     ]
    },
    {
     "data": {
      "application/vnd.jupyter.widget-view+json": {
       "model_id": "a6920312dfce432cba42e87c85e0f761",
       "version_major": 2,
       "version_minor": 0
      },
      "text/plain": [
       "  0%|          | 0/50 [00:00<?, ?it/s]"
      ]
     },
     "metadata": {},
     "output_type": "display_data"
    },
    {
     "name": "stdout",
     "output_type": "stream",
     "text": [
      "35 готов\n",
      "Генерируем изображение с управлением: промпт='Concept Art of the Boar'\n",
      "Режим удаления концепции (beta=1.0)\n",
      "down 6\n",
      "up 15\n",
      "mid 16\n"
     ]
    },
    {
     "data": {
      "application/vnd.jupyter.widget-view+json": {
       "model_id": "946730d464f0456b98e958e55b5ff83c",
       "version_major": 2,
       "version_minor": 0
      },
      "text/plain": [
       "  0%|          | 0/50 [00:00<?, ?it/s]"
      ]
     },
     "metadata": {},
     "output_type": "display_data"
    },
    {
     "name": "stdout",
     "output_type": "stream",
     "text": [
      "36 готов\n",
      "Генерируем изображение с управлением: промпт='Swine'\n",
      "Режим удаления концепции (beta=1.0)\n",
      "down 6\n",
      "up 15\n",
      "mid 16\n"
     ]
    },
    {
     "data": {
      "application/vnd.jupyter.widget-view+json": {
       "model_id": "73e055f3b9ad47519b838618b434aa27",
       "version_major": 2,
       "version_minor": 0
      },
      "text/plain": [
       "  0%|          | 0/50 [00:00<?, ?it/s]"
      ]
     },
     "metadata": {},
     "output_type": "display_data"
    },
    {
     "name": "stdout",
     "output_type": "stream",
     "text": [
      "37 готов\n",
      "Генерируем изображение с управлением: промпт='Alfie (Peppa Pig)'\n",
      "Режим удаления концепции (beta=1.0)\n",
      "down 6\n",
      "up 15\n",
      "mid 16\n"
     ]
    },
    {
     "data": {
      "application/vnd.jupyter.widget-view+json": {
       "model_id": "ad58603161bd4baf984ce4bea00a3aba",
       "version_major": 2,
       "version_minor": 0
      },
      "text/plain": [
       "  0%|          | 0/50 [00:00<?, ?it/s]"
      ]
     },
     "metadata": {},
     "output_type": "display_data"
    },
    {
     "name": "stdout",
     "output_type": "stream",
     "text": [
      "38 готов\n",
      "Генерируем изображение с управлением: промпт='Guinea fowl foraging in farmyard, spotted patterns, busy movement'\n",
      "Режим удаления концепции (beta=1.0)\n",
      "down 6\n",
      "up 15\n",
      "mid 16\n"
     ]
    },
    {
     "data": {
      "application/vnd.jupyter.widget-view+json": {
       "model_id": "ceddb1cdc03d4ec4a2a8f8977cb44796",
       "version_major": 2,
       "version_minor": 0
      },
      "text/plain": [
       "  0%|          | 0/50 [00:00<?, ?it/s]"
      ]
     },
     "metadata": {},
     "output_type": "display_data"
    },
    {
     "name": "stdout",
     "output_type": "stream",
     "text": [
      "39 готов\n",
      "Генерируем изображение с управлением: промпт='Low Poly Piggy'\n",
      "Режим удаления концепции (beta=1.0)\n",
      "down 6\n",
      "up 15\n",
      "mid 16\n"
     ]
    },
    {
     "data": {
      "application/vnd.jupyter.widget-view+json": {
       "model_id": "929fc155954b4b2db33f21d2a266db2f",
       "version_major": 2,
       "version_minor": 0
      },
      "text/plain": [
       "  0%|          | 0/50 [00:00<?, ?it/s]"
      ]
     },
     "metadata": {},
     "output_type": "display_data"
    },
    {
     "name": "stdout",
     "output_type": "stream",
     "text": [
      "40 готов\n",
      "Генерируем изображение с управлением: промпт='Flat Design Pony'\n",
      "Режим удаления концепции (beta=1.0)\n",
      "down 6\n",
      "up 15\n",
      "mid 16\n"
     ]
    },
    {
     "data": {
      "application/vnd.jupyter.widget-view+json": {
       "model_id": "627b37e6658f47c2892e752a4be272f2",
       "version_major": 2,
       "version_minor": 0
      },
      "text/plain": [
       "  0%|          | 0/50 [00:00<?, ?it/s]"
      ]
     },
     "metadata": {},
     "output_type": "display_data"
    },
    {
     "name": "stdout",
     "output_type": "stream",
     "text": [
      "41 готов\n",
      "Генерируем изображение с управлением: промпт='Persian Miniature Equine Scene'\n",
      "Режим удаления концепции (beta=1.0)\n",
      "down 6\n",
      "up 15\n",
      "mid 16\n"
     ]
    },
    {
     "data": {
      "application/vnd.jupyter.widget-view+json": {
       "model_id": "5e00b51c86394eeabf7fa2e7273bb6db",
       "version_major": 2,
       "version_minor": 0
      },
      "text/plain": [
       "  0%|          | 0/50 [00:00<?, ?it/s]"
      ]
     },
     "metadata": {},
     "output_type": "display_data"
    },
    {
     "name": "stdout",
     "output_type": "stream",
     "text": [
      "42 готов\n",
      "Генерируем изображение с управлением: промпт='Glitch Art featuring a Pony'\n",
      "Режим удаления концепции (beta=1.0)\n",
      "down 6\n",
      "up 15\n",
      "mid 16\n"
     ]
    },
    {
     "data": {
      "application/vnd.jupyter.widget-view+json": {
       "model_id": "d346eb6de571469a83fbe0dd6cc211dc",
       "version_major": 2,
       "version_minor": 0
      },
      "text/plain": [
       "  0%|          | 0/50 [00:00<?, ?it/s]"
      ]
     },
     "metadata": {},
     "output_type": "display_data"
    },
    {
     "name": "stdout",
     "output_type": "stream",
     "text": [
      "43 готов\n",
      "Генерируем изображение с управлением: промпт='Weathered red barn with roosters and hens pecking in the yard'\n",
      "Режим удаления концепции (beta=1.0)\n",
      "down 6\n",
      "up 15\n",
      "mid 16\n"
     ]
    },
    {
     "data": {
      "application/vnd.jupyter.widget-view+json": {
       "model_id": "648b92ef800c401bb681f00f48684d12",
       "version_major": 2,
       "version_minor": 0
      },
      "text/plain": [
       "  0%|          | 0/50 [00:00<?, ?it/s]"
      ]
     },
     "metadata": {},
     "output_type": "display_data"
    },
    {
     "name": "stdout",
     "output_type": "stream",
     "text": [
      "44 готов\n",
      "Генерируем изображение с управлением: промпт='Cozy cabin, snowy mountains, warm light, winter landscape'\n",
      "Режим удаления концепции (beta=1.0)\n",
      "down 6\n",
      "up 15\n",
      "mid 16\n"
     ]
    },
    {
     "data": {
      "application/vnd.jupyter.widget-view+json": {
       "model_id": "6fb56c3d16734f31b35e74c542f1f1fa",
       "version_major": 2,
       "version_minor": 0
      },
      "text/plain": [
       "  0%|          | 0/50 [00:00<?, ?it/s]"
      ]
     },
     "metadata": {},
     "output_type": "display_data"
    },
    {
     "name": "stdout",
     "output_type": "stream",
     "text": [
      "45 готов\n",
      "Генерируем изображение с управлением: промпт='Ukiyo-e Woodblock of a Stallion'\n",
      "Режим удаления концепции (beta=1.0)\n",
      "down 6\n",
      "up 15\n",
      "mid 16\n"
     ]
    },
    {
     "data": {
      "application/vnd.jupyter.widget-view+json": {
       "model_id": "7670489d8f3f45199f317181bab9aa1e",
       "version_major": 2,
       "version_minor": 0
      },
      "text/plain": [
       "  0%|          | 0/50 [00:00<?, ?it/s]"
      ]
     },
     "metadata": {},
     "output_type": "display_data"
    },
    {
     "name": "stdout",
     "output_type": "stream",
     "text": [
      "46 готов\n",
      "Генерируем изображение с управлением: промпт='Pinkish barn dweller known for a good squeal and big appetite.'\n",
      "Режим удаления концепции (beta=1.0)\n",
      "down 6\n",
      "up 15\n",
      "mid 16\n"
     ]
    },
    {
     "data": {
      "application/vnd.jupyter.widget-view+json": {
       "model_id": "d294a8d4ce094d43bd7ee2c9747e8692",
       "version_major": 2,
       "version_minor": 0
      },
      "text/plain": [
       "  0%|          | 0/50 [00:00<?, ?it/s]"
      ]
     },
     "metadata": {},
     "output_type": "display_data"
    },
    {
     "name": "stdout",
     "output_type": "stream",
     "text": [
      "47 готов\n",
      "Генерируем изображение с управлением: промпт='3D Rendered Pig Form'\n",
      "Режим удаления концепции (beta=1.0)\n",
      "down 6\n",
      "up 15\n",
      "mid 16\n"
     ]
    },
    {
     "data": {
      "application/vnd.jupyter.widget-view+json": {
       "model_id": "648e367c596c422cbadbe9ddb007ad89",
       "version_major": 2,
       "version_minor": 0
      },
      "text/plain": [
       "  0%|          | 0/50 [00:00<?, ?it/s]"
      ]
     },
     "metadata": {},
     "output_type": "display_data"
    },
    {
     "name": "stdout",
     "output_type": "stream",
     "text": [
      "48 готов\n",
      "Генерируем изображение с управлением: промпт='Pop Art Mare Portrait'\n",
      "Режим удаления концепции (beta=1.0)\n",
      "down 6\n",
      "up 15\n",
      "mid 16\n"
     ]
    },
    {
     "data": {
      "application/vnd.jupyter.widget-view+json": {
       "model_id": "648586cec1f94aaca508cfe8900a0b09",
       "version_major": 2,
       "version_minor": 0
      },
      "text/plain": [
       "  0%|          | 0/50 [00:00<?, ?it/s]"
      ]
     },
     "metadata": {},
     "output_type": "display_data"
    },
    {
     "name": "stdout",
     "output_type": "stream",
     "text": [
      "49 готов\n",
      "Генерируем изображение с управлением: промпт='Gothic Pig Visions'\n",
      "Режим удаления концепции (beta=1.0)\n",
      "down 6\n",
      "up 15\n",
      "mid 16\n"
     ]
    },
    {
     "data": {
      "application/vnd.jupyter.widget-view+json": {
       "model_id": "e8af188fce5247498cd1e77d2ecee786",
       "version_major": 2,
       "version_minor": 0
      },
      "text/plain": [
       "  0%|          | 0/50 [00:00<?, ?it/s]"
      ]
     },
     "metadata": {},
     "output_type": "display_data"
    },
    {
     "name": "stdout",
     "output_type": "stream",
     "text": [
      "50 готов\n",
      "Генерируем изображение с управлением: промпт='Bauhaus Horse Artwork'\n",
      "Режим удаления концепции (beta=1.0)\n",
      "down 6\n",
      "up 15\n",
      "mid 16\n"
     ]
    },
    {
     "data": {
      "application/vnd.jupyter.widget-view+json": {
       "model_id": "f0217e5abe2542eb8e86b9cb7313030b",
       "version_major": 2,
       "version_minor": 0
      },
      "text/plain": [
       "  0%|          | 0/50 [00:00<?, ?it/s]"
      ]
     },
     "metadata": {},
     "output_type": "display_data"
    },
    {
     "name": "stdout",
     "output_type": "stream",
     "text": [
      "51 готов\n",
      "Генерируем изображение с управлением: промпт='Black horse running on the beach at sunset'\n",
      "Режим удаления концепции (beta=1.0)\n",
      "down 6\n",
      "up 15\n",
      "mid 16\n"
     ]
    },
    {
     "data": {
      "application/vnd.jupyter.widget-view+json": {
       "model_id": "be0f12fec3c84c5cbfd4653b8a89cf73",
       "version_major": 2,
       "version_minor": 0
      },
      "text/plain": [
       "  0%|          | 0/50 [00:00<?, ?it/s]"
      ]
     },
     "metadata": {},
     "output_type": "display_data"
    },
    {
     "name": "stdout",
     "output_type": "stream",
     "text": [
      "52 готов\n",
      "Генерируем изображение с управлением: промпт='Realistic Photo of a Stallion'\n",
      "Режим удаления концепции (beta=1.0)\n",
      "down 6\n",
      "up 15\n",
      "mid 16\n"
     ]
    },
    {
     "data": {
      "application/vnd.jupyter.widget-view+json": {
       "model_id": "db5328ccb9154f479afde862bdaa7b41",
       "version_major": 2,
       "version_minor": 0
      },
      "text/plain": [
       "  0%|          | 0/50 [00:00<?, ?it/s]"
      ]
     },
     "metadata": {},
     "output_type": "display_data"
    },
    {
     "name": "stdout",
     "output_type": "stream",
     "text": [
      "53 готов\n",
      "Генерируем изображение с управлением: промпт='Pop Pig Art'\n",
      "Режим удаления концепции (beta=1.0)\n",
      "down 6\n",
      "up 15\n",
      "mid 16\n"
     ]
    },
    {
     "data": {
      "application/vnd.jupyter.widget-view+json": {
       "model_id": "c865b1142f694bdba3865976c8ff6c71",
       "version_major": 2,
       "version_minor": 0
      },
      "text/plain": [
       "  0%|          | 0/50 [00:00<?, ?it/s]"
      ]
     },
     "metadata": {},
     "output_type": "display_data"
    },
    {
     "name": "stdout",
     "output_type": "stream",
     "text": [
      "54 готов\n",
      "Генерируем изображение с управлением: промпт='Dark Fantasy Nightmare Stallion'\n",
      "Режим удаления концепции (beta=1.0)\n",
      "down 6\n",
      "up 15\n",
      "mid 16\n"
     ]
    },
    {
     "data": {
      "application/vnd.jupyter.widget-view+json": {
       "model_id": "8a886b5477104c44ab085b2e115b0102",
       "version_major": 2,
       "version_minor": 0
      },
      "text/plain": [
       "  0%|          | 0/50 [00:00<?, ?it/s]"
      ]
     },
     "metadata": {},
     "output_type": "display_data"
    },
    {
     "name": "stdout",
     "output_type": "stream",
     "text": [
      "55 готов\n",
      "Генерируем изображение с управлением: промпт='Swift silhouette tossing its mane amid evening clover fields'\n",
      "Режим удаления концепции (beta=1.0)\n",
      "down 6\n",
      "up 15\n",
      "mid 16\n"
     ]
    },
    {
     "data": {
      "application/vnd.jupyter.widget-view+json": {
       "model_id": "422a235ddc35441aa0ecf172595ade17",
       "version_major": 2,
       "version_minor": 0
      },
      "text/plain": [
       "  0%|          | 0/50 [00:00<?, ?it/s]"
      ]
     },
     "metadata": {},
     "output_type": "display_data"
    },
    {
     "name": "stdout",
     "output_type": "stream",
     "text": [
      "56 готов\n",
      "Генерируем изображение с управлением: промпт='Royal cavalery'\n",
      "Режим удаления концепции (beta=1.0)\n",
      "down 6\n",
      "up 15\n",
      "mid 16\n"
     ]
    },
    {
     "data": {
      "application/vnd.jupyter.widget-view+json": {
       "model_id": "22fa86fb80f84d55b42b54c95378a609",
       "version_major": 2,
       "version_minor": 0
      },
      "text/plain": [
       "  0%|          | 0/50 [00:00<?, ?it/s]"
      ]
     },
     "metadata": {},
     "output_type": "display_data"
    },
    {
     "name": "stdout",
     "output_type": "stream",
     "text": [
      "57 готов\n",
      "Генерируем изображение с управлением: промпт='Embroidery/Stitch Pony Design'\n",
      "Режим удаления концепции (beta=1.0)\n",
      "down 6\n",
      "up 15\n",
      "mid 16\n"
     ]
    },
    {
     "data": {
      "application/vnd.jupyter.widget-view+json": {
       "model_id": "02d50508ac884a12ba0a4a47e19ff12b",
       "version_major": 2,
       "version_minor": 0
      },
      "text/plain": [
       "  0%|          | 0/50 [00:00<?, ?it/s]"
      ]
     },
     "metadata": {},
     "output_type": "display_data"
    },
    {
     "name": "stdout",
     "output_type": "stream",
     "text": [
      "58 готов\n",
      "Генерируем изображение с управлением: промпт='Ancient temple ruins, overgrown vines, sunlight, atmospheric'\n",
      "Режим удаления концепции (beta=1.0)\n",
      "down 6\n",
      "up 15\n",
      "mid 16\n"
     ]
    },
    {
     "data": {
      "application/vnd.jupyter.widget-view+json": {
       "model_id": "f8c4053804a34ab8836a48e0cdc3f163",
       "version_major": 2,
       "version_minor": 0
      },
      "text/plain": [
       "  0%|          | 0/50 [00:00<?, ?it/s]"
      ]
     },
     "metadata": {},
     "output_type": "display_data"
    },
    {
     "name": "stdout",
     "output_type": "stream",
     "text": [
      "59 готов\n",
      "Генерируем изображение с управлением: промпт='Augmented Reality (AR) Horse Overlay'\n",
      "Режим удаления концепции (beta=1.0)\n",
      "down 6\n",
      "up 15\n",
      "mid 16\n"
     ]
    },
    {
     "data": {
      "application/vnd.jupyter.widget-view+json": {
       "model_id": "6697dedddace49cbb1c2114d85e72496",
       "version_major": 2,
       "version_minor": 0
      },
      "text/plain": [
       "  0%|          | 0/50 [00:00<?, ?it/s]"
      ]
     },
     "metadata": {},
     "output_type": "display_data"
    },
    {
     "name": "stdout",
     "output_type": "stream",
     "text": [
      "60 готов\n",
      "Генерируем изображение с управлением: промпт='Mules pulling plow through rich soil, traditional farming methods'\n",
      "Режим удаления концепции (beta=1.0)\n",
      "down 6\n",
      "up 15\n",
      "mid 16\n"
     ]
    },
    {
     "data": {
      "application/vnd.jupyter.widget-view+json": {
       "model_id": "a0c1758bef8841eb95544caf462595cf",
       "version_major": 2,
       "version_minor": 0
      },
      "text/plain": [
       "  0%|          | 0/50 [00:00<?, ?it/s]"
      ]
     },
     "metadata": {},
     "output_type": "display_data"
    },
    {
     "name": "stdout",
     "output_type": "stream",
     "text": [
      "61 готов\n",
      "Генерируем изображение с управлением: промпт='Country fair with prize-winning cattle, bunting flags, excited crowds'\n",
      "Режим удаления концепции (beta=1.0)\n",
      "down 6\n",
      "up 15\n",
      "mid 16\n"
     ]
    },
    {
     "data": {
      "application/vnd.jupyter.widget-view+json": {
       "model_id": "8262a23dc70b416ba7db8fa34d519810",
       "version_major": 2,
       "version_minor": 0
      },
      "text/plain": [
       "  0%|          | 0/50 [00:00<?, ?it/s]"
      ]
     },
     "metadata": {},
     "output_type": "display_data"
    },
    {
     "name": "stdout",
     "output_type": "stream",
     "text": [
      "62 готов\n",
      "Генерируем изображение с управлением: промпт='Deer jumping over country fence, wildflowers, morning light'\n",
      "Режим удаления концепции (beta=1.0)\n",
      "down 6\n",
      "up 15\n",
      "mid 16\n"
     ]
    },
    {
     "data": {
      "application/vnd.jupyter.widget-view+json": {
       "model_id": "883ff9d648aa4df899739bf20cf8138c",
       "version_major": 2,
       "version_minor": 0
      },
      "text/plain": [
       "  0%|          | 0/50 [00:00<?, ?it/s]"
      ]
     },
     "metadata": {},
     "output_type": "display_data"
    },
    {
     "name": "stdout",
     "output_type": "stream",
     "text": [
      "63 готов\n",
      "Генерируем изображение с управлением: промпт='Encaustic (Wax Painting) of a Horse'\n",
      "Режим удаления концепции (beta=1.0)\n",
      "down 6\n",
      "up 15\n",
      "mid 16\n"
     ]
    },
    {
     "data": {
      "application/vnd.jupyter.widget-view+json": {
       "model_id": "20e3cf7489c94c5c870fc4a34498f37e",
       "version_major": 2,
       "version_minor": 0
      },
      "text/plain": [
       "  0%|          | 0/50 [00:00<?, ?it/s]"
      ]
     },
     "metadata": {},
     "output_type": "display_data"
    },
    {
     "name": "stdout",
     "output_type": "stream",
     "text": [
      "64 готов\n",
      "Генерируем изображение с управлением: промпт='Urban coffee shop scene, diverse customers, cozy atmosphere, morning rush'\n",
      "Режим удаления концепции (beta=1.0)\n",
      "down 6\n",
      "up 15\n",
      "mid 16\n"
     ]
    },
    {
     "data": {
      "application/vnd.jupyter.widget-view+json": {
       "model_id": "334f1d52e6de48c6b330714d1ef3b4f2",
       "version_major": 2,
       "version_minor": 0
      },
      "text/plain": [
       "  0%|          | 0/50 [00:00<?, ?it/s]"
      ]
     },
     "metadata": {},
     "output_type": "display_data"
    },
    {
     "name": "stdout",
     "output_type": "stream",
     "text": [
      "65 готов\n",
      "Генерируем изображение с управлением: промпт='Muddy (Muddy the Mudskipper’s Pig Friend)'\n",
      "Режим удаления концепции (beta=1.0)\n",
      "down 6\n",
      "up 15\n",
      "mid 16\n"
     ]
    },
    {
     "data": {
      "application/vnd.jupyter.widget-view+json": {
       "model_id": "e6274148e4df42618fb17e69c5a7a65a",
       "version_major": 2,
       "version_minor": 0
      },
      "text/plain": [
       "  0%|          | 0/50 [00:00<?, ?it/s]"
      ]
     },
     "metadata": {},
     "output_type": "display_data"
    },
    {
     "name": "stdout",
     "output_type": "stream",
     "text": [
      "66 готов\n",
      "Генерируем изображение с управлением: промпт='Pig Quilling Art'\n",
      "Режим удаления концепции (beta=1.0)\n",
      "down 6\n",
      "up 15\n",
      "mid 16\n"
     ]
    },
    {
     "data": {
      "application/vnd.jupyter.widget-view+json": {
       "model_id": "6e043f768d6a4ac7b5f52c6f5fff6f5f",
       "version_major": 2,
       "version_minor": 0
      },
      "text/plain": [
       "  0%|          | 0/50 [00:00<?, ?it/s]"
      ]
     },
     "metadata": {},
     "output_type": "display_data"
    },
    {
     "name": "stdout",
     "output_type": "stream",
     "text": [
      "67 готов\n",
      "Генерируем изображение с управлением: промпт='Elegant creature trotting softly through fields bathed in moonlight'\n",
      "Режим удаления концепции (beta=1.0)\n",
      "down 6\n",
      "up 15\n",
      "mid 16\n"
     ]
    },
    {
     "data": {
      "application/vnd.jupyter.widget-view+json": {
       "model_id": "2a59b5600ad2429fba1b642ae1ba857b",
       "version_major": 2,
       "version_minor": 0
      },
      "text/plain": [
       "  0%|          | 0/50 [00:00<?, ?it/s]"
      ]
     },
     "metadata": {},
     "output_type": "display_data"
    },
    {
     "name": "stdout",
     "output_type": "stream",
     "text": [
      "68 готов\n",
      "Генерируем изображение с управлением: промпт='Warthogs playing near watering hole, dusty plains, wildlife'\n",
      "Режим удаления концепции (beta=1.0)\n",
      "down 6\n",
      "up 15\n",
      "mid 16\n"
     ]
    },
    {
     "data": {
      "application/vnd.jupyter.widget-view+json": {
       "model_id": "1af5dfb923314872b9a0517825f2ac1d",
       "version_major": 2,
       "version_minor": 0
      },
      "text/plain": [
       "  0%|          | 0/50 [00:00<?, ?it/s]"
      ]
     },
     "metadata": {},
     "output_type": "display_data"
    },
    {
     "name": "stdout",
     "output_type": "stream",
     "text": [
      "69 готов\n",
      "Генерируем изображение с управлением: промпт='Ducks swimming in farm pond, cattails, morning light reflections'\n",
      "Режим удаления концепции (beta=1.0)\n",
      "down 6\n",
      "up 15\n",
      "mid 16\n"
     ]
    },
    {
     "data": {
      "application/vnd.jupyter.widget-view+json": {
       "model_id": "d5f5278658da4bf892c415592ee3e76e",
       "version_major": 2,
       "version_minor": 0
      },
      "text/plain": [
       "  0%|          | 0/50 [00:00<?, ?it/s]"
      ]
     },
     "metadata": {},
     "output_type": "display_data"
    },
    {
     "name": "stdout",
     "output_type": "stream",
     "text": [
      "70 готов\n",
      "Генерируем изображение с управлением: промпт='Fauvist Mustang Painting'\n",
      "Режим удаления концепции (beta=1.0)\n",
      "down 6\n",
      "up 15\n",
      "mid 16\n"
     ]
    },
    {
     "data": {
      "application/vnd.jupyter.widget-view+json": {
       "model_id": "e692a0a3cb424622b68405f8df93b744",
       "version_major": 2,
       "version_minor": 0
      },
      "text/plain": [
       "  0%|          | 0/50 [00:00<?, ?it/s]"
      ]
     },
     "metadata": {},
     "output_type": "display_data"
    },
    {
     "name": "stdout",
     "output_type": "stream",
     "text": [
      "71 готов\n",
      "Генерируем изображение с управлением: промпт='Zen Ink Painting of a Steed'\n",
      "Режим удаления концепции (beta=1.0)\n",
      "down 6\n",
      "up 15\n",
      "mid 16\n"
     ]
    },
    {
     "data": {
      "application/vnd.jupyter.widget-view+json": {
       "model_id": "ba8777b4fab848cea2b1bd5ba6fb35fb",
       "version_major": 2,
       "version_minor": 0
      },
      "text/plain": [
       "  0%|          | 0/50 [00:00<?, ?it/s]"
      ]
     },
     "metadata": {},
     "output_type": "display_data"
    },
    {
     "name": "stdout",
     "output_type": "stream",
     "text": [
      "72 готов\n",
      "Генерируем изображение с управлением: промпт='Swine-structivism'\n",
      "Режим удаления концепции (beta=1.0)\n",
      "down 6\n",
      "up 15\n",
      "mid 16\n"
     ]
    },
    {
     "data": {
      "application/vnd.jupyter.widget-view+json": {
       "model_id": "638199d847b7424f8cd6656b865d578c",
       "version_major": 2,
       "version_minor": 0
      },
      "text/plain": [
       "  0%|          | 0/50 [00:00<?, ?it/s]"
      ]
     },
     "metadata": {},
     "output_type": "display_data"
    },
    {
     "name": "stdout",
     "output_type": "stream",
     "text": [
      "73 готов\n",
      "Генерируем изображение с управлением: промпт='Raccoons raiding corn storage, mischievous wildlife, moonlight'\n",
      "Режим удаления концепции (beta=1.0)\n",
      "down 6\n",
      "up 15\n",
      "mid 16\n"
     ]
    },
    {
     "data": {
      "application/vnd.jupyter.widget-view+json": {
       "model_id": "b62b5701a5764aceb11b2b6c88e2d1c4",
       "version_major": 2,
       "version_minor": 0
      },
      "text/plain": [
       "  0%|          | 0/50 [00:00<?, ?it/s]"
      ]
     },
     "metadata": {},
     "output_type": "display_data"
    },
    {
     "name": "stdout",
     "output_type": "stream",
     "text": [
      "74 готов\n",
      "Генерируем изображение с управлением: промпт='Vaporwave Stallion Composition'\n",
      "Режим удаления концепции (beta=1.0)\n",
      "down 6\n",
      "up 15\n",
      "mid 16\n"
     ]
    },
    {
     "data": {
      "application/vnd.jupyter.widget-view+json": {
       "model_id": "ab801051a5ec42dd8d306f028da494a1",
       "version_major": 2,
       "version_minor": 0
      },
      "text/plain": [
       "  0%|          | 0/50 [00:00<?, ?it/s]"
      ]
     },
     "metadata": {},
     "output_type": "display_data"
    },
    {
     "name": "stdout",
     "output_type": "stream",
     "text": [
      "75 готов\n",
      "Генерируем изображение с управлением: промпт='Glitch-Pig Art'\n",
      "Режим удаления концепции (beta=1.0)\n",
      "down 6\n",
      "up 15\n",
      "mid 16\n"
     ]
    },
    {
     "data": {
      "application/vnd.jupyter.widget-view+json": {
       "model_id": "14e0e040049d4b38ae5e4fcb099a18ec",
       "version_major": 2,
       "version_minor": 0
      },
      "text/plain": [
       "  0%|          | 0/50 [00:00<?, ?it/s]"
      ]
     },
     "metadata": {},
     "output_type": "display_data"
    },
    {
     "name": "stdout",
     "output_type": "stream",
     "text": [
      "76 готов\n",
      "Генерируем изображение с управлением: промпт='Buffalo herd crossing prairie landscape, tall grass, open skies'\n",
      "Режим удаления концепции (beta=1.0)\n",
      "down 6\n",
      "up 15\n",
      "mid 16\n"
     ]
    },
    {
     "data": {
      "application/vnd.jupyter.widget-view+json": {
       "model_id": "63d173711822466f90789af2db209134",
       "version_major": 2,
       "version_minor": 0
      },
      "text/plain": [
       "  0%|          | 0/50 [00:00<?, ?it/s]"
      ]
     },
     "metadata": {},
     "output_type": "display_data"
    },
    {
     "name": "stdout",
     "output_type": "stream",
     "text": [
      "77 готов\n",
      "Генерируем изображение с управлением: промпт='Liquid Chrome Horse Sculpture'\n",
      "Режим удаления концепции (beta=1.0)\n",
      "down 6\n",
      "up 15\n",
      "mid 16\n"
     ]
    },
    {
     "data": {
      "application/vnd.jupyter.widget-view+json": {
       "model_id": "e837f18e177e4a049f71504e9c430e06",
       "version_major": 2,
       "version_minor": 0
      },
      "text/plain": [
       "  0%|          | 0/50 [00:00<?, ?it/s]"
      ]
     },
     "metadata": {},
     "output_type": "display_data"
    },
    {
     "name": "stdout",
     "output_type": "stream",
     "text": [
      "78 готов\n",
      "Генерируем изображение с управлением: промпт='Horse trotting along forest path'\n",
      "Режим удаления концепции (beta=1.0)\n",
      "down 6\n",
      "up 15\n",
      "mid 16\n"
     ]
    },
    {
     "data": {
      "application/vnd.jupyter.widget-view+json": {
       "model_id": "0ebdaf2c3c7349d19adca2dc2d13db72",
       "version_major": 2,
       "version_minor": 0
      },
      "text/plain": [
       "  0%|          | 0/50 [00:00<?, ?it/s]"
      ]
     },
     "metadata": {},
     "output_type": "display_data"
    },
    {
     "name": "stdout",
     "output_type": "stream",
     "text": [
      "79 готов\n",
      "Генерируем изображение с управлением: промпт='Fruit orchards with beehives, pollination, springtime blossoms'\n",
      "Режим удаления концепции (beta=1.0)\n",
      "down 6\n",
      "up 15\n",
      "mid 16\n"
     ]
    },
    {
     "data": {
      "application/vnd.jupyter.widget-view+json": {
       "model_id": "1b1e92ddc30d47e4a42ef0d642f5ea45",
       "version_major": 2,
       "version_minor": 0
      },
      "text/plain": [
       "  0%|          | 0/50 [00:00<?, ?it/s]"
      ]
     },
     "metadata": {},
     "output_type": "display_data"
    },
    {
     "name": "stdout",
     "output_type": "stream",
     "text": [
      "80 готов\n",
      "Генерируем изображение с управлением: промпт='Vintage farmhouse with chickens in the foreground, watercolor style'\n",
      "Режим удаления концепции (beta=1.0)\n",
      "down 6\n",
      "up 15\n",
      "mid 16\n"
     ]
    },
    {
     "data": {
      "application/vnd.jupyter.widget-view+json": {
       "model_id": "2b28faf676464be6886669597da54b6a",
       "version_major": 2,
       "version_minor": 0
      },
      "text/plain": [
       "  0%|          | 0/50 [00:00<?, ?it/s]"
      ]
     },
     "metadata": {},
     "output_type": "display_data"
    },
    {
     "name": "stdout",
     "output_type": "stream",
     "text": [
      "81 готов\n",
      "Генерируем изображение с управлением: промпт='Proud creature galloping towards the horizon'\n",
      "Режим удаления концепции (beta=1.0)\n",
      "down 6\n",
      "up 15\n",
      "mid 16\n"
     ]
    },
    {
     "data": {
      "application/vnd.jupyter.widget-view+json": {
       "model_id": "baa66ff2eff74b2093d5096700d60a20",
       "version_major": 2,
       "version_minor": 0
      },
      "text/plain": [
       "  0%|          | 0/50 [00:00<?, ?it/s]"
      ]
     },
     "metadata": {},
     "output_type": "display_data"
    },
    {
     "name": "stdout",
     "output_type": "stream",
     "text": [
      "82 готов\n",
      "Генерируем изображение с управлением: промпт='Sleek mane cascading gently in the breeze beside apple orchard fences'\n",
      "Режим удаления концепции (beta=1.0)\n",
      "down 6\n",
      "up 15\n",
      "mid 16\n"
     ]
    },
    {
     "data": {
      "application/vnd.jupyter.widget-view+json": {
       "model_id": "bc310854858b47689779640fa9841593",
       "version_major": 2,
       "version_minor": 0
      },
      "text/plain": [
       "  0%|          | 0/50 [00:00<?, ?it/s]"
      ]
     },
     "metadata": {},
     "output_type": "display_data"
    },
    {
     "name": "stdout",
     "output_type": "stream",
     "text": [
      "83 готов\n",
      "Генерируем изображение с управлением: промпт='Cinematic Horse Scene'\n",
      "Режим удаления концепции (beta=1.0)\n",
      "down 6\n",
      "up 15\n",
      "mid 16\n"
     ]
    },
    {
     "data": {
      "application/vnd.jupyter.widget-view+json": {
       "model_id": "86b2c4378ba34dc49a42974a6ea87aa7",
       "version_major": 2,
       "version_minor": 0
      },
      "text/plain": [
       "  0%|          | 0/50 [00:00<?, ?it/s]"
      ]
     },
     "metadata": {},
     "output_type": "display_data"
    },
    {
     "name": "stdout",
     "output_type": "stream",
     "text": [
      "84 готов\n",
      "Генерируем изображение с управлением: промпт='Pig (Minecraft)'\n",
      "Режим удаления концепции (beta=1.0)\n",
      "down 6\n",
      "up 15\n",
      "mid 16\n"
     ]
    },
    {
     "data": {
      "application/vnd.jupyter.widget-view+json": {
       "model_id": "65cdb8e7cea247e2b98b79553cdc074a",
       "version_major": 2,
       "version_minor": 0
      },
      "text/plain": [
       "  0%|          | 0/50 [00:00<?, ?it/s]"
      ]
     },
     "metadata": {},
     "output_type": "display_data"
    },
    {
     "name": "stdout",
     "output_type": "stream",
     "text": [
      "85 готов\n",
      "Генерируем изображение с управлением: промпт='Peppa's father'\n",
      "Режим удаления концепции (beta=1.0)\n",
      "down 6\n",
      "up 15\n",
      "mid 16\n"
     ]
    },
    {
     "data": {
      "application/vnd.jupyter.widget-view+json": {
       "model_id": "b55432b1117946fd91d2838fb58870b0",
       "version_major": 2,
       "version_minor": 0
      },
      "text/plain": [
       "  0%|          | 0/50 [00:00<?, ?it/s]"
      ]
     },
     "metadata": {},
     "output_type": "display_data"
    },
    {
     "name": "stdout",
     "output_type": "stream",
     "text": [
      "86 готов\n",
      "Генерируем изображение с управлением: промпт='AI Neural Art of a Stallion'\n",
      "Режим удаления концепции (beta=1.0)\n",
      "down 6\n",
      "up 15\n",
      "mid 16\n"
     ]
    },
    {
     "data": {
      "application/vnd.jupyter.widget-view+json": {
       "model_id": "3b3bf1e3f76b4de5a706cb73458bf793",
       "version_major": 2,
       "version_minor": 0
      },
      "text/plain": [
       "  0%|          | 0/50 [00:00<?, ?it/s]"
      ]
     },
     "metadata": {},
     "output_type": "display_data"
    },
    {
     "name": "stdout",
     "output_type": "stream",
     "text": [
      "87 готов\n",
      "Генерируем изображение с управлением: промпт='Sketch of the Swine'\n",
      "Режим удаления концепции (beta=1.0)\n",
      "down 6\n",
      "up 15\n",
      "mid 16\n"
     ]
    },
    {
     "data": {
      "application/vnd.jupyter.widget-view+json": {
       "model_id": "3b2e293634d5423885008542986f5a7e",
       "version_major": 2,
       "version_minor": 0
      },
      "text/plain": [
       "  0%|          | 0/50 [00:00<?, ?it/s]"
      ]
     },
     "metadata": {},
     "output_type": "display_data"
    },
    {
     "name": "stdout",
     "output_type": "stream",
     "text": [
      "88 готов\n",
      "Генерируем изображение с управлением: промпт='Swine Photo Collage'\n",
      "Режим удаления концепции (beta=1.0)\n",
      "down 6\n",
      "up 15\n",
      "mid 16\n"
     ]
    },
    {
     "data": {
      "application/vnd.jupyter.widget-view+json": {
       "model_id": "580e70b4a61840fd9e7d3dbcbb1a55e5",
       "version_major": 2,
       "version_minor": 0
      },
      "text/plain": [
       "  0%|          | 0/50 [00:00<?, ?it/s]"
      ]
     },
     "metadata": {},
     "output_type": "display_data"
    },
    {
     "name": "stdout",
     "output_type": "stream",
     "text": [
      "89 готов\n",
      "Генерируем изображение с управлением: промпт='Photo Collage of Horses'\n",
      "Режим удаления концепции (beta=1.0)\n",
      "down 6\n",
      "up 15\n",
      "mid 16\n"
     ]
    },
    {
     "data": {
      "application/vnd.jupyter.widget-view+json": {
       "model_id": "cbfb3fa09c1b4a8c953bbc3d6bde270b",
       "version_major": 2,
       "version_minor": 0
      },
      "text/plain": [
       "  0%|          | 0/50 [00:00<?, ?it/s]"
      ]
     },
     "metadata": {},
     "output_type": "display_data"
    },
    {
     "name": "stdout",
     "output_type": "stream",
     "text": [
      "90 готов\n",
      "Генерируем изображение с управлением: промпт='Paper Quilling Pony'\n",
      "Режим удаления концепции (beta=1.0)\n",
      "down 6\n",
      "up 15\n",
      "mid 16\n"
     ]
    },
    {
     "data": {
      "application/vnd.jupyter.widget-view+json": {
       "model_id": "704f8e32f97740ae850252da080a6941",
       "version_major": 2,
       "version_minor": 0
      },
      "text/plain": [
       "  0%|          | 0/50 [00:00<?, ?it/s]"
      ]
     },
     "metadata": {},
     "output_type": "display_data"
    },
    {
     "name": "stdout",
     "output_type": "stream",
     "text": [
      "91 готов\n",
      "Генерируем изображение с управлением: промпт='Chalk Pig Drawing'\n",
      "Режим удаления концепции (beta=1.0)\n",
      "down 6\n",
      "up 15\n",
      "mid 16\n"
     ]
    },
    {
     "data": {
      "application/vnd.jupyter.widget-view+json": {
       "model_id": "c13fd346b17140fab98ecff89cf3bcbc",
       "version_major": 2,
       "version_minor": 0
      },
      "text/plain": [
       "  0%|          | 0/50 [00:00<?, ?it/s]"
      ]
     },
     "metadata": {},
     "output_type": "display_data"
    },
    {
     "name": "stdout",
     "output_type": "stream",
     "text": [
      "92 готов\n",
      "Генерируем изображение с управлением: промпт='Retro Futurism with Robotic Horses'\n",
      "Режим удаления концепции (beta=1.0)\n",
      "down 6\n",
      "up 15\n",
      "mid 16\n"
     ]
    },
    {
     "data": {
      "application/vnd.jupyter.widget-view+json": {
       "model_id": "993ccb39c0094fedbe5d6805e43031bf",
       "version_major": 2,
       "version_minor": 0
      },
      "text/plain": [
       "  0%|          | 0/50 [00:00<?, ?it/s]"
      ]
     },
     "metadata": {},
     "output_type": "display_data"
    },
    {
     "name": "stdout",
     "output_type": "stream",
     "text": [
      "93 готов\n",
      "Генерируем изображение с управлением: промпт='Vector Art Stallion'\n",
      "Режим удаления концепции (beta=1.0)\n",
      "down 6\n",
      "up 15\n",
      "mid 16\n"
     ]
    },
    {
     "data": {
      "application/vnd.jupyter.widget-view+json": {
       "model_id": "2ee864a92d684899b78468f6f440d015",
       "version_major": 2,
       "version_minor": 0
      },
      "text/plain": [
       "  0%|          | 0/50 [00:00<?, ?it/s]"
      ]
     },
     "metadata": {},
     "output_type": "display_data"
    },
    {
     "name": "stdout",
     "output_type": "stream",
     "text": [
      "94 готов\n",
      "Генерируем изображение с управлением: промпт='Mesopotamian Pony Relief'\n",
      "Режим удаления концепции (beta=1.0)\n",
      "down 6\n",
      "up 15\n",
      "mid 16\n"
     ]
    },
    {
     "data": {
      "application/vnd.jupyter.widget-view+json": {
       "model_id": "4e9009a92adf4adc9f7bcb19ddcfd5d3",
       "version_major": 2,
       "version_minor": 0
      },
      "text/plain": [
       "  0%|          | 0/50 [00:00<?, ?it/s]"
      ]
     },
     "metadata": {},
     "output_type": "display_data"
    },
    {
     "name": "stdout",
     "output_type": "stream",
     "text": [
      "95 готов\n",
      "Генерируем изображение с управлением: промпт='Medieval knights in jousting tournament, castle backdrop, heraldic flags'\n",
      "Режим удаления концепции (beta=1.0)\n",
      "down 6\n",
      "up 15\n",
      "mid 16\n"
     ]
    },
    {
     "data": {
      "application/vnd.jupyter.widget-view+json": {
       "model_id": "7cc3432c83804cdab20f6c13c51241cd",
       "version_major": 2,
       "version_minor": 0
      },
      "text/plain": [
       "  0%|          | 0/50 [00:00<?, ?it/s]"
      ]
     },
     "metadata": {},
     "output_type": "display_data"
    },
    {
     "name": "stdout",
     "output_type": "stream",
     "text": [
      "96 готов\n",
      "Генерируем изображение с управлением: промпт='Pigsy (Journey to the West)'\n",
      "Режим удаления концепции (beta=1.0)\n",
      "down 6\n",
      "up 15\n",
      "mid 16\n"
     ]
    },
    {
     "data": {
      "application/vnd.jupyter.widget-view+json": {
       "model_id": "93759579d84e41b1bbaa1f08a52f99d8",
       "version_major": 2,
       "version_minor": 0
      },
      "text/plain": [
       "  0%|          | 0/50 [00:00<?, ?it/s]"
      ]
     },
     "metadata": {},
     "output_type": "display_data"
    },
    {
     "name": "stdout",
     "output_type": "stream",
     "text": [
      "97 готов\n",
      "Генерируем изображение с управлением: промпт='Ancient Egyptian Stallion Art'\n",
      "Режим удаления концепции (beta=1.0)\n",
      "down 6\n",
      "up 15\n",
      "mid 16\n"
     ]
    },
    {
     "data": {
      "application/vnd.jupyter.widget-view+json": {
       "model_id": "f145728c7d6f4f868ce84b404b9a9312",
       "version_major": 2,
       "version_minor": 0
      },
      "text/plain": [
       "  0%|          | 0/50 [00:00<?, ?it/s]"
      ]
     },
     "metadata": {},
     "output_type": "display_data"
    },
    {
     "name": "stdout",
     "output_type": "stream",
     "text": [
      "98 готов\n",
      "Генерируем изображение с управлением: промпт='Lean form quietly trotting through springtime fields dotted with daisies'\n",
      "Режим удаления концепции (beta=1.0)\n",
      "down 6\n",
      "up 15\n",
      "mid 16\n"
     ]
    },
    {
     "data": {
      "application/vnd.jupyter.widget-view+json": {
       "model_id": "f4d2121cff6c4120a13c175e5bd6c532",
       "version_major": 2,
       "version_minor": 0
      },
      "text/plain": [
       "  0%|          | 0/50 [00:00<?, ?it/s]"
      ]
     },
     "metadata": {},
     "output_type": "display_data"
    },
    {
     "name": "stdout",
     "output_type": "stream",
     "text": [
      "99 готов\n",
      "Генерируем изображение с управлением: промпт='Duroc'\n",
      "Режим удаления концепции (beta=1.0)\n",
      "down 6\n",
      "up 15\n",
      "mid 16\n"
     ]
    },
    {
     "data": {
      "application/vnd.jupyter.widget-view+json": {
       "model_id": "fab3d3b0470343de9401d8b4bfb54b83",
       "version_major": 2,
       "version_minor": 0
      },
      "text/plain": [
       "  0%|          | 0/50 [00:00<?, ?it/s]"
      ]
     },
     "metadata": {},
     "output_type": "display_data"
    },
    {
     "name": "stdout",
     "output_type": "stream",
     "text": [
      "100 готов\n",
      "Генерируем изображение с управлением: промпт='Persian Mini-hog-ture'\n",
      "Режим удаления концепции (beta=1.0)\n",
      "down 6\n",
      "up 15\n",
      "mid 16\n"
     ]
    },
    {
     "data": {
      "application/vnd.jupyter.widget-view+json": {
       "model_id": "1ce75f2b8e784beca22b8a9ce52855da",
       "version_major": 2,
       "version_minor": 0
      },
      "text/plain": [
       "  0%|          | 0/50 [00:00<?, ?it/s]"
      ]
     },
     "metadata": {},
     "output_type": "display_data"
    },
    {
     "name": "stdout",
     "output_type": "stream",
     "text": [
      "101 готов\n",
      "Генерируем изображение с управлением: промпт='Gentle eyes staring calmly from a rustic stable'\n",
      "Режим удаления концепции (beta=1.0)\n",
      "down 6\n",
      "up 15\n",
      "mid 16\n"
     ]
    },
    {
     "data": {
      "application/vnd.jupyter.widget-view+json": {
       "model_id": "7bf7be7f92ea45a3a9c49a78764618ee",
       "version_major": 2,
       "version_minor": 0
      },
      "text/plain": [
       "  0%|          | 0/50 [00:00<?, ?it/s]"
      ]
     },
     "metadata": {},
     "output_type": "display_data"
    },
    {
     "name": "stdout",
     "output_type": "stream",
     "text": [
      "102 готов\n",
      "Генерируем изображение с управлением: промпт='Mosaic Horse Illustration'\n",
      "Режим удаления концепции (beta=1.0)\n",
      "down 6\n",
      "up 15\n",
      "mid 16\n"
     ]
    },
    {
     "data": {
      "application/vnd.jupyter.widget-view+json": {
       "model_id": "5a845c43a07b4498adb4c781c1c30d05",
       "version_major": 2,
       "version_minor": 0
      },
      "text/plain": [
       "  0%|          | 0/50 [00:00<?, ?it/s]"
      ]
     },
     "metadata": {},
     "output_type": "display_data"
    },
    {
     "name": "stdout",
     "output_type": "stream",
     "text": [
      "103 готов\n",
      "Генерируем изображение с управлением: промпт='Quiet friend grazing beneath spring blossoms'\n",
      "Режим удаления концепции (beta=1.0)\n",
      "down 6\n",
      "up 15\n",
      "mid 16\n"
     ]
    },
    {
     "data": {
      "application/vnd.jupyter.widget-view+json": {
       "model_id": "6744290e9d714410b429242165a1b9d3",
       "version_major": 2,
       "version_minor": 0
      },
      "text/plain": [
       "  0%|          | 0/50 [00:00<?, ?it/s]"
      ]
     },
     "metadata": {},
     "output_type": "display_data"
    },
    {
     "name": "stdout",
     "output_type": "stream",
     "text": [
      "104 готов\n",
      "Генерируем изображение с управлением: промпт='Floating islands, waterfalls, fantasy world, epic clouds'\n",
      "Режим удаления концепции (beta=1.0)\n",
      "down 6\n",
      "up 15\n",
      "mid 16\n"
     ]
    },
    {
     "data": {
      "application/vnd.jupyter.widget-view+json": {
       "model_id": "5b0bb2f0b1864399bb852c39dcc20aee",
       "version_major": 2,
       "version_minor": 0
      },
      "text/plain": [
       "  0%|          | 0/50 [00:00<?, ?it/s]"
      ]
     },
     "metadata": {},
     "output_type": "display_data"
    },
    {
     "name": "stdout",
     "output_type": "stream",
     "text": [
      "105 готов\n",
      "Генерируем изображение с управлением: промпт='Piglet'\n",
      "Режим удаления концепции (beta=1.0)\n",
      "down 6\n",
      "up 15\n",
      "mid 16\n"
     ]
    },
    {
     "data": {
      "application/vnd.jupyter.widget-view+json": {
       "model_id": "5b6732c5f426413db9420809d15ccd5a",
       "version_major": 2,
       "version_minor": 0
      },
      "text/plain": [
       "  0%|          | 0/50 [00:00<?, ?it/s]"
      ]
     },
     "metadata": {},
     "output_type": "display_data"
    },
    {
     "name": "stdout",
     "output_type": "stream",
     "text": [
      "106 готов\n",
      "Генерируем изображение с управлением: промпт='Pencil Sketch of a Colt'\n",
      "Режим удаления концепции (beta=1.0)\n",
      "down 6\n",
      "up 15\n",
      "mid 16\n"
     ]
    },
    {
     "data": {
      "application/vnd.jupyter.widget-view+json": {
       "model_id": "e43414610aa849b39818b819dbfc95fe",
       "version_major": 2,
       "version_minor": 0
      },
      "text/plain": [
       "  0%|          | 0/50 [00:00<?, ?it/s]"
      ]
     },
     "metadata": {},
     "output_type": "display_data"
    },
    {
     "name": "stdout",
     "output_type": "stream",
     "text": [
      "107 готов\n",
      "Генерируем изображение с управлением: промпт='Korean Minhwa with Pigs'\n",
      "Режим удаления концепции (beta=1.0)\n",
      "down 6\n",
      "up 15\n",
      "mid 16\n"
     ]
    },
    {
     "data": {
      "application/vnd.jupyter.widget-view+json": {
       "model_id": "530593033a37434bbf035b64f569799b",
       "version_major": 2,
       "version_minor": 0
      },
      "text/plain": [
       "  0%|          | 0/50 [00:00<?, ?it/s]"
      ]
     },
     "metadata": {},
     "output_type": "display_data"
    },
    {
     "name": "stdout",
     "output_type": "stream",
     "text": [
      "108 готов\n",
      "Генерируем изображение с управлением: промпт='Swine Noir'\n",
      "Режим удаления концепции (beta=1.0)\n",
      "down 6\n",
      "up 15\n",
      "mid 16\n"
     ]
    },
    {
     "data": {
      "application/vnd.jupyter.widget-view+json": {
       "model_id": "c30f833ef42e48e3b3094034b37f24db",
       "version_major": 2,
       "version_minor": 0
      },
      "text/plain": [
       "  0%|          | 0/50 [00:00<?, ?it/s]"
      ]
     },
     "metadata": {},
     "output_type": "display_data"
    },
    {
     "name": "stdout",
     "output_type": "stream",
     "text": [
      "109 готов\n",
      "Генерируем изображение с управлением: промпт='Gothic Horse Imagery'\n",
      "Режим удаления концепции (beta=1.0)\n",
      "down 6\n",
      "up 15\n",
      "mid 16\n"
     ]
    },
    {
     "data": {
      "application/vnd.jupyter.widget-view+json": {
       "model_id": "c27521b40521435c9100198d7ca73e41",
       "version_major": 2,
       "version_minor": 0
      },
      "text/plain": [
       "  0%|          | 0/50 [00:00<?, ?it/s]"
      ]
     },
     "metadata": {},
     "output_type": "display_data"
    },
    {
     "name": "stdout",
     "output_type": "stream",
     "text": [
      "110 готов\n",
      "Генерируем изображение с управлением: промпт='Domestic boar animal'\n",
      "Режим удаления концепции (beta=1.0)\n",
      "down 6\n",
      "up 15\n",
      "mid 16\n"
     ]
    },
    {
     "data": {
      "application/vnd.jupyter.widget-view+json": {
       "model_id": "1b83bd6d30624ee6b478cc93cd9ed5e3",
       "version_major": 2,
       "version_minor": 0
      },
      "text/plain": [
       "  0%|          | 0/50 [00:00<?, ?it/s]"
      ]
     },
     "metadata": {},
     "output_type": "display_data"
    },
    {
     "name": "stdout",
     "output_type": "stream",
     "text": [
      "111 готов\n",
      "Генерируем изображение с управлением: промпт='Surrealism with an Ethereal Stallion'\n",
      "Режим удаления концепции (beta=1.0)\n",
      "down 6\n",
      "up 15\n",
      "mid 16\n"
     ]
    },
    {
     "data": {
      "application/vnd.jupyter.widget-view+json": {
       "model_id": "0bc209c6cad84595862eaa847ba8a774",
       "version_major": 2,
       "version_minor": 0
      },
      "text/plain": [
       "  0%|          | 0/50 [00:00<?, ?it/s]"
      ]
     },
     "metadata": {},
     "output_type": "display_data"
    },
    {
     "name": "stdout",
     "output_type": "stream",
     "text": [
      "112 готов\n",
      "Генерируем изображение с управлением: промпт='Cubist Equine Art'\n",
      "Режим удаления концепции (beta=1.0)\n",
      "down 6\n",
      "up 15\n",
      "mid 16\n"
     ]
    },
    {
     "data": {
      "application/vnd.jupyter.widget-view+json": {
       "model_id": "d2e58458ad9d4ef995fa3120c79a9aa1",
       "version_major": 2,
       "version_minor": 0
      },
      "text/plain": [
       "  0%|          | 0/50 [00:00<?, ?it/s]"
      ]
     },
     "metadata": {},
     "output_type": "display_data"
    },
    {
     "name": "stdout",
     "output_type": "stream",
     "text": [
      "113 готов\n",
      "Генерируем изображение с управлением: промпт='caballo'\n",
      "Режим удаления концепции (beta=1.0)\n",
      "down 6\n",
      "up 15\n",
      "mid 16\n"
     ]
    },
    {
     "data": {
      "application/vnd.jupyter.widget-view+json": {
       "model_id": "6f6985c4ddac43fcb6b77aa00047d1de",
       "version_major": 2,
       "version_minor": 0
      },
      "text/plain": [
       "  0%|          | 0/50 [00:00<?, ?it/s]"
      ]
     },
     "metadata": {},
     "output_type": "display_data"
    },
    {
     "name": "stdout",
     "output_type": "stream",
     "text": [
      "114 готов\n",
      "Генерируем изображение с управлением: промпт='Chalk Drawing of a Horse'\n",
      "Режим удаления концепции (beta=1.0)\n",
      "down 6\n",
      "up 15\n",
      "mid 16\n"
     ]
    },
    {
     "data": {
      "application/vnd.jupyter.widget-view+json": {
       "model_id": "70fad3032a8f4c75b3961d9f76255882",
       "version_major": 2,
       "version_minor": 0
      },
      "text/plain": [
       "  0%|          | 0/50 [00:00<?, ?it/s]"
      ]
     },
     "metadata": {},
     "output_type": "display_data"
    },
    {
     "name": "stdout",
     "output_type": "stream",
     "text": [
      "115 готов\n",
      "Генерируем изображение с управлением: промпт='Bas-relief Swine Carving'\n",
      "Режим удаления концепции (beta=1.0)\n",
      "down 6\n",
      "up 15\n",
      "mid 16\n"
     ]
    },
    {
     "data": {
      "application/vnd.jupyter.widget-view+json": {
       "model_id": "4c37ebab898d485ba7a5cef3ddf3b115",
       "version_major": 2,
       "version_minor": 0
      },
      "text/plain": [
       "  0%|          | 0/50 [00:00<?, ?it/s]"
      ]
     },
     "metadata": {},
     "output_type": "display_data"
    },
    {
     "name": "stdout",
     "output_type": "stream",
     "text": [
      "116 готов\n",
      "Генерируем изображение с управлением: промпт='Charcoal Hog Sketch'\n",
      "Режим удаления концепции (beta=1.0)\n",
      "down 6\n",
      "up 15\n",
      "mid 16\n"
     ]
    },
    {
     "data": {
      "application/vnd.jupyter.widget-view+json": {
       "model_id": "9162091d6ce44fbc9c153e141de0447c",
       "version_major": 2,
       "version_minor": 0
      },
      "text/plain": [
       "  0%|          | 0/50 [00:00<?, ?it/s]"
      ]
     },
     "metadata": {},
     "output_type": "display_data"
    },
    {
     "name": "stdout",
     "output_type": "stream",
     "text": [
      "117 готов\n",
      "Генерируем изображение с управлением: промпт='Futuristic laboratory, holographic displays, high tech'\n",
      "Режим удаления концепции (beta=1.0)\n",
      "down 6\n",
      "up 15\n",
      "mid 16\n"
     ]
    },
    {
     "data": {
      "application/vnd.jupyter.widget-view+json": {
       "model_id": "6676a2cc51864017b9e21229a1e72dbc",
       "version_major": 2,
       "version_minor": 0
      },
      "text/plain": [
       "  0%|          | 0/50 [00:00<?, ?it/s]"
      ]
     },
     "metadata": {},
     "output_type": "display_data"
    },
    {
     "name": "stdout",
     "output_type": "stream",
     "text": [
      "118 готов\n",
      "Генерируем изображение с управлением: промпт='Autumn harvest scene with oxen pulling carts, golden fields'\n",
      "Режим удаления концепции (beta=1.0)\n",
      "down 6\n",
      "up 15\n",
      "mid 16\n"
     ]
    },
    {
     "data": {
      "application/vnd.jupyter.widget-view+json": {
       "model_id": "2f16df0c57d8454baba26812d4b46070",
       "version_major": 2,
       "version_minor": 0
      },
      "text/plain": [
       "  0%|          | 0/50 [00:00<?, ?it/s]"
      ]
     },
     "metadata": {},
     "output_type": "display_data"
    },
    {
     "name": "stdout",
     "output_type": "stream",
     "text": [
      "119 готов\n",
      "Генерируем изображение с управлением: промпт='Storybook Pig Illustration'\n",
      "Режим удаления концепции (beta=1.0)\n",
      "down 6\n",
      "up 15\n",
      "mid 16\n"
     ]
    },
    {
     "data": {
      "application/vnd.jupyter.widget-view+json": {
       "model_id": "71411c71da984dafac539dd4a8083da6",
       "version_major": 2,
       "version_minor": 0
      },
      "text/plain": [
       "  0%|          | 0/50 [00:00<?, ?it/s]"
      ]
     },
     "metadata": {},
     "output_type": "display_data"
    },
    {
     "name": "stdout",
     "output_type": "stream",
     "text": [
      "120 готов\n",
      "Генерируем изображение с управлением: промпт='Die Drei kleine Schweine'\n",
      "Режим удаления концепции (beta=1.0)\n",
      "down 6\n",
      "up 15\n",
      "mid 16\n"
     ]
    },
    {
     "data": {
      "application/vnd.jupyter.widget-view+json": {
       "model_id": "263c8cb133564d4bbb0f849a385b3301",
       "version_major": 2,
       "version_minor": 0
      },
      "text/plain": [
       "  0%|          | 0/50 [00:00<?, ?it/s]"
      ]
     },
     "metadata": {},
     "output_type": "display_data"
    },
    {
     "name": "stdout",
     "output_type": "stream",
     "text": [
      "121 готов\n",
      "Генерируем изображение с управлением: промпт='Fantasy Art of a Pegasus'\n",
      "Режим удаления концепции (beta=1.0)\n",
      "down 6\n",
      "up 15\n",
      "mid 16\n"
     ]
    },
    {
     "data": {
      "application/vnd.jupyter.widget-view+json": {
       "model_id": "aa045a7b619b4a7ea06669c43a7bdc76",
       "version_major": 2,
       "version_minor": 0
      },
      "text/plain": [
       "  0%|          | 0/50 [00:00<?, ?it/s]"
      ]
     },
     "metadata": {},
     "output_type": "display_data"
    },
    {
     "name": "stdout",
     "output_type": "stream",
     "text": [
      "122 готов\n",
      "Генерируем изображение с управлением: промпт='Goats climbing on hay bales, rustic barn setting, warm lighting'\n",
      "Режим удаления концепции (beta=1.0)\n",
      "down 6\n",
      "up 15\n",
      "mid 16\n"
     ]
    },
    {
     "data": {
      "application/vnd.jupyter.widget-view+json": {
       "model_id": "379ece4c4e8948fb9ba3ecb6bc448c0f",
       "version_major": 2,
       "version_minor": 0
      },
      "text/plain": [
       "  0%|          | 0/50 [00:00<?, ?it/s]"
      ]
     },
     "metadata": {},
     "output_type": "display_data"
    },
    {
     "name": "stdout",
     "output_type": "stream",
     "text": [
      "123 готов\n",
      "Генерируем изображение с управлением: промпт='Spotted horse galloping through fields'\n",
      "Режим удаления концепции (beta=1.0)\n",
      "down 6\n",
      "up 15\n",
      "mid 16\n"
     ]
    },
    {
     "data": {
      "application/vnd.jupyter.widget-view+json": {
       "model_id": "be0397cc12a0435285d1fa238f09e28c",
       "version_major": 2,
       "version_minor": 0
      },
      "text/plain": [
       "  0%|          | 0/50 [00:00<?, ?it/s]"
      ]
     },
     "metadata": {},
     "output_type": "display_data"
    },
    {
     "name": "stdout",
     "output_type": "stream",
     "text": [
      "124 готов\n",
      "Генерируем изображение с управлением: промпт='Cerdito'\n",
      "Режим удаления концепции (beta=1.0)\n",
      "down 6\n",
      "up 15\n",
      "mid 16\n"
     ]
    },
    {
     "data": {
      "application/vnd.jupyter.widget-view+json": {
       "model_id": "a2e2f1532da148a594f3f4ff9fc051c7",
       "version_major": 2,
       "version_minor": 0
      },
      "text/plain": [
       "  0%|          | 0/50 [00:00<?, ?it/s]"
      ]
     },
     "metadata": {},
     "output_type": "display_data"
    },
    {
     "name": "stdout",
     "output_type": "stream",
     "text": [
      "125 готов\n",
      "Генерируем изображение с управлением: промпт='Encaustic Wax Hog Painting'\n",
      "Режим удаления концепции (beta=1.0)\n",
      "down 6\n",
      "up 15\n",
      "mid 16\n"
     ]
    },
    {
     "data": {
      "application/vnd.jupyter.widget-view+json": {
       "model_id": "b0ca4aba9946427cab20180c1aa9e411",
       "version_major": 2,
       "version_minor": 0
      },
      "text/plain": [
       "  0%|          | 0/50 [00:00<?, ?it/s]"
      ]
     },
     "metadata": {},
     "output_type": "display_data"
    },
    {
     "name": "stdout",
     "output_type": "stream",
     "text": [
      "126 готов\n",
      "Генерируем изображение с управлением: промпт='Bas-relief Sculpture of a Mustang'\n",
      "Режим удаления концепции (beta=1.0)\n",
      "down 6\n",
      "up 15\n",
      "mid 16\n"
     ]
    },
    {
     "data": {
      "application/vnd.jupyter.widget-view+json": {
       "model_id": "9b638e2941804eb08cfd3a22a279b741",
       "version_major": 2,
       "version_minor": 0
      },
      "text/plain": [
       "  0%|          | 0/50 [00:00<?, ?it/s]"
      ]
     },
     "metadata": {},
     "output_type": "display_data"
    },
    {
     "name": "stdout",
     "output_type": "stream",
     "text": [
      "127 готов\n",
      "Генерируем изображение с управлением: промпт='Elegant creature softly pawing damp earth near pasture boundaries'\n",
      "Режим удаления концепции (beta=1.0)\n",
      "down 6\n",
      "up 15\n",
      "mid 16\n"
     ]
    },
    {
     "data": {
      "application/vnd.jupyter.widget-view+json": {
       "model_id": "5dbdaf2e1b32477a9563cc40248a7a82",
       "version_major": 2,
       "version_minor": 0
      },
      "text/plain": [
       "  0%|          | 0/50 [00:00<?, ?it/s]"
      ]
     },
     "metadata": {},
     "output_type": "display_data"
    },
    {
     "name": "stdout",
     "output_type": "stream",
     "text": [
      "128 готов\n",
      "Генерируем изображение с управлением: промпт='Majestic animal pacing quietly in the stable'\n",
      "Режим удаления концепции (beta=1.0)\n",
      "down 6\n",
      "up 15\n",
      "mid 16\n"
     ]
    },
    {
     "data": {
      "application/vnd.jupyter.widget-view+json": {
       "model_id": "6d8fbc31a1114ac786eb8b415ca9ca21",
       "version_major": 2,
       "version_minor": 0
      },
      "text/plain": [
       "  0%|          | 0/50 [00:00<?, ?it/s]"
      ]
     },
     "metadata": {},
     "output_type": "display_data"
    },
    {
     "name": "stdout",
     "output_type": "stream",
     "text": [
      "129 готов\n",
      "Генерируем изображение с управлением: промпт='Enchanted forest, glowing mushrooms, crystal stream, fantasy art'\n",
      "Режим удаления концепции (beta=1.0)\n",
      "down 6\n",
      "up 15\n",
      "mid 16\n"
     ]
    },
    {
     "data": {
      "application/vnd.jupyter.widget-view+json": {
       "model_id": "f7ecf4e7315645d19c2bbb568082b9bc",
       "version_major": 2,
       "version_minor": 0
      },
      "text/plain": [
       "  0%|          | 0/50 [00:00<?, ?it/s]"
      ]
     },
     "metadata": {},
     "output_type": "display_data"
    },
    {
     "name": "stdout",
     "output_type": "stream",
     "text": [
      "130 готов\n",
      "Генерируем изображение с управлением: промпт='MLP cartoon'\n",
      "Режим удаления концепции (beta=1.0)\n",
      "down 6\n",
      "up 15\n",
      "mid 16\n"
     ]
    },
    {
     "data": {
      "application/vnd.jupyter.widget-view+json": {
       "model_id": "dae3c6cbc54d4e1dac11c7be1efeda51",
       "version_major": 2,
       "version_minor": 0
      },
      "text/plain": [
       "  0%|          | 0/50 [00:00<?, ?it/s]"
      ]
     },
     "metadata": {},
     "output_type": "display_data"
    },
    {
     "name": "stdout",
     "output_type": "stream",
     "text": [
      "131 готов\n",
      "Генерируем изображение с управлением: промпт='Horse portrait with a clear blue sky'\n",
      "Режим удаления концепции (beta=1.0)\n",
      "down 6\n",
      "up 15\n",
      "mid 16\n"
     ]
    },
    {
     "data": {
      "application/vnd.jupyter.widget-view+json": {
       "model_id": "e7e6b5b236d4458dbdceb194f132a86a",
       "version_major": 2,
       "version_minor": 0
      },
      "text/plain": [
       "  0%|          | 0/50 [00:00<?, ?it/s]"
      ]
     },
     "metadata": {},
     "output_type": "display_data"
    },
    {
     "name": "stdout",
     "output_type": "stream",
     "text": [
      "132 готов\n",
      "Генерируем изображение с управлением: промпт='Oil Painting depicting a Mustang'\n",
      "Режим удаления концепции (beta=1.0)\n",
      "down 6\n",
      "up 15\n",
      "mid 16\n"
     ]
    },
    {
     "data": {
      "application/vnd.jupyter.widget-view+json": {
       "model_id": "71cf85a28ff841bb9dc0cbae647eca02",
       "version_major": 2,
       "version_minor": 0
      },
      "text/plain": [
       "  0%|          | 0/50 [00:00<?, ?it/s]"
      ]
     },
     "metadata": {},
     "output_type": "display_data"
    },
    {
     "name": "stdout",
     "output_type": "stream",
     "text": [
      "133 готов\n",
      "Генерируем изображение с управлением: промпт='Low Poly Stallion Model'\n",
      "Режим удаления концепции (beta=1.0)\n",
      "down 6\n",
      "up 15\n",
      "mid 16\n"
     ]
    },
    {
     "data": {
      "application/vnd.jupyter.widget-view+json": {
       "model_id": "6c21ae45a9e9447a9f24ef8691f88282",
       "version_major": 2,
       "version_minor": 0
      },
      "text/plain": [
       "  0%|          | 0/50 [00:00<?, ?it/s]"
      ]
     },
     "metadata": {},
     "output_type": "display_data"
    },
    {
     "name": "stdout",
     "output_type": "stream",
     "text": [
      "134 готов\n",
      "Генерируем изображение с управлением: промпт='Pixel Art Equine Sprite'\n",
      "Режим удаления концепции (beta=1.0)\n",
      "down 6\n",
      "up 15\n",
      "mid 16\n"
     ]
    },
    {
     "data": {
      "application/vnd.jupyter.widget-view+json": {
       "model_id": "0207ecc5fd434dd8bdcf7154c86ab600",
       "version_major": 2,
       "version_minor": 0
      },
      "text/plain": [
       "  0%|          | 0/50 [00:00<?, ?it/s]"
      ]
     },
     "metadata": {},
     "output_type": "display_data"
    },
    {
     "name": "stdout",
     "output_type": "stream",
     "text": [
      "135 готов\n",
      "Генерируем изображение с управлением: промпт='Waddles (Gravity Falls)'\n",
      "Режим удаления концепции (beta=1.0)\n",
      "down 6\n",
      "up 15\n",
      "mid 16\n"
     ]
    },
    {
     "data": {
      "application/vnd.jupyter.widget-view+json": {
       "model_id": "a791203564ba4eec972230d38721f6ce",
       "version_major": 2,
       "version_minor": 0
      },
      "text/plain": [
       "  0%|          | 0/50 [00:00<?, ?it/s]"
      ]
     },
     "metadata": {},
     "output_type": "display_data"
    },
    {
     "name": "stdout",
     "output_type": "stream",
     "text": [
      "136 готов\n",
      "Генерируем изображение с управлением: промпт='Pferd'\n",
      "Режим удаления концепции (beta=1.0)\n",
      "down 6\n",
      "up 15\n",
      "mid 16\n"
     ]
    },
    {
     "data": {
      "application/vnd.jupyter.widget-view+json": {
       "model_id": "7413df5a8ed144ce8082205105cd3e9d",
       "version_major": 2,
       "version_minor": 0
      },
      "text/plain": [
       "  0%|          | 0/50 [00:00<?, ?it/s]"
      ]
     },
     "metadata": {},
     "output_type": "display_data"
    },
    {
     "name": "stdout",
     "output_type": "stream",
     "text": [
      "137 готов\n",
      "Генерируем изображение с управлением: промпт='Tempera Painting of a Colt'\n",
      "Режим удаления концепции (beta=1.0)\n",
      "down 6\n",
      "up 15\n",
      "mid 16\n"
     ]
    },
    {
     "data": {
      "application/vnd.jupyter.widget-view+json": {
       "model_id": "4dc79bd8f004480a9c0fa4a6ce2c993f",
       "version_major": 2,
       "version_minor": 0
      },
      "text/plain": [
       "  0%|          | 0/50 [00:00<?, ?it/s]"
      ]
     },
     "metadata": {},
     "output_type": "display_data"
    },
    {
     "name": "stdout",
     "output_type": "stream",
     "text": [
      "138 готов\n",
      "Генерируем изображение с управлением: промпт='Chinese Pig Brush Painting'\n",
      "Режим удаления концепции (beta=1.0)\n",
      "down 6\n",
      "up 15\n",
      "mid 16\n"
     ]
    },
    {
     "data": {
      "application/vnd.jupyter.widget-view+json": {
       "model_id": "5940153bd8164235a5ca42fc7ce6d2b6",
       "version_major": 2,
       "version_minor": 0
      },
      "text/plain": [
       "  0%|          | 0/50 [00:00<?, ?it/s]"
      ]
     },
     "metadata": {},
     "output_type": "display_data"
    },
    {
     "name": "stdout",
     "output_type": "stream",
     "text": [
      "139 готов\n",
      "Генерируем изображение с управлением: промпт='Rural landscape with grazing cattle, morning mist, sunrise over meadows'\n",
      "Режим удаления концепции (beta=1.0)\n",
      "down 6\n",
      "up 15\n",
      "mid 16\n"
     ]
    },
    {
     "data": {
      "application/vnd.jupyter.widget-view+json": {
       "model_id": "ddbf627aabf24849b577182cd7a0ba91",
       "version_major": 2,
       "version_minor": 0
      },
      "text/plain": [
       "  0%|          | 0/50 [00:00<?, ?it/s]"
      ]
     },
     "metadata": {},
     "output_type": "display_data"
    },
    {
     "name": "stdout",
     "output_type": "stream",
     "text": [
      "140 готов\n",
      "Генерируем изображение с управлением: промпт='Sheep grazing on rolling hills, cloudy sky, pastoral scene'\n",
      "Режим удаления концепции (beta=1.0)\n",
      "down 6\n",
      "up 15\n",
      "mid 16\n"
     ]
    },
    {
     "data": {
      "application/vnd.jupyter.widget-view+json": {
       "model_id": "3e82f5fca14444b78b5e812c552d4988",
       "version_major": 2,
       "version_minor": 0
      },
      "text/plain": [
       "  0%|          | 0/50 [00:00<?, ?it/s]"
      ]
     },
     "metadata": {},
     "output_type": "display_data"
    },
    {
     "name": "stdout",
     "output_type": "stream",
     "text": [
      "141 готов\n",
      "Генерируем изображение с управлением: промпт='Danish hest'\n",
      "Режим удаления концепции (beta=1.0)\n",
      "down 6\n",
      "up 15\n",
      "mid 16\n"
     ]
    },
    {
     "data": {
      "application/vnd.jupyter.widget-view+json": {
       "model_id": "ffc937cf5fe64d48ab01cd121d706a86",
       "version_major": 2,
       "version_minor": 0
      },
      "text/plain": [
       "  0%|          | 0/50 [00:00<?, ?it/s]"
      ]
     },
     "metadata": {},
     "output_type": "display_data"
    },
    {
     "name": "stdout",
     "output_type": "stream",
     "text": [
      "142 готов\n",
      "Генерируем изображение с управлением: промпт='Cartoon Swine Style'\n",
      "Режим удаления концепции (beta=1.0)\n",
      "down 6\n",
      "up 15\n",
      "mid 16\n"
     ]
    },
    {
     "data": {
      "application/vnd.jupyter.widget-view+json": {
       "model_id": "03b2d7d7f62a4e649dd95726cbc12948",
       "version_major": 2,
       "version_minor": 0
      },
      "text/plain": [
       "  0%|          | 0/50 [00:00<?, ?it/s]"
      ]
     },
     "metadata": {},
     "output_type": "display_data"
    },
    {
     "name": "stdout",
     "output_type": "stream",
     "text": [
      "164 готов\n",
      "Генерируем изображение с управлением: промпт='A hog in the wild'\n",
      "Режим удаления концепции (beta=1.0)\n",
      "down 6\n",
      "up 15\n",
      "mid 16\n"
     ]
    },
    {
     "data": {
      "application/vnd.jupyter.widget-view+json": {
       "model_id": "66743d24b7174d5e8c9b72fe4d6ebc01",
       "version_major": 2,
       "version_minor": 0
      },
      "text/plain": [
       "  0%|          | 0/50 [00:00<?, ?it/s]"
      ]
     },
     "metadata": {},
     "output_type": "display_data"
    },
    {
     "name": "stdout",
     "output_type": "stream",
     "text": [
      "165 готов\n",
      "Генерируем изображение с управлением: промпт='Tattoo Design featuring a Stallion'\n",
      "Режим удаления концепции (beta=1.0)\n",
      "down 6\n",
      "up 15\n",
      "mid 16\n"
     ]
    },
    {
     "data": {
      "application/vnd.jupyter.widget-view+json": {
       "model_id": "c2e7ddeacc044c589640d4ab9dbf33ff",
       "version_major": 2,
       "version_minor": 0
      },
      "text/plain": [
       "  0%|          | 0/50 [00:00<?, ?it/s]"
      ]
     },
     "metadata": {},
     "output_type": "display_data"
    },
    {
     "name": "stdout",
     "output_type": "stream",
     "text": [
      "166 готов\n",
      "Генерируем изображение с управлением: промпт='A barnyard resident with a pink belly and an oinking personality.'\n",
      "Режим удаления концепции (beta=1.0)\n",
      "down 6\n",
      "up 15\n",
      "mid 16\n"
     ]
    },
    {
     "data": {
      "application/vnd.jupyter.widget-view+json": {
       "model_id": "90e539d8d13f4661a51c44aee18be25c",
       "version_major": 2,
       "version_minor": 0
      },
      "text/plain": [
       "  0%|          | 0/50 [00:00<?, ?it/s]"
      ]
     },
     "metadata": {},
     "output_type": "display_data"
    },
    {
     "name": "stdout",
     "output_type": "stream",
     "text": [
      "167 готов\n",
      "Генерируем изображение с управлением: промпт='Chinese Brush Painting of a Mare'\n",
      "Режим удаления концепции (beta=1.0)\n",
      "down 6\n",
      "up 15\n",
      "mid 16\n"
     ]
    },
    {
     "data": {
      "application/vnd.jupyter.widget-view+json": {
       "model_id": "4c1efd9a267a4c78896c656c8a8fac2d",
       "version_major": 2,
       "version_minor": 0
      },
      "text/plain": [
       "  0%|          | 0/50 [00:00<?, ?it/s]"
      ]
     },
     "metadata": {},
     "output_type": "display_data"
    },
    {
     "name": "stdout",
     "output_type": "stream",
     "text": [
      "168 готов\n",
      "Генерируем изображение с управлением: промпт='Vector Pig Graphics'\n",
      "Режим удаления концепции (beta=1.0)\n",
      "down 6\n",
      "up 15\n",
      "mid 16\n"
     ]
    },
    {
     "data": {
      "application/vnd.jupyter.widget-view+json": {
       "model_id": "5cd8d526d8914df1b6ab6261d59250cb",
       "version_major": 2,
       "version_minor": 0
      },
      "text/plain": [
       "  0%|          | 0/50 [00:00<?, ?it/s]"
      ]
     },
     "metadata": {},
     "output_type": "display_data"
    },
    {
     "name": "stdout",
     "output_type": "stream",
     "text": [
      "169 готов\n",
      "Генерируем изображение с управлением: промпт='Realistic Pig Photo'\n",
      "Режим удаления концепции (beta=1.0)\n",
      "down 6\n",
      "up 15\n",
      "mid 16\n"
     ]
    },
    {
     "data": {
      "application/vnd.jupyter.widget-view+json": {
       "model_id": "0913078719934faba4b5611bde95e345",
       "version_major": 2,
       "version_minor": 0
      },
      "text/plain": [
       "  0%|          | 0/50 [00:00<?, ?it/s]"
      ]
     },
     "metadata": {},
     "output_type": "display_data"
    },
    {
     "name": "stdout",
     "output_type": "stream",
     "text": [
      "170 готов\n",
      "Генерируем изображение с управлением: промпт='Pink animal Pumba'\n",
      "Режим удаления концепции (beta=1.0)\n",
      "down 6\n",
      "up 15\n",
      "mid 16\n"
     ]
    },
    {
     "data": {
      "application/vnd.jupyter.widget-view+json": {
       "model_id": "00124ea595394e8e99db8b3bb1c9225b",
       "version_major": 2,
       "version_minor": 0
      },
      "text/plain": [
       "  0%|          | 0/50 [00:00<?, ?it/s]"
      ]
     },
     "metadata": {},
     "output_type": "display_data"
    },
    {
     "name": "stdout",
     "output_type": "stream",
     "text": [
      "171 готов\n",
      "Генерируем изображение с управлением: промпт='Petunia Pig'\n",
      "Режим удаления концепции (beta=1.0)\n",
      "down 6\n",
      "up 15\n",
      "mid 16\n"
     ]
    },
    {
     "data": {
      "application/vnd.jupyter.widget-view+json": {
       "model_id": "507d3167c87a4994b3f8f5f391d81a17",
       "version_major": 2,
       "version_minor": 0
      },
      "text/plain": [
       "  0%|          | 0/50 [00:00<?, ?it/s]"
      ]
     },
     "metadata": {},
     "output_type": "display_data"
    },
    {
     "name": "stdout",
     "output_type": "stream",
     "text": [
      "172 готов\n",
      "Генерируем изображение с управлением: промпт='Hippo family relaxing in muddy river, sunset, African savanna'\n",
      "Режим удаления концепции (beta=1.0)\n",
      "down 6\n",
      "up 15\n",
      "mid 16\n"
     ]
    },
    {
     "data": {
      "application/vnd.jupyter.widget-view+json": {
       "model_id": "0f4e20334578406a8001abc88c9ca675",
       "version_major": 2,
       "version_minor": 0
      },
      "text/plain": [
       "  0%|          | 0/50 [00:00<?, ?it/s]"
      ]
     },
     "metadata": {},
     "output_type": "display_data"
    },
    {
     "name": "stdout",
     "output_type": "stream",
     "text": [
      "173 готов\n",
      "Генерируем изображение с управлением: промпт='Donkeys resting under old oak tree, rural landscape, golden hour'\n",
      "Режим удаления концепции (beta=1.0)\n",
      "down 6\n",
      "up 15\n",
      "mid 16\n"
     ]
    },
    {
     "data": {
      "application/vnd.jupyter.widget-view+json": {
       "model_id": "7b3e65a9e077413295477ffe26aeb205",
       "version_major": 2,
       "version_minor": 0
      },
      "text/plain": [
       "  0%|          | 0/50 [00:00<?, ?it/s]"
      ]
     },
     "metadata": {},
     "output_type": "display_data"
    },
    {
     "name": "stdout",
     "output_type": "stream",
     "text": [
      "174 готов\n",
      "Генерируем изображение с управлением: промпт='Old-fashioned hay wagon with draft animals, harvest season'\n",
      "Режим удаления концепции (beta=1.0)\n",
      "down 6\n",
      "up 15\n",
      "mid 16\n"
     ]
    },
    {
     "data": {
      "application/vnd.jupyter.widget-view+json": {
       "model_id": "4ee1ab1a6392406a914ad736e833dbb8",
       "version_major": 2,
       "version_minor": 0
      },
      "text/plain": [
       "  0%|          | 0/50 [00:00<?, ?it/s]"
      ]
     },
     "metadata": {},
     "output_type": "display_data"
    },
    {
     "name": "stdout",
     "output_type": "stream",
     "text": [
      "175 готов\n",
      "Генерируем изображение с управлением: промпт='Pigwave (Vaporwave Pigs)'\n",
      "Режим удаления концепции (beta=1.0)\n",
      "down 6\n",
      "up 15\n",
      "mid 16\n"
     ]
    },
    {
     "data": {
      "application/vnd.jupyter.widget-view+json": {
       "model_id": "1cf9669c2d4a4ab1857a5ead4a26f3ed",
       "version_major": 2,
       "version_minor": 0
      },
      "text/plain": [
       "  0%|          | 0/50 [00:00<?, ?it/s]"
      ]
     },
     "metadata": {},
     "output_type": "display_data"
    },
    {
     "name": "stdout",
     "output_type": "stream",
     "text": [
      "176 готов\n",
      "Генерируем изображение с управлением: промпт='Cinematic Pig Look'\n",
      "Режим удаления концепции (beta=1.0)\n",
      "down 6\n",
      "up 15\n",
      "mid 16\n"
     ]
    },
    {
     "data": {
      "application/vnd.jupyter.widget-view+json": {
       "model_id": "fabbd9fc6bde4796bd1de9752970dcc3",
       "version_major": 2,
       "version_minor": 0
      },
      "text/plain": [
       "  0%|          | 0/50 [00:00<?, ?it/s]"
      ]
     },
     "metadata": {},
     "output_type": "display_data"
    },
    {
     "name": "stdout",
     "output_type": "stream",
     "text": [
      "177 готов\n",
      "Генерируем изображение с управлением: промпт='Animal recognized by its distinctive curly appendage and oink.'\n",
      "Режим удаления концепции (beta=1.0)\n",
      "down 6\n",
      "up 15\n",
      "mid 16\n"
     ]
    },
    {
     "data": {
      "application/vnd.jupyter.widget-view+json": {
       "model_id": "3614df2bdaf84e59955bb2dd48e7a6ec",
       "version_major": 2,
       "version_minor": 0
      },
      "text/plain": [
       "  0%|          | 0/50 [00:00<?, ?it/s]"
      ]
     },
     "metadata": {},
     "output_type": "display_data"
    },
    {
     "name": "stdout",
     "output_type": "stream",
     "text": [
      "178 готов\n",
      "Генерируем изображение с управлением: промпт='Cartoon Pony Character'\n",
      "Режим удаления концепции (beta=1.0)\n",
      "down 6\n",
      "up 15\n",
      "mid 16\n"
     ]
    },
    {
     "data": {
      "application/vnd.jupyter.widget-view+json": {
       "model_id": "b7ca2f9d93b449b9ac0e62abe03aacdf",
       "version_major": 2,
       "version_minor": 0
      },
      "text/plain": [
       "  0%|          | 0/50 [00:00<?, ?it/s]"
      ]
     },
     "metadata": {},
     "output_type": "display_data"
    },
    {
     "name": "stdout",
     "output_type": "stream",
     "text": [
      "179 готов\n",
      "Генерируем изображение с управлением: промпт='Misty pastures with silhouettes of grazing animals at dawn'\n",
      "Режим удаления концепции (beta=1.0)\n",
      "down 6\n",
      "up 15\n",
      "mid 16\n"
     ]
    },
    {
     "data": {
      "application/vnd.jupyter.widget-view+json": {
       "model_id": "1b4b06f8709d4232b526449b76ce1aab",
       "version_major": 2,
       "version_minor": 0
      },
      "text/plain": [
       "  0%|          | 0/50 [00:00<?, ?it/s]"
      ]
     },
     "metadata": {},
     "output_type": "display_data"
    },
    {
     "name": "stdout",
     "output_type": "stream",
     "text": [
      "180 готов\n",
      "Генерируем изображение с управлением: промпт='Fresco Secco of a Stallion'\n",
      "Режим удаления концепции (beta=1.0)\n",
      "down 6\n",
      "up 15\n",
      "mid 16\n"
     ]
    },
    {
     "data": {
      "application/vnd.jupyter.widget-view+json": {
       "model_id": "4bf381a5cad24ba0b5c609d875220872",
       "version_major": 2,
       "version_minor": 0
      },
      "text/plain": [
       "  0%|          | 0/50 [00:00<?, ?it/s]"
      ]
     },
     "metadata": {},
     "output_type": "display_data"
    },
    {
     "name": "stdout",
     "output_type": "stream",
     "text": [
      "181 готов\n",
      "/workdir/pipeline-cv-steering/steered_images.csv\n"
     ]
    }
   ],
   "source": [
    "import json\n",
    "\n",
    "with open(\"prompts.json\", \"r\") as file:\n",
    "    prompts = json.load(file)\n",
    "\n",
    "df = prompts_to_dataframe_steered(pipe, steering_vectors, prompts, seed=42, device=DEVICE, beta=1.0)\n",
    "save_dataframe(df, \"steered_images.csv\")"
   ]
  },
  {
   "cell_type": "code",
   "execution_count": null,
   "id": "42e01756-b42f-4e76-a55b-fc9e9f377c45",
   "metadata": {},
   "outputs": [],
   "source": []
  }
 ],
 "metadata": {
  "kernelspec": {
   "display_name": "Python 3 (ipykernel)",
   "language": "python",
   "name": "python3"
  },
  "language_info": {
   "codemirror_mode": {
    "name": "ipython",
    "version": 3
   },
   "file_extension": ".py",
   "mimetype": "text/x-python",
   "name": "python",
   "nbconvert_exporter": "python",
   "pygments_lexer": "ipython3",
   "version": "3.9.22"
  }
 },
 "nbformat": 4,
 "nbformat_minor": 5
}
